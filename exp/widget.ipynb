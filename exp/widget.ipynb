{
 "cells": [
  {
   "cell_type": "code",
   "execution_count": 1,
   "metadata": {},
   "outputs": [],
   "source": [
    "import ipywidgets as widgets\n",
    "\n",
    "# Use `Clear All Outputs` to re-render\n",
    "\n",
    "# https://ipywidgets.readthedocs.io/en/latest/examples/Widget%20List.html#selection-widgets\n",
    "# https://domino.ai/blog/interactive-dashboards-in-jupyter"
   ]
  },
  {
   "cell_type": "code",
   "execution_count": 2,
   "metadata": {},
   "outputs": [
    {
     "data": {
      "application/vnd.jupyter.widget-view+json": {
       "model_id": "0a4e009ab04b4d90a4b86c4de56b23ac",
       "version_major": 2,
       "version_minor": 0
      },
      "text/plain": [
       "ToggleButtons(description='Classify: Some text to classify', options=('Slodw', 'Regular', 'Fast'), tooltips=('…"
      ]
     },
     "execution_count": 2,
     "metadata": {},
     "output_type": "execute_result"
    }
   ],
   "source": [
    "text = \"Some text to classify\"\n",
    "widgets.ToggleButtons(\n",
    "    options=[\"Slodw\", \"Regular\", \"Fast\"],\n",
    "    description=f\"Classify: {text}\",\n",
    "    tooltips=[\"Description of slow\", \"Description of regular\", \"Description of fast\"],\n",
    ")"
   ]
  }
 ],
 "metadata": {
  "kernelspec": {
   "display_name": ".venv",
   "language": "python",
   "name": "python3"
  },
  "language_info": {
   "codemirror_mode": {
    "name": "ipython",
    "version": 3
   },
   "file_extension": ".py",
   "mimetype": "text/x-python",
   "name": "python",
   "nbconvert_exporter": "python",
   "pygments_lexer": "ipython3",
   "version": "3.11.3"
  },
  "orig_nbformat": 4
 },
 "nbformat": 4,
 "nbformat_minor": 2
}
