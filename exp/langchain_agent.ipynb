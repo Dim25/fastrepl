{
 "cells": [
  {
   "cell_type": "code",
   "execution_count": 7,
   "metadata": {},
   "outputs": [
    {
     "name": "stdout",
     "output_type": "stream",
     "text": [
      "Note: you may need to restart the kernel to use updated packages.\n"
     ]
    }
   ],
   "source": [
    "%pip install -qq langchain wikipedia"
   ]
  },
  {
   "cell_type": "code",
   "execution_count": 10,
   "metadata": {},
   "outputs": [
    {
     "name": "stdout",
     "output_type": "stream",
     "text": [
      "\n",
      "\n",
      "\u001b[1m> Entering new AgentExecutor chain...\u001b[0m\n",
      "\u001b[32;1m\u001b[1;3m\n",
      "Invoking: `Wikipedia` with `Seoul`\n",
      "\n",
      "\n",
      "\u001b[0m\u001b[36;1m\u001b[1;3mPage: Seoul\n",
      "Summary: Seoul (, Korean: [sʌul] (listen); lit. 'Capital'), officially known as the Seoul Special City, is the capital and largest metropolis of the Republic of Korea (South Korea). According to the 2020 census, Seoul has a population of 9.9 million people, and forms the heart of the Seoul Capital Area with the surrounding Incheon metropolis and Gyeonggi province. Considered to be a global city and rated as an Alpha – City by Globalization and World Cities Research Network (GaWC), Seoul was the world's fourth largest metropolitan economy in 2014, following Tokyo, New York City and Los Angeles.\n",
      "Seoul was rated Asia's most livable city with the second highest quality of life globally by Arcadis in 2015, with a GDP per capita (PPP) of around $40,000. With major technology hubs centered in Gangnam and Digital Media City, the Seoul Capital Area is home to the headquarters of 15 Fortune Global 500 companies, including Samsung, LG, and Hyundai. Ranked seventh in the Global Power City Index and Global Financial Centres Index, the metropolis exerts a major influence in global affairs as one of the five leading hosts of global conferences. Seoul has hosted the 1986 Asian Games, 1988 Summer Olympics, and the 2010 G20 Seoul summit.\n",
      "Seoul was the capital of various Korean states, including Baekje, Joseon, the Korean Empire, Goryeo (as a secondary capital), and presently South Korea. It is strategically located along the Han River. Seoul's history stretches back over two thousand years, when it was founded in 18 BC by the people of Baekje, one of the Three Kingdoms of Korea. The city was later designated the capital of Korea under the Joseon dynasty. Seoul is surrounded by a mountainous and hilly landscape, with Bukhan Mountain located on the northern edge of the city. The Seoul Capital Area contains five UNESCO World Heritage Sites: Changdeok Palace, Hwaseong Fortress, Jongmyo Shrine, Namhansanseong and the Royal Tombs of the Joseon Dynasty. More recently, Seoul has been a major site of modern architectural construction – major modern landmarks include the N Seoul Tower, the 63 Building, the Lotte World Tower, the Dongdaemun Design Plaza, Lotte World, Trade Tower, COEX, IFC Seoul, and the Parc1. Seoul was named the 2010 World Design Capital. It is the birthplace of K-pop and the Korean wave, as the city is a center for Korean culture with numerous entertainment companies.\n",
      "\n",
      "Page: N Seoul Tower\n",
      "Summary: The N Seoul Tower (Korean: N 서울타워), officially the YTN Seoul Tower and commonly known as Namsan Tower or Seoul Tower, is a communication and observation tower located on Nam Mountain in central Seoul, South Korea. The 236-meter (774 ft)-tall tower marks the second highest point in Seoul and is considered a local landmark.Built in 1969, the N Seoul Tower is South Korea's first general radio wave tower, providing TV and radio broadcasting in Seoul. Currently, the tower broadcasts signals for Korean media outlets, such as KBS, MBC, and SBS.\n",
      "\n",
      "Page: FC Seoul\n",
      "Summary: FC Seoul (Korean: FC 서울) is a South Korean professional football club based in Seoul that competes in the K League 1, the top flight of South Korean football. The club is owned by GS Sports, a subsidiary of GS Group. Since 2004, FC Seoul have played its home games at the Seoul World Cup Stadium in Seoul's Mapo District.\n",
      "The club was founded as Lucky-Goldstar Football Club in 1983, by the Lucky-Goldstar Group, and was later renamed as LG Cheetahs in 1990. Due to the K League decentralization policy in 1996, the club was relocated to the Seoul's satellite city of Anyang for eight years, before returning to Seoul in 2004. FC Seoul have won six K League titles, two FA Cups, two League Cups and one Super Cup. Internationally, the club reached the AFC Champions League final on two occasions, in 2001–02 and 2013.\n",
      "FC Seoul is one of the most successful and popular clubs in the K League 1, with financial backing from the GS Group. In 2012, the club was evaluated as the most valuabl\u001b[0m\u001b[32;1m\u001b[1;3mHere are three things about Seoul, the capital city of South Korea:\n",
      "\n",
      "1. Population and Economy: Seoul has a population of 9.9 million people, making it the largest metropolis in South Korea. It is the heart of the Seoul Capital Area, which includes the surrounding Incheon metropolis and Gyeonggi province. Seoul is considered a global city and has a strong economy. It was the world's fourth-largest metropolitan economy in 2014, following Tokyo, New York City, and Los Angeles. The city is home to the headquarters of 15 Fortune Global 500 companies, including Samsung, LG, and Hyundai.\n",
      "\n",
      "2. Livability and Quality of Life: Seoul has been rated as Asia's most livable city and has the second-highest quality of life globally. It was evaluated by Arcadis in 2015 and has a GDP per capita (PPP) of around $40,000. The city has modern infrastructure and amenities, with major technology hubs centered in areas like Gangnam and Digital Media City. Seoul offers a high standard of living and a wide range of cultural and entertainment options.\n",
      "\n",
      "3. Landmarks and History: Seoul has a rich history that stretches back over two thousand years. It was founded in 18 BC and has been the capital of various Korean states, including Baekje, Joseon, the Korean Empire, and Goryeo. The city is strategically located along the Han River and is surrounded by a mountainous and hilly landscape. Seoul is known for its historical sites, including UNESCO World Heritage Sites such as Changdeok Palace, Hwaseong Fortress, Jongmyo Shrine, Namhansanseong, and the Royal Tombs of the Joseon Dynasty. The city is also home to modern architectural landmarks like the N Seoul Tower, the 63 Building, and the Dongdaemun Design Plaza.\u001b[0m\n",
      "\n",
      "\u001b[1m> Finished chain.\u001b[0m\n",
      "Here are three things about Seoul, the capital city of South Korea:\n",
      "\n",
      "1. Population and Economy: Seoul has a population of 9.9 million people, making it the largest metropolis in South Korea. It is the heart of the Seoul Capital Area, which includes the surrounding Incheon metropolis and Gyeonggi province. Seoul is considered a global city and has a strong economy. It was the world's fourth-largest metropolitan economy in 2014, following Tokyo, New York City, and Los Angeles. The city is home to the headquarters of 15 Fortune Global 500 companies, including Samsung, LG, and Hyundai.\n",
      "\n",
      "2. Livability and Quality of Life: Seoul has been rated as Asia's most livable city and has the second-highest quality of life globally. It was evaluated by Arcadis in 2015 and has a GDP per capita (PPP) of around $40,000. The city has modern infrastructure and amenities, with major technology hubs centered in areas like Gangnam and Digital Media City. Seoul offers a high standard of living and a wide range of cultural and entertainment options.\n",
      "\n",
      "3. Landmarks and History: Seoul has a rich history that stretches back over two thousand years. It was founded in 18 BC and has been the capital of various Korean states, including Baekje, Joseon, the Korean Empire, and Goryeo. The city is strategically located along the Han River and is surrounded by a mountainous and hilly landscape. Seoul is known for its historical sites, including UNESCO World Heritage Sites such as Changdeok Palace, Hwaseong Fortress, Jongmyo Shrine, Namhansanseong, and the Royal Tombs of the Joseon Dynasty. The city is also home to modern architectural landmarks like the N Seoul Tower, the 63 Building, and the Dongdaemun Design Plaza.\n"
     ]
    }
   ],
   "source": [
    "from langchain.utilities import WikipediaAPIWrapper\n",
    "from langchain.tools import WikipediaQueryRun\n",
    "from langchain.agents import initialize_agent, Tool, AgentType\n",
    "from langchain.chat_models import ChatOpenAI\n",
    "from langchain.callbacks import StdOutCallbackHandler\n",
    "\n",
    "# https://github.com/langchain-ai/langchain/tree/master/libs/langchain/langchain/callbacks\n",
    "\n",
    "wikipedia = WikipediaQueryRun(api_wrapper=WikipediaAPIWrapper())  # type: ignore\n",
    "tools = [\n",
    "    Tool(\n",
    "        name=wikipedia.name,\n",
    "        description=wikipedia.description,\n",
    "        func=wikipedia.run,\n",
    "    ),\n",
    "]\n",
    "llm = ChatOpenAI(\n",
    "    temperature=0, model=\"gpt-3.5-turbo-0613\", callbacks=[StdOutCallbackHandler()]\n",
    ")\n",
    "\n",
    "agent = initialize_agent(\n",
    "    tools,\n",
    "    llm,\n",
    "    agent=AgentType.OPENAI_FUNCTIONS,\n",
    "    verbose=True,\n",
    ")\n",
    "\n",
    "if __name__ == \"__main__\":\n",
    "    print(agent.run(\"Name 3 things about South Korea's capital city\"))"
   ]
  }
 ],
 "metadata": {
  "kernelspec": {
   "display_name": ".venv",
   "language": "python",
   "name": "python3"
  },
  "language_info": {
   "codemirror_mode": {
    "name": "ipython",
    "version": 3
   },
   "file_extension": ".py",
   "mimetype": "text/x-python",
   "name": "python",
   "nbconvert_exporter": "python",
   "pygments_lexer": "ipython3",
   "version": "3.11.3"
  },
  "orig_nbformat": 4
 },
 "nbformat": 4,
 "nbformat_minor": 2
}
