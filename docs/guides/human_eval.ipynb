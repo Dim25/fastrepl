{
 "cells": [
  {
   "cell_type": "markdown",
   "metadata": {},
   "source": [
    "# Human Evaluation\n",
    "Nothing can beat human evaluation in terms of quality. We need better ways to leverge it.\n",
    "\n",
    "## Using Rich\n",
    "`HumanClassifierRich` uses [Textualize/rich](https://github.com/Textualize/rich) to get input in both terminal and notebook."
   ]
  },
  {
   "cell_type": "code",
   "execution_count": 1,
   "metadata": {},
   "outputs": [],
   "source": [
    "import fastrepl.repl as fastrepl"
   ]
  },
  {
   "cell_type": "code",
   "execution_count": 5,
   "metadata": {},
   "outputs": [],
   "source": [
    "eval = fastrepl.HumanClassifierRich(\n",
    "    labels={\n",
    "        \"POSITIVE\": \"given text is positive\",\n",
    "        \"NEGATIVE\": \"given text is negative\",\n",
    "    }\n",
    ")"
   ]
  },
  {
   "cell_type": "code",
   "execution_count": 6,
   "metadata": {},
   "outputs": [
    {
     "data": {
      "text/html": [
       "<pre style=\"white-space:pre;overflow-x:auto;line-height:normal;font-family:Menlo,'DejaVu Sans Mono',consolas,'Courier New',monospace\"><span style=\"color: #ff00ff; text-decoration-color: #ff00ff\">Classify the following sample:</span>\n",
       "\n",
       "Nice to meet you!\n",
       "\n",
       " <span style=\"color: #800080; text-decoration-color: #800080; font-weight: bold\">[POSITIVE/NEGATIVE]</span>: </pre>\n"
      ],
      "text/plain": [
       "\u001b[95mClassify the following sample:\u001b[0m\n",
       "\n",
       "Nice to meet you!\n",
       "\n",
       " \u001b[1;35m[POSITIVE/NEGATIVE]\u001b[0m: "
      ]
     },
     "metadata": {},
     "output_type": "display_data"
    },
    {
     "data": {
      "text/plain": [
       "'POSITIVE'"
      ]
     },
     "execution_count": 6,
     "metadata": {},
     "output_type": "execute_result"
    }
   ],
   "source": [
    "eval.compute(\"Nice to meet you!\")"
   ]
  },
  {
   "cell_type": "code",
   "execution_count": 7,
   "metadata": {},
   "outputs": [
    {
     "data": {
      "text/html": [
       "<pre style=\"white-space:pre;overflow-x:auto;line-height:normal;font-family:Menlo,'DejaVu Sans Mono',consolas,'Courier New',monospace\"><span style=\"color: #ff00ff; text-decoration-color: #ff00ff\">Classify the following sample:</span>\n",
       "\n",
       "Nice to meet you!\n",
       "\n",
       " <span style=\"color: #800080; text-decoration-color: #800080; font-weight: bold\">[NEGATIVE/POSITIVE]</span> <span style=\"color: #008080; text-decoration-color: #008080; font-weight: bold\">(NEGATIVE)</span>: </pre>\n"
      ],
      "text/plain": [
       "\u001b[95mClassify the following sample:\u001b[0m\n",
       "\n",
       "Nice to meet you!\n",
       "\n",
       " \u001b[1;35m[NEGATIVE/POSITIVE]\u001b[0m \u001b[1;36m(NEGATIVE)\u001b[0m: "
      ]
     },
     "metadata": {},
     "output_type": "display_data"
    },
    {
     "data": {
      "text/plain": [
       "'NEGATIVE'"
      ]
     },
     "execution_count": 7,
     "metadata": {},
     "output_type": "execute_result"
    }
   ],
   "source": [
    "eval.compute(\"Nice to meet you!\", \"NEGATIVE\")"
   ]
  }
 ],
 "metadata": {
  "kernelspec": {
   "display_name": ".venv",
   "language": "python",
   "name": "python3"
  },
  "language_info": {
   "codemirror_mode": {
    "name": "ipython",
    "version": 3
   },
   "file_extension": ".py",
   "mimetype": "text/x-python",
   "name": "python",
   "nbconvert_exporter": "python",
   "pygments_lexer": "ipython3",
   "version": "3.11.3"
  },
  "orig_nbformat": 4
 },
 "nbformat": 4,
 "nbformat_minor": 2
}
