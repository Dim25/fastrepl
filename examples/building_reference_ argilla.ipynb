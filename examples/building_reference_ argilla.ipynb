{
 "cells": [
  {
   "cell_type": "code",
   "execution_count": 1,
   "metadata": {},
   "outputs": [
    {
     "name": "stdout",
     "output_type": "stream",
     "text": [
      "Note: you may need to restart the kernel to use updated packages.\n"
     ]
    }
   ],
   "source": [
    "%pip install -qq \"argilla==1.14.0\"\n",
    "\n",
    "# https://docs.argilla.io/en/v1.14.0/getting_started/quickstart_workflow.html"
   ]
  },
  {
   "cell_type": "code",
   "execution_count": 6,
   "metadata": {},
   "outputs": [],
   "source": [
    "import argilla as rg\n",
    "\n",
    "API_URL = \"TODO\"\n",
    "API_KEY = \"TODO\"\n",
    "WORKSPACE = \"TODO\"\n",
    "\n",
    "rg.init(\n",
    "    api_url=API_URL,\n",
    "    api_key=API_KEY,\n",
    "    workspace=WORKSPACE,\n",
    ")"
   ]
  },
  {
   "cell_type": "code",
   "execution_count": 9,
   "metadata": {},
   "outputs": [
    {
     "data": {
      "text/plain": [
       "    text             inputs prediction prediction_agent          annotation  \\\n",
       "0  text1  {'text': 'text1'}       None             None           [label_1]   \n",
       "1  text2  {'text': 'text2'}       None             None           [label_2]   \n",
       "2  text3  {'text': 'text3'}       None             None  [label_1, label_2]   \n",
       "\n",
       "  annotation_agent vectors  multi_label explanation  \\\n",
       "0             None    None        False        None   \n",
       "1             None    None        False        None   \n",
       "2             None    None        False        None   \n",
       "\n",
       "                                     id metadata     status  \\\n",
       "0  e3c0c224-4f61-4d14-94cc-e5ffe7720f63       {}  Validated   \n",
       "1  08c77251-213c-45c4-9d11-5cda5394015b       {}  Validated   \n",
       "2  3a54d0c0-014e-40d4-b4ff-01577ff5286b       {}  Validated   \n",
       "\n",
       "             event_timestamp metrics search_keywords  \n",
       "0 2023-08-23 13:59:29.219306    None            None  \n",
       "1 2023-08-23 13:59:29.219423    None            None  \n",
       "2 2023-08-23 13:59:29.219599    None            None  "
      ]
     },
     "execution_count": 9,
     "metadata": {},
     "output_type": "execute_result"
    }
   ],
   "source": [
    "from datasets import Dataset\n",
    "from argilla import DatasetForTextClassification, TextClassificationRecord\n",
    "\n",
    "# If using `from_datasets` of `DatasetForTextClassification`, only fields in `TextClassificationRecord` are supported.\n",
    "assert list(TextClassificationRecord.__fields__.keys()) == [\n",
    "    \"text\",\n",
    "    \"inputs\",\n",
    "    \"prediction\",\n",
    "    \"prediction_agent\",\n",
    "    \"annotation\",\n",
    "    \"annotation_agent\",\n",
    "    \"vectors\",\n",
    "    \"multi_label\",\n",
    "    \"explanation\",\n",
    "    \"id\",\n",
    "    \"metadata\",\n",
    "    \"status\",\n",
    "    \"event_timestamp\",\n",
    "    \"metrics\",\n",
    "    \"search_keywords\",\n",
    "]\n",
    "\n",
    "hf_ds = Dataset.from_dict(\n",
    "    {\n",
    "        \"text\": [\"text1\", \"text2\", \"text3\"],\n",
    "        \"annotation\": [[\"label_1\"], [\"label_2\"], [\"label_1\", \"label_2\"]],\n",
    "    }\n",
    ")\n",
    "\n",
    "rg_ds = DatasetForTextClassification.from_datasets(hf_ds)\n",
    "rg_ds"
   ]
  },
  {
   "cell_type": "code",
   "execution_count": null,
   "metadata": {},
   "outputs": [],
   "source": [
    "DATASET_NAME = \"TODO\"\n",
    "\n",
    "# send dataset to Argilla\n",
    "rg.log(rg_ds, name=DATASET_NAME, workspace=WORKSPACE)"
   ]
  },
  {
   "cell_type": "code",
   "execution_count": null,
   "metadata": {},
   "outputs": [],
   "source": [
    "record = TextClassificationRecord(\n",
    "    text=\"Hello world, this is me!\",\n",
    "    annotation=[\"label_1\"],\n",
    "    multi_label=True,\n",
    ")\n",
    "\n",
    "# send record to Argilla\n",
    "rg.log(record, name=DATASET_NAME, workspace=WORKSPACE)"
   ]
  },
  {
   "cell_type": "code",
   "execution_count": null,
   "metadata": {},
   "outputs": [],
   "source": [
    "# You can always get it back\n",
    "rg_ds = rg.load(DATASET_NAME)\n",
    "hf_ds = rg_ds.to_datasets()"
   ]
  }
 ],
 "metadata": {
  "kernelspec": {
   "display_name": ".venv",
   "language": "python",
   "name": "python3"
  },
  "language_info": {
   "codemirror_mode": {
    "name": "ipython",
    "version": 3
   },
   "file_extension": ".py",
   "mimetype": "text/x-python",
   "name": "python",
   "nbconvert_exporter": "python",
   "pygments_lexer": "ipython3",
   "version": "3.11.3"
  },
  "orig_nbformat": 4
 },
 "nbformat": 4,
 "nbformat_minor": 2
}
