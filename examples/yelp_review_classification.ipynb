{
 "cells": [
  {
   "cell_type": "code",
   "execution_count": 1,
   "metadata": {},
   "outputs": [],
   "source": [
    "import fastrepl.repl as fastrepl\n",
    "\n",
    "fastrepl.LLMCache.disable()\n",
    "fastrepl.DEBUG(0)"
   ]
  },
  {
   "cell_type": "code",
   "execution_count": 2,
   "metadata": {},
   "outputs": [],
   "source": [
    "from IPython.display import clear_output"
   ]
  },
  {
   "cell_type": "code",
   "execution_count": 3,
   "metadata": {},
   "outputs": [],
   "source": [
    "from datasets import load_dataset\n",
    "\n",
    "dataset = load_dataset(\"yelp_review_full\", split=\"test\")\n",
    "dataset = dataset.shuffle(seed=8)\n",
    "dataset = dataset.select(range(20))\n",
    "dataset = dataset.rename_column(\"text\", \"input\")\n",
    "dataset = dataset.map(\n",
    "    lambda row: {\"reference\": row[\"label\"] + 1, \"input\": row[\"input\"]},\n",
    "    remove_columns=[\"label\"],\n",
    ")"
   ]
  },
  {
   "cell_type": "code",
   "execution_count": 4,
   "metadata": {},
   "outputs": [],
   "source": [
    "labels = {\n",
    "    \"FIVE_STARS\": \"given review is likely to be 5 stars\",\n",
    "    \"FOUR_STARS\": \"given review is likely to be 4 stars\",\n",
    "    \"THREE_STARS\": \"given review is likely to be 3 stars\",\n",
    "    \"TWO_STARS\": \"given review is likely to be 2 stars\",\n",
    "    \"ONE_STAR\": \"given review is likely to be 1 star\",\n",
    "}\n",
    "\n",
    "\n",
    "def label_to_score(example):\n",
    "    label = example[\"prediction\"]\n",
    "    if label is None:\n",
    "        example[\"prediction\"] = 0\n",
    "    else:\n",
    "        example[\"prediction\"] = {\n",
    "            \"FIVE_STARS\": 5,\n",
    "            \"FOUR_STARS\": 4,\n",
    "            \"THREE_STARS\": 3,\n",
    "            \"TWO_STARS\": 2,\n",
    "            \"ONE_STAR\": 1,\n",
    "        }[label]\n",
    "\n",
    "    return example"
   ]
  },
  {
   "cell_type": "code",
   "execution_count": 5,
   "metadata": {},
   "outputs": [],
   "source": [
    "def print_metric(metric_name, predictions, references):\n",
    "    metric = fastrepl.load_metric(metric_name)\n",
    "    result = metric.compute(predictions=predictions, references=references)\n",
    "    print(f\"{metric_name}: {result[metric_name]}\")"
   ]
  },
  {
   "cell_type": "code",
   "execution_count": 6,
   "metadata": {},
   "outputs": [
    {
     "data": {
      "application/vnd.jupyter.widget-view+json": {
       "model_id": "89c4ff80bfee46f8b77fb8943205ca78",
       "version_major": 2,
       "version_minor": 0
      },
      "text/plain": [
       "Output()"
      ]
     },
     "metadata": {},
     "output_type": "display_data"
    },
    {
     "data": {
      "text/html": [
       "<pre style=\"white-space:pre;overflow-x:auto;line-height:normal;font-family:Menlo,'DejaVu Sans Mono',consolas,'Courier New',monospace\">/Users/yujonglee/dev/fastrepl/fastrepl/fastrepl/llm.py:140: UserWarning: gpt-3.5-turbo completion truncated due to \n",
       "length\n",
       "  warnings.warn(f\"{maybe_fallback} completion truncated due to length\")\n",
       "</pre>\n"
      ],
      "text/plain": [
       "/Users/yujonglee/dev/fastrepl/fastrepl/fastrepl/llm.py:140: UserWarning: gpt-3.5-turbo completion truncated due to \n",
       "length\n",
       "  warnings.warn(f\"{maybe_fallback} completion truncated due to length\")\n"
      ]
     },
     "metadata": {},
     "output_type": "display_data"
    },
    {
     "data": {
      "text/html": [
       "<pre style=\"white-space:pre;overflow-x:auto;line-height:normal;font-family:Menlo,'DejaVu Sans Mono',consolas,'Courier New',monospace\"></pre>\n"
      ],
      "text/plain": []
     },
     "metadata": {},
     "output_type": "display_data"
    },
    {
     "data": {
      "text/html": [
       "<pre style=\"white-space:pre;overflow-x:auto;line-height:normal;font-family:Menlo,'DejaVu Sans Mono',consolas,'Courier New',monospace\">\n",
       "</pre>\n"
      ],
      "text/plain": [
       "\n"
      ]
     },
     "metadata": {},
     "output_type": "display_data"
    },
    {
     "data": {
      "application/vnd.jupyter.widget-view+json": {
       "model_id": "b812e792039640bd9f6e23d9ce9eff43",
       "version_major": 2,
       "version_minor": 0
      },
      "text/plain": [
       "Map:   0%|          | 0/20 [00:00<?, ? examples/s]"
      ]
     },
     "metadata": {},
     "output_type": "display_data"
    },
    {
     "name": "stdout",
     "output_type": "stream",
     "text": [
      "accuracy: 0.2\n",
      "mse: 4.55\n",
      "mae: 1.75\n"
     ]
    },
    {
     "data": {
      "text/html": [
       "<div>\n",
       "<style scoped>\n",
       "    .dataframe tbody tr th:only-of-type {\n",
       "        vertical-align: middle;\n",
       "    }\n",
       "\n",
       "    .dataframe tbody tr th {\n",
       "        vertical-align: top;\n",
       "    }\n",
       "\n",
       "    .dataframe thead th {\n",
       "        text-align: right;\n",
       "    }\n",
       "</style>\n",
       "<table border=\"1\" class=\"dataframe\">\n",
       "  <thead>\n",
       "    <tr style=\"text-align: right;\">\n",
       "      <th></th>\n",
       "      <th>input</th>\n",
       "      <th>reference</th>\n",
       "      <th>prediction</th>\n",
       "    </tr>\n",
       "  </thead>\n",
       "  <tbody>\n",
       "    <tr>\n",
       "      <th>0</th>\n",
       "      <td>Stayed at the Wm Penn down the street for a we...</td>\n",
       "      <td>5</td>\n",
       "      <td>5</td>\n",
       "    </tr>\n",
       "    <tr>\n",
       "      <th>1</th>\n",
       "      <td>We tried out the lunch specials and found them...</td>\n",
       "      <td>4</td>\n",
       "      <td>4</td>\n",
       "    </tr>\n",
       "    <tr>\n",
       "      <th>2</th>\n",
       "      <td>Should have known better than to eat in a plac...</td>\n",
       "      <td>1</td>\n",
       "      <td>3</td>\n",
       "    </tr>\n",
       "    <tr>\n",
       "      <th>3</th>\n",
       "      <td>This place has sure changed...and not for the ...</td>\n",
       "      <td>2</td>\n",
       "      <td>2</td>\n",
       "    </tr>\n",
       "    <tr>\n",
       "      <th>4</th>\n",
       "      <td>I've been bringing my son to the owner Michael...</td>\n",
       "      <td>5</td>\n",
       "      <td>3</td>\n",
       "    </tr>\n",
       "    <tr>\n",
       "      <th>5</th>\n",
       "      <td>The trip to the location takes two busses and ...</td>\n",
       "      <td>1</td>\n",
       "      <td>4</td>\n",
       "    </tr>\n",
       "    <tr>\n",
       "      <th>6</th>\n",
       "      <td>This restaurant was suggested to me by a frien...</td>\n",
       "      <td>4</td>\n",
       "      <td>5</td>\n",
       "    </tr>\n",
       "    <tr>\n",
       "      <th>7</th>\n",
       "      <td>This place is unique because you are sitting o...</td>\n",
       "      <td>3</td>\n",
       "      <td>1</td>\n",
       "    </tr>\n",
       "    <tr>\n",
       "      <th>8</th>\n",
       "      <td>Whew, $10 for a whiskey ginger ale and $18 for...</td>\n",
       "      <td>3</td>\n",
       "      <td>2</td>\n",
       "    </tr>\n",
       "    <tr>\n",
       "      <th>9</th>\n",
       "      <td>Loove me some Pei Wei! Boyfriend isn't a fan, ...</td>\n",
       "      <td>4</td>\n",
       "      <td>1</td>\n",
       "    </tr>\n",
       "    <tr>\n",
       "      <th>10</th>\n",
       "      <td>I have been looking for a perfect Thai food re...</td>\n",
       "      <td>5</td>\n",
       "      <td>2</td>\n",
       "    </tr>\n",
       "    <tr>\n",
       "      <th>11</th>\n",
       "      <td>This restaurant has a nice classic American de...</td>\n",
       "      <td>4</td>\n",
       "      <td>4</td>\n",
       "    </tr>\n",
       "    <tr>\n",
       "      <th>12</th>\n",
       "      <td>DH was getting pizza at #1 Brothers so I origi...</td>\n",
       "      <td>4</td>\n",
       "      <td>1</td>\n",
       "    </tr>\n",
       "    <tr>\n",
       "      <th>13</th>\n",
       "      <td>A EVITER !\\n\\nNous avons attendu 2h45 pour avo...</td>\n",
       "      <td>1</td>\n",
       "      <td>4</td>\n",
       "    </tr>\n",
       "    <tr>\n",
       "      <th>14</th>\n",
       "      <td>DO NOT ORDER FROM VITACOST!!!\\n\\nI have never ...</td>\n",
       "      <td>1</td>\n",
       "      <td>3</td>\n",
       "    </tr>\n",
       "    <tr>\n",
       "      <th>15</th>\n",
       "      <td>Went here today to get some sushi grade salmon...</td>\n",
       "      <td>4</td>\n",
       "      <td>5</td>\n",
       "    </tr>\n",
       "    <tr>\n",
       "      <th>16</th>\n",
       "      <td>Lots of hands on stuff to do and explore. My f...</td>\n",
       "      <td>4</td>\n",
       "      <td>3</td>\n",
       "    </tr>\n",
       "    <tr>\n",
       "      <th>17</th>\n",
       "      <td>I just started working at a corporate office i...</td>\n",
       "      <td>2</td>\n",
       "      <td>5</td>\n",
       "    </tr>\n",
       "    <tr>\n",
       "      <th>18</th>\n",
       "      <td>Went to this place and it is the bomb. I had s...</td>\n",
       "      <td>5</td>\n",
       "      <td>1</td>\n",
       "    </tr>\n",
       "    <tr>\n",
       "      <th>19</th>\n",
       "      <td>I was never really a fan of Hamburgers so my r...</td>\n",
       "      <td>4</td>\n",
       "      <td>5</td>\n",
       "    </tr>\n",
       "  </tbody>\n",
       "</table>\n",
       "</div>"
      ],
      "text/plain": [
       "                                                input  reference  prediction\n",
       "0   Stayed at the Wm Penn down the street for a we...          5           5\n",
       "1   We tried out the lunch specials and found them...          4           4\n",
       "2   Should have known better than to eat in a plac...          1           3\n",
       "3   This place has sure changed...and not for the ...          2           2\n",
       "4   I've been bringing my son to the owner Michael...          5           3\n",
       "5   The trip to the location takes two busses and ...          1           4\n",
       "6   This restaurant was suggested to me by a frien...          4           5\n",
       "7   This place is unique because you are sitting o...          3           1\n",
       "8   Whew, $10 for a whiskey ginger ale and $18 for...          3           2\n",
       "9   Loove me some Pei Wei! Boyfriend isn't a fan, ...          4           1\n",
       "10  I have been looking for a perfect Thai food re...          5           2\n",
       "11  This restaurant has a nice classic American de...          4           4\n",
       "12  DH was getting pizza at #1 Brothers so I origi...          4           1\n",
       "13  A EVITER !\\n\\nNous avons attendu 2h45 pour avo...          1           4\n",
       "14  DO NOT ORDER FROM VITACOST!!!\\n\\nI have never ...          1           3\n",
       "15  Went here today to get some sushi grade salmon...          4           5\n",
       "16  Lots of hands on stuff to do and explore. My f...          4           3\n",
       "17  I just started working at a corporate office i...          2           5\n",
       "18  Went to this place and it is the bomb. I had s...          5           1\n",
       "19  I was never really a fan of Hamburgers so my r...          4           5"
      ]
     },
     "execution_count": 6,
     "metadata": {},
     "output_type": "execute_result"
    }
   ],
   "source": [
    "clear_output(wait=True)\n",
    "\n",
    "eval1 = fastrepl.Evaluator(\n",
    "    pipeline=[\n",
    "        fastrepl.LLMClassificationHead(\n",
    "            model=\"gpt-3.5-turbo\",\n",
    "            context=\"You will get a input text from Yelp review. Classify it using the labels.\",\n",
    "            labels=labels,\n",
    "            position_debias_strategy=\"shuffle\",\n",
    "        )\n",
    "    ]\n",
    ")\n",
    "\n",
    "result1 = fastrepl.LocalRunner(evaluator=eval1, dataset=dataset).run()\n",
    "result1 = result1.map(label_to_score)\n",
    "\n",
    "print_metric(\"accuracy\", result1[\"prediction\"], result1[\"reference\"])\n",
    "print_metric(\"mse\", result1[\"prediction\"], result1[\"reference\"])\n",
    "print_metric(\"mae\", result1[\"prediction\"], result1[\"reference\"])\n",
    "\n",
    "result1.to_pandas()"
   ]
  },
  {
   "cell_type": "code",
   "execution_count": 7,
   "metadata": {},
   "outputs": [
    {
     "data": {
      "application/vnd.jupyter.widget-view+json": {
       "model_id": "77540a45205e4e6c81d16203512ffb52",
       "version_major": 2,
       "version_minor": 0
      },
      "text/plain": [
       "Output()"
      ]
     },
     "metadata": {},
     "output_type": "display_data"
    },
    {
     "data": {
      "text/html": [
       "<pre style=\"white-space:pre;overflow-x:auto;line-height:normal;font-family:Menlo,'DejaVu Sans Mono',consolas,'Courier New',monospace\">/Users/yujonglee/dev/fastrepl/fastrepl/fastrepl/llm.py:140: UserWarning: gpt-3.5-turbo completion truncated due to \n",
       "length\n",
       "  warnings.warn(f\"{maybe_fallback} completion truncated due to length\")\n",
       "</pre>\n"
      ],
      "text/plain": [
       "/Users/yujonglee/dev/fastrepl/fastrepl/fastrepl/llm.py:140: UserWarning: gpt-3.5-turbo completion truncated due to \n",
       "length\n",
       "  warnings.warn(f\"{maybe_fallback} completion truncated due to length\")\n"
      ]
     },
     "metadata": {},
     "output_type": "display_data"
    },
    {
     "data": {
      "text/html": [
       "<pre style=\"white-space:pre;overflow-x:auto;line-height:normal;font-family:Menlo,'DejaVu Sans Mono',consolas,'Courier New',monospace\"></pre>\n"
      ],
      "text/plain": []
     },
     "metadata": {},
     "output_type": "display_data"
    },
    {
     "data": {
      "text/html": [
       "<pre style=\"white-space:pre;overflow-x:auto;line-height:normal;font-family:Menlo,'DejaVu Sans Mono',consolas,'Courier New',monospace\">\n",
       "</pre>\n"
      ],
      "text/plain": [
       "\n"
      ]
     },
     "metadata": {},
     "output_type": "display_data"
    },
    {
     "data": {
      "application/vnd.jupyter.widget-view+json": {
       "model_id": "7442c493c3464e919aae9215e40321da",
       "version_major": 2,
       "version_minor": 0
      },
      "text/plain": [
       "Map:   0%|          | 0/20 [00:00<?, ? examples/s]"
      ]
     },
     "metadata": {},
     "output_type": "display_data"
    },
    {
     "name": "stdout",
     "output_type": "stream",
     "text": [
      "accuracy: 0.2\n",
      "mse: 4.75\n",
      "mae: 1.75\n"
     ]
    },
    {
     "data": {
      "text/html": [
       "<div>\n",
       "<style scoped>\n",
       "    .dataframe tbody tr th:only-of-type {\n",
       "        vertical-align: middle;\n",
       "    }\n",
       "\n",
       "    .dataframe tbody tr th {\n",
       "        vertical-align: top;\n",
       "    }\n",
       "\n",
       "    .dataframe thead th {\n",
       "        text-align: right;\n",
       "    }\n",
       "</style>\n",
       "<table border=\"1\" class=\"dataframe\">\n",
       "  <thead>\n",
       "    <tr style=\"text-align: right;\">\n",
       "      <th></th>\n",
       "      <th>input</th>\n",
       "      <th>reference</th>\n",
       "      <th>prediction</th>\n",
       "    </tr>\n",
       "  </thead>\n",
       "  <tbody>\n",
       "    <tr>\n",
       "      <th>0</th>\n",
       "      <td>Stayed at the Wm Penn down the street for a we...</td>\n",
       "      <td>5</td>\n",
       "      <td>1</td>\n",
       "    </tr>\n",
       "    <tr>\n",
       "      <th>1</th>\n",
       "      <td>We tried out the lunch specials and found them...</td>\n",
       "      <td>4</td>\n",
       "      <td>3</td>\n",
       "    </tr>\n",
       "    <tr>\n",
       "      <th>2</th>\n",
       "      <td>Should have known better than to eat in a plac...</td>\n",
       "      <td>1</td>\n",
       "      <td>3</td>\n",
       "    </tr>\n",
       "    <tr>\n",
       "      <th>3</th>\n",
       "      <td>This place has sure changed...and not for the ...</td>\n",
       "      <td>2</td>\n",
       "      <td>2</td>\n",
       "    </tr>\n",
       "    <tr>\n",
       "      <th>4</th>\n",
       "      <td>I've been bringing my son to the owner Michael...</td>\n",
       "      <td>5</td>\n",
       "      <td>3</td>\n",
       "    </tr>\n",
       "    <tr>\n",
       "      <th>5</th>\n",
       "      <td>The trip to the location takes two busses and ...</td>\n",
       "      <td>1</td>\n",
       "      <td>3</td>\n",
       "    </tr>\n",
       "    <tr>\n",
       "      <th>6</th>\n",
       "      <td>This restaurant was suggested to me by a frien...</td>\n",
       "      <td>4</td>\n",
       "      <td>1</td>\n",
       "    </tr>\n",
       "    <tr>\n",
       "      <th>7</th>\n",
       "      <td>This place is unique because you are sitting o...</td>\n",
       "      <td>3</td>\n",
       "      <td>1</td>\n",
       "    </tr>\n",
       "    <tr>\n",
       "      <th>8</th>\n",
       "      <td>Whew, $10 for a whiskey ginger ale and $18 for...</td>\n",
       "      <td>3</td>\n",
       "      <td>2</td>\n",
       "    </tr>\n",
       "    <tr>\n",
       "      <th>9</th>\n",
       "      <td>Loove me some Pei Wei! Boyfriend isn't a fan, ...</td>\n",
       "      <td>4</td>\n",
       "      <td>2</td>\n",
       "    </tr>\n",
       "    <tr>\n",
       "      <th>10</th>\n",
       "      <td>I have been looking for a perfect Thai food re...</td>\n",
       "      <td>5</td>\n",
       "      <td>1</td>\n",
       "    </tr>\n",
       "    <tr>\n",
       "      <th>11</th>\n",
       "      <td>This restaurant has a nice classic American de...</td>\n",
       "      <td>4</td>\n",
       "      <td>4</td>\n",
       "    </tr>\n",
       "    <tr>\n",
       "      <th>12</th>\n",
       "      <td>DH was getting pizza at #1 Brothers so I origi...</td>\n",
       "      <td>4</td>\n",
       "      <td>3</td>\n",
       "    </tr>\n",
       "    <tr>\n",
       "      <th>13</th>\n",
       "      <td>A EVITER !\\n\\nNous avons attendu 2h45 pour avo...</td>\n",
       "      <td>1</td>\n",
       "      <td>2</td>\n",
       "    </tr>\n",
       "    <tr>\n",
       "      <th>14</th>\n",
       "      <td>DO NOT ORDER FROM VITACOST!!!\\n\\nI have never ...</td>\n",
       "      <td>1</td>\n",
       "      <td>3</td>\n",
       "    </tr>\n",
       "    <tr>\n",
       "      <th>15</th>\n",
       "      <td>Went here today to get some sushi grade salmon...</td>\n",
       "      <td>4</td>\n",
       "      <td>1</td>\n",
       "    </tr>\n",
       "    <tr>\n",
       "      <th>16</th>\n",
       "      <td>Lots of hands on stuff to do and explore. My f...</td>\n",
       "      <td>4</td>\n",
       "      <td>4</td>\n",
       "    </tr>\n",
       "    <tr>\n",
       "      <th>17</th>\n",
       "      <td>I just started working at a corporate office i...</td>\n",
       "      <td>2</td>\n",
       "      <td>3</td>\n",
       "    </tr>\n",
       "    <tr>\n",
       "      <th>18</th>\n",
       "      <td>Went to this place and it is the bomb. I had s...</td>\n",
       "      <td>5</td>\n",
       "      <td>1</td>\n",
       "    </tr>\n",
       "    <tr>\n",
       "      <th>19</th>\n",
       "      <td>I was never really a fan of Hamburgers so my r...</td>\n",
       "      <td>4</td>\n",
       "      <td>4</td>\n",
       "    </tr>\n",
       "  </tbody>\n",
       "</table>\n",
       "</div>"
      ],
      "text/plain": [
       "                                                input  reference  prediction\n",
       "0   Stayed at the Wm Penn down the street for a we...          5           1\n",
       "1   We tried out the lunch specials and found them...          4           3\n",
       "2   Should have known better than to eat in a plac...          1           3\n",
       "3   This place has sure changed...and not for the ...          2           2\n",
       "4   I've been bringing my son to the owner Michael...          5           3\n",
       "5   The trip to the location takes two busses and ...          1           3\n",
       "6   This restaurant was suggested to me by a frien...          4           1\n",
       "7   This place is unique because you are sitting o...          3           1\n",
       "8   Whew, $10 for a whiskey ginger ale and $18 for...          3           2\n",
       "9   Loove me some Pei Wei! Boyfriend isn't a fan, ...          4           2\n",
       "10  I have been looking for a perfect Thai food re...          5           1\n",
       "11  This restaurant has a nice classic American de...          4           4\n",
       "12  DH was getting pizza at #1 Brothers so I origi...          4           3\n",
       "13  A EVITER !\\n\\nNous avons attendu 2h45 pour avo...          1           2\n",
       "14  DO NOT ORDER FROM VITACOST!!!\\n\\nI have never ...          1           3\n",
       "15  Went here today to get some sushi grade salmon...          4           1\n",
       "16  Lots of hands on stuff to do and explore. My f...          4           4\n",
       "17  I just started working at a corporate office i...          2           3\n",
       "18  Went to this place and it is the bomb. I had s...          5           1\n",
       "19  I was never really a fan of Hamburgers so my r...          4           4"
      ]
     },
     "execution_count": 7,
     "metadata": {},
     "output_type": "execute_result"
    }
   ],
   "source": [
    "clear_output(wait=True)\n",
    "\n",
    "# Same as above, just provide simple references\n",
    "eval2 = fastrepl.Evaluator(\n",
    "    pipeline=[\n",
    "        fastrepl.LLMClassificationHead(\n",
    "            model=\"gpt-3.5-turbo\",\n",
    "            context=\"You will get a input text from Yelp review. Classify it using the labels.\",\n",
    "            labels=labels,\n",
    "            position_debias_strategy=\"shuffle\",\n",
    "            references=[\n",
    "                (\"this is the best\", \"FIVE_STARS\"),\n",
    "                (\"this is the worst\", \"ONE_STAR\"),\n",
    "            ],\n",
    "        )\n",
    "    ]\n",
    ")\n",
    "\n",
    "result2 = fastrepl.LocalRunner(evaluator=eval2, dataset=dataset).run()\n",
    "result2 = result2.map(label_to_score)\n",
    "\n",
    "print_metric(\"accuracy\", result2[\"prediction\"], result2[\"reference\"])\n",
    "print_metric(\"mse\", result2[\"prediction\"], result2[\"reference\"])\n",
    "print_metric(\"mae\", result2[\"prediction\"], result2[\"reference\"])\n",
    "\n",
    "result2.to_pandas()"
   ]
  }
 ],
 "metadata": {
  "kernelspec": {
   "display_name": ".venv",
   "language": "python",
   "name": "python3"
  },
  "language_info": {
   "codemirror_mode": {
    "name": "ipython",
    "version": 3
   },
   "file_extension": ".py",
   "mimetype": "text/x-python",
   "name": "python",
   "nbconvert_exporter": "python",
   "pygments_lexer": "ipython3",
   "version": "3.11.3"
  },
  "orig_nbformat": 4
 },
 "nbformat": 4,
 "nbformat_minor": 2
}
