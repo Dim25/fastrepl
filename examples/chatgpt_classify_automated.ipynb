{
 "cells": [
  {
   "cell_type": "code",
   "execution_count": null,
   "metadata": {},
   "outputs": [],
   "source": [
    "from typing import List\n",
    "\n",
    "from datasets import load_dataset\n",
    "\n",
    "from fastrepl.run import completion\n",
    "from fastrepl.eval.metric.metric import BaseMetric, HuggingfaceMetric\n",
    "from fastrepl.polish.updatable import Updatable\n",
    "from fastrepl.loop import ClassificationRunner\n",
    "from fastrepl.helpers import Experiment, setenv"
   ]
  },
  {
   "cell_type": "code",
   "execution_count": null,
   "metadata": {},
   "outputs": [],
   "source": [
    "def classify(input: str):\n",
    "    system = Updatable(\n",
    "        \"SYSTEM\", \"Output only 'POSITIVE' or 'NEGATIVE' for the user's input.\"\n",
    "    )\n",
    "\n",
    "    res = completion(\n",
    "        model=\"gpt-3.5-turbo\",\n",
    "        messages=[\n",
    "            {\"role\": \"system\", \"content\": str(system)},\n",
    "            {\"role\": \"user\", \"content\": input},\n",
    "        ],\n",
    "        temperature=0,\n",
    "    )\n",
    "    return res[\"choices\"][0][\"message\"][\"content\"]"
   ]
  },
  {
   "cell_type": "code",
   "execution_count": null,
   "metadata": {},
   "outputs": [],
   "source": [
    "def prepare_dataset():\n",
    "    imdb = load_dataset(\"imdb\", split=\"train\")\n",
    "    imdb = imdb.shuffle(seed=13).select([i for i in list(range(10))])\n",
    "    return imdb"
   ]
  },
  {
   "cell_type": "code",
   "execution_count": null,
   "metadata": {},
   "outputs": [],
   "source": [
    "setenv(\"fastrepl\", True)\n",
    "\n",
    "with Experiment(GRAPH=2) as manager:\n",
    "    ds = prepare_dataset()\n",
    "    ds = [{\"input\": [d[\"text\"]], \"output\": d[\"label\"]} for d in ds]\n",
    "\n",
    "    metrics: List[BaseMetric] = [\n",
    "        HuggingfaceMetric(\"accuracy\"),\n",
    "        HuggingfaceMetric(\"precision\"),\n",
    "        HuggingfaceMetric(\"matthews_correlation\"),\n",
    "    ]\n",
    "\n",
    "    runner = ClassificationRunner(\n",
    "        fn=classify,\n",
    "        label_mapping={\"NEGATIVE\": 0, \"POSITIVE\": 1},\n",
    "    )\n",
    "\n",
    "    report = runner.eval(dataset=ds, metrics=metrics)\n",
    "    print(report)\n",
    "\n",
    "    report = runner.fit(dataset=ds, metrics=metrics)\n",
    "    print(report)"
   ]
  }
 ],
 "metadata": {
  "language_info": {
   "name": "python"
  },
  "orig_nbformat": 4
 },
 "nbformat": 4,
 "nbformat_minor": 2
}
