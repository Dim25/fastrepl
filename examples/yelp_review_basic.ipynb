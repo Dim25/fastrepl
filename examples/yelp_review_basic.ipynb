{
 "cells": [
  {
   "cell_type": "code",
   "execution_count": 1,
   "metadata": {},
   "outputs": [],
   "source": [
    "import fastrepl.repl as fastrepl\n",
    "\n",
    "# fastrepl.llm_cache = None\n",
    "fastrepllm_cache = fastrepl.cache.SQLiteCache()"
   ]
  },
  {
   "cell_type": "code",
   "execution_count": 2,
   "metadata": {},
   "outputs": [],
   "source": [
    "from IPython.display import clear_output"
   ]
  },
  {
   "cell_type": "code",
   "execution_count": 3,
   "metadata": {},
   "outputs": [],
   "source": [
    "from datasets import load_dataset\n",
    "\n",
    "# We have dataset for meta-eval\n",
    "dataset = load_dataset(\"yelp_review_full\", split=\"test\")\n",
    "dataset = dataset.shuffle(seed=8)\n",
    "dataset = dataset.select(range(30))\n",
    "dataset = dataset.rename_column(\"text\", \"input\")\n",
    "dataset = dataset.map(\n",
    "    lambda row: {\"reference\": row[\"label\"] + 1, \"input\": row[\"input\"]},\n",
    "    remove_columns=[\"label\"],\n",
    ")"
   ]
  },
  {
   "cell_type": "code",
   "execution_count": 4,
   "metadata": {},
   "outputs": [],
   "source": [
    "labels = {\n",
    "    \"FIVE_STARS\": \"given review is likely to be 5 stars\",\n",
    "    \"FOUR_STARS\": \"given review is likely to be 4 stars\",\n",
    "    \"THREE_STARS\": \"given review is likely to be 3 stars\",\n",
    "    \"TWO_STARS\": \"given review is likely to be 2 stars\",\n",
    "    \"ONE_STAR\": \"given review is likely to be 1 star\",\n",
    "}\n",
    "\n",
    "\n",
    "def label_to_score(example):\n",
    "    label = example[\"prediction\"]\n",
    "    example[\"prediction\"] = {\n",
    "        \"FIVE_STARS\": 5,\n",
    "        \"FOUR_STARS\": 4,\n",
    "        \"THREE_STARS\": 3,\n",
    "        \"TWO_STARS\": 2,\n",
    "        \"ONE_STAR\": 1,\n",
    "        \"UNKNOWN\": 0,\n",
    "    }[label]\n",
    "    return example"
   ]
  },
  {
   "cell_type": "code",
   "execution_count": 5,
   "metadata": {},
   "outputs": [],
   "source": [
    "def print_metric(metric_name, predictions, references):\n",
    "    metric = fastrepl.load_metric(metric_name)\n",
    "    result = metric.compute(predictions=predictions, references=references)\n",
    "    print(f\"{metric_name}: {result[metric_name]}\")"
   ]
  },
  {
   "cell_type": "code",
   "execution_count": 6,
   "metadata": {},
   "outputs": [
    {
     "data": {
      "application/vnd.jupyter.widget-view+json": {
       "model_id": "9b1ef3d1863543e29da0090591526a8b",
       "version_major": 2,
       "version_minor": 0
      },
      "text/plain": [
       "Output()"
      ]
     },
     "metadata": {},
     "output_type": "display_data"
    },
    {
     "data": {
      "text/html": [
       "<pre style=\"white-space:pre;overflow-x:auto;line-height:normal;font-family:Menlo,'DejaVu Sans Mono',consolas,'Courier New',monospace\"></pre>\n"
      ],
      "text/plain": []
     },
     "metadata": {},
     "output_type": "display_data"
    },
    {
     "data": {
      "text/html": [
       "<pre style=\"white-space:pre;overflow-x:auto;line-height:normal;font-family:Menlo,'DejaVu Sans Mono',consolas,'Courier New',monospace\">\n",
       "</pre>\n"
      ],
      "text/plain": [
       "\n"
      ]
     },
     "metadata": {},
     "output_type": "display_data"
    },
    {
     "data": {
      "application/vnd.jupyter.widget-view+json": {
       "model_id": "082faf61546b433b92ab329f4685d76e",
       "version_major": 2,
       "version_minor": 0
      },
      "text/plain": [
       "Map:   0%|          | 0/30 [00:00<?, ? examples/s]"
      ]
     },
     "metadata": {},
     "output_type": "display_data"
    },
    {
     "name": "stdout",
     "output_type": "stream",
     "text": [
      "accuracy: 0.2\n",
      "mse: 8.166666666666666\n",
      "mae: 2.3\n"
     ]
    }
   ],
   "source": [
    "clear_output(wait=True)\n",
    "\n",
    "# Let's define our first eval\n",
    "eval = fastrepl.Evaluator(\n",
    "    pipeline=[\n",
    "        fastrepl.LLMChainOfThoughtClassifier(\n",
    "            model=\"gpt-3.5-turbo\",\n",
    "            context=\"You will get a input text from Yelp review. Take it seriously.\",\n",
    "            labels=labels,\n",
    "        )\n",
    "    ]\n",
    ")\n",
    "\n",
    "result = fastrepl.LocalRunner(evaluator=eval, dataset=dataset).run()\n",
    "result = result.map(label_to_score)\n",
    "\n",
    "print_metric(\"accuracy\", result[\"prediction\"], result[\"reference\"])\n",
    "print_metric(\"mse\", result[\"prediction\"], result[\"reference\"])\n",
    "print_metric(\"mae\", result[\"prediction\"], result[\"reference\"])"
   ]
  },
  {
   "cell_type": "code",
   "execution_count": 7,
   "metadata": {},
   "outputs": [
    {
     "data": {
      "application/vnd.jupyter.widget-view+json": {
       "model_id": "0124d4f744f04674b34c89de923ef881",
       "version_major": 2,
       "version_minor": 0
      },
      "text/plain": [
       "Output()"
      ]
     },
     "metadata": {},
     "output_type": "display_data"
    },
    {
     "data": {
      "text/html": [
       "<pre style=\"white-space:pre;overflow-x:auto;line-height:normal;font-family:Menlo,'DejaVu Sans Mono',consolas,'Courier New',monospace\"></pre>\n"
      ],
      "text/plain": []
     },
     "metadata": {},
     "output_type": "display_data"
    },
    {
     "data": {
      "text/html": [
       "<pre style=\"white-space:pre;overflow-x:auto;line-height:normal;font-family:Menlo,'DejaVu Sans Mono',consolas,'Courier New',monospace\">\n",
       "</pre>\n"
      ],
      "text/plain": [
       "\n"
      ]
     },
     "metadata": {},
     "output_type": "display_data"
    },
    {
     "data": {
      "application/vnd.jupyter.widget-view+json": {
       "model_id": "9d1377180aac43fa9c6c9bbdab37e731",
       "version_major": 2,
       "version_minor": 0
      },
      "text/plain": [
       "Map:   0%|          | 0/30 [00:00<?, ? examples/s]"
      ]
     },
     "metadata": {},
     "output_type": "display_data"
    },
    {
     "name": "stdout",
     "output_type": "stream",
     "text": [
      "accuracy: 0.5\n",
      "mse: 1.3666666666666667\n",
      "mae: 0.7666666666666667\n"
     ]
    }
   ],
   "source": [
    "clear_output(wait=True)\n",
    "\n",
    "# Let's see if we can get more reliable results\n",
    "eval = fastrepl.Evaluator(\n",
    "    pipeline=[\n",
    "        fastrepl.LLMChainOfThought(\n",
    "            model=\"gpt-3.5-turbo\",\n",
    "            labels=labels,\n",
    "            context=\"You will get a input text from Yelp review. Please rate it from 1 to 5 stars.\",\n",
    "        ),\n",
    "        fastrepl.LLMClassifier(\n",
    "            model=\"gpt-3.5-turbo\",\n",
    "            labels=labels,\n",
    "        ),\n",
    "    ]\n",
    ")\n",
    "\n",
    "result = fastrepl.LocalRunner(evaluator=eval, dataset=dataset).run()\n",
    "result = result.map(label_to_score)\n",
    "\n",
    "print_metric(\"accuracy\", result[\"prediction\"], result[\"reference\"])\n",
    "print_metric(\"mse\", result[\"prediction\"], result[\"reference\"])\n",
    "print_metric(\"mae\", result[\"prediction\"], result[\"reference\"])"
   ]
  }
 ],
 "metadata": {
  "kernelspec": {
   "display_name": ".venv",
   "language": "python",
   "name": "python3"
  },
  "language_info": {
   "codemirror_mode": {
    "name": "ipython",
    "version": 3
   },
   "file_extension": ".py",
   "mimetype": "text/x-python",
   "name": "python",
   "nbconvert_exporter": "python",
   "pygments_lexer": "ipython3",
   "version": "3.11.3"
  },
  "orig_nbformat": 4
 },
 "nbformat": 4,
 "nbformat_minor": 2
}
