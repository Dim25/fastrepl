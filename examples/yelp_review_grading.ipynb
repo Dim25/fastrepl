{
 "cells": [
  {
   "cell_type": "code",
   "execution_count": 1,
   "metadata": {},
   "outputs": [],
   "source": [
    "import fastrepl.repl as fastrepl\n",
    "\n",
    "fastrepl.LLMCache.disable()\n",
    "fastrepl.DEBUG(0)"
   ]
  },
  {
   "cell_type": "code",
   "execution_count": 2,
   "metadata": {},
   "outputs": [],
   "source": [
    "from IPython.display import clear_output"
   ]
  },
  {
   "cell_type": "code",
   "execution_count": 3,
   "metadata": {},
   "outputs": [],
   "source": [
    "from datasets import load_dataset\n",
    "\n",
    "# We have dataset for meta-eval\n",
    "dataset = load_dataset(\"yelp_review_full\", split=\"test\")\n",
    "dataset = dataset.shuffle(seed=8)\n",
    "dataset = dataset.select(range(30))\n",
    "dataset = dataset.rename_column(\"text\", \"input\")\n",
    "dataset = dataset.map(\n",
    "    lambda row: {\"reference\": row[\"label\"] + 1, \"input\": row[\"input\"]},\n",
    "    remove_columns=[\"label\"],\n",
    ")"
   ]
  },
  {
   "cell_type": "code",
   "execution_count": 4,
   "metadata": {},
   "outputs": [],
   "source": [
    "def to_number(example):\n",
    "    if example[\"prediction\"] is None:\n",
    "        print(\"None detected, setting to 0\")\n",
    "        example[\"prediction\"] = 0\n",
    "    example[\"prediction\"] = float(example[\"prediction\"])\n",
    "    return example\n",
    "\n",
    "\n",
    "def print_metric(metric_name, predictions, references):\n",
    "    metric = fastrepl.load_metric(metric_name)\n",
    "    result = metric.compute(predictions=predictions, references=references)\n",
    "    print(f\"{metric_name}: {result[metric_name]}\")"
   ]
  },
  {
   "cell_type": "code",
   "execution_count": 5,
   "metadata": {},
   "outputs": [
    {
     "data": {
      "application/vnd.jupyter.widget-view+json": {
       "model_id": "3edce5c9ebe643b691d346eb13992dbd",
       "version_major": 2,
       "version_minor": 0
      },
      "text/plain": [
       "Output()"
      ]
     },
     "metadata": {},
     "output_type": "display_data"
    },
    {
     "data": {
      "text/html": [
       "<pre style=\"white-space:pre;overflow-x:auto;line-height:normal;font-family:Menlo,'DejaVu Sans Mono',consolas,'Courier New',monospace\">/Users/yujonglee/dev/fastrepl/fastrepl/fastrepl/warnings.py:24: CompletionTruncatedWarning: 1 | \n",
       "https://docs.fastrepl.com/miscellaneous/warnings_and_errors#completiontruncated\n",
       "</pre>\n"
      ],
      "text/plain": [
       "/Users/yujonglee/dev/fastrepl/fastrepl/fastrepl/warnings.py:24: CompletionTruncatedWarning: 1 | \n",
       "https://docs.fastrepl.com/miscellaneous/warnings_and_errors#completiontruncated\n"
      ]
     },
     "metadata": {},
     "output_type": "display_data"
    },
    {
     "data": {
      "text/html": [
       "<pre style=\"white-space:pre;overflow-x:auto;line-height:normal;font-family:Menlo,'DejaVu Sans Mono',consolas,'Courier New',monospace\">/Users/yujonglee/dev/fastrepl/fastrepl/fastrepl/warnings.py:24: CompletionTruncatedWarning: 5 | \n",
       "https://docs.fastrepl.com/miscellaneous/warnings_and_errors#completiontruncated\n",
       "</pre>\n"
      ],
      "text/plain": [
       "/Users/yujonglee/dev/fastrepl/fastrepl/fastrepl/warnings.py:24: CompletionTruncatedWarning: 5 | \n",
       "https://docs.fastrepl.com/miscellaneous/warnings_and_errors#completiontruncated\n"
      ]
     },
     "metadata": {},
     "output_type": "display_data"
    },
    {
     "data": {
      "text/html": [
       "<pre style=\"white-space:pre;overflow-x:auto;line-height:normal;font-family:Menlo,'DejaVu Sans Mono',consolas,'Courier New',monospace\">/Users/yujonglee/dev/fastrepl/fastrepl/fastrepl/warnings.py:24: CompletionTruncatedWarning: 2 | \n",
       "https://docs.fastrepl.com/miscellaneous/warnings_and_errors#completiontruncated\n",
       "</pre>\n"
      ],
      "text/plain": [
       "/Users/yujonglee/dev/fastrepl/fastrepl/fastrepl/warnings.py:24: CompletionTruncatedWarning: 2 | \n",
       "https://docs.fastrepl.com/miscellaneous/warnings_and_errors#completiontruncated\n"
      ]
     },
     "metadata": {},
     "output_type": "display_data"
    },
    {
     "data": {
      "text/html": [
       "<pre style=\"white-space:pre;overflow-x:auto;line-height:normal;font-family:Menlo,'DejaVu Sans Mono',consolas,'Courier New',monospace\">/Users/yujonglee/dev/fastrepl/fastrepl/fastrepl/warnings.py:24: CompletionTruncatedWarning: 4 | \n",
       "https://docs.fastrepl.com/miscellaneous/warnings_and_errors#completiontruncated\n",
       "</pre>\n"
      ],
      "text/plain": [
       "/Users/yujonglee/dev/fastrepl/fastrepl/fastrepl/warnings.py:24: CompletionTruncatedWarning: 4 | \n",
       "https://docs.fastrepl.com/miscellaneous/warnings_and_errors#completiontruncated\n"
      ]
     },
     "metadata": {},
     "output_type": "display_data"
    },
    {
     "data": {
      "text/html": [
       "<pre style=\"white-space:pre;overflow-x:auto;line-height:normal;font-family:Menlo,'DejaVu Sans Mono',consolas,'Courier New',monospace\">/Users/yujonglee/dev/fastrepl/fastrepl/fastrepl/warnings.py:24: CompletionTruncatedWarning: 3 | \n",
       "https://docs.fastrepl.com/miscellaneous/warnings_and_errors#completiontruncated\n",
       "</pre>\n"
      ],
      "text/plain": [
       "/Users/yujonglee/dev/fastrepl/fastrepl/fastrepl/warnings.py:24: CompletionTruncatedWarning: 3 | \n",
       "https://docs.fastrepl.com/miscellaneous/warnings_and_errors#completiontruncated\n"
      ]
     },
     "metadata": {},
     "output_type": "display_data"
    },
    {
     "data": {
      "text/html": [
       "<pre style=\"white-space:pre;overflow-x:auto;line-height:normal;font-family:Menlo,'DejaVu Sans Mono',consolas,'Courier New',monospace\"></pre>\n"
      ],
      "text/plain": []
     },
     "metadata": {},
     "output_type": "display_data"
    },
    {
     "data": {
      "text/html": [
       "<pre style=\"white-space:pre;overflow-x:auto;line-height:normal;font-family:Menlo,'DejaVu Sans Mono',consolas,'Courier New',monospace\">\n",
       "</pre>\n"
      ],
      "text/plain": [
       "\n"
      ]
     },
     "metadata": {},
     "output_type": "display_data"
    },
    {
     "data": {
      "application/vnd.jupyter.widget-view+json": {
       "model_id": "9ab3d77c452e48ecbad5edc5a3607c8e",
       "version_major": 2,
       "version_minor": 0
      },
      "text/plain": [
       "Map:   0%|          | 0/30 [00:00<?, ? examples/s]"
      ]
     },
     "metadata": {},
     "output_type": "display_data"
    },
    {
     "name": "stdout",
     "output_type": "stream",
     "text": [
      "accuracy: 0.36666666666666664\n",
      "mse: 1.6333333333333333\n",
      "mae: 0.9\n"
     ]
    },
    {
     "data": {
      "text/html": [
       "<div>\n",
       "<style scoped>\n",
       "    .dataframe tbody tr th:only-of-type {\n",
       "        vertical-align: middle;\n",
       "    }\n",
       "\n",
       "    .dataframe tbody tr th {\n",
       "        vertical-align: top;\n",
       "    }\n",
       "\n",
       "    .dataframe thead th {\n",
       "        text-align: right;\n",
       "    }\n",
       "</style>\n",
       "<table border=\"1\" class=\"dataframe\">\n",
       "  <thead>\n",
       "    <tr style=\"text-align: right;\">\n",
       "      <th></th>\n",
       "      <th>input</th>\n",
       "      <th>reference</th>\n",
       "      <th>prediction</th>\n",
       "    </tr>\n",
       "  </thead>\n",
       "  <tbody>\n",
       "    <tr>\n",
       "      <th>0</th>\n",
       "      <td>Stayed at the Wm Penn down the street for a we...</td>\n",
       "      <td>5</td>\n",
       "      <td>5.0</td>\n",
       "    </tr>\n",
       "    <tr>\n",
       "      <th>1</th>\n",
       "      <td>We tried out the lunch specials and found them...</td>\n",
       "      <td>4</td>\n",
       "      <td>5.0</td>\n",
       "    </tr>\n",
       "    <tr>\n",
       "      <th>2</th>\n",
       "      <td>Should have known better than to eat in a plac...</td>\n",
       "      <td>1</td>\n",
       "      <td>1.0</td>\n",
       "    </tr>\n",
       "    <tr>\n",
       "      <th>3</th>\n",
       "      <td>This place has sure changed...and not for the ...</td>\n",
       "      <td>2</td>\n",
       "      <td>1.0</td>\n",
       "    </tr>\n",
       "    <tr>\n",
       "      <th>4</th>\n",
       "      <td>I've been bringing my son to the owner Michael...</td>\n",
       "      <td>5</td>\n",
       "      <td>5.0</td>\n",
       "    </tr>\n",
       "    <tr>\n",
       "      <th>5</th>\n",
       "      <td>The trip to the location takes two busses and ...</td>\n",
       "      <td>1</td>\n",
       "      <td>2.0</td>\n",
       "    </tr>\n",
       "    <tr>\n",
       "      <th>6</th>\n",
       "      <td>This restaurant was suggested to me by a frien...</td>\n",
       "      <td>4</td>\n",
       "      <td>1.0</td>\n",
       "    </tr>\n",
       "    <tr>\n",
       "      <th>7</th>\n",
       "      <td>This place is unique because you are sitting o...</td>\n",
       "      <td>3</td>\n",
       "      <td>4.0</td>\n",
       "    </tr>\n",
       "    <tr>\n",
       "      <th>8</th>\n",
       "      <td>Whew, $10 for a whiskey ginger ale and $18 for...</td>\n",
       "      <td>3</td>\n",
       "      <td>3.0</td>\n",
       "    </tr>\n",
       "    <tr>\n",
       "      <th>9</th>\n",
       "      <td>Loove me some Pei Wei! Boyfriend isn't a fan, ...</td>\n",
       "      <td>4</td>\n",
       "      <td>1.0</td>\n",
       "    </tr>\n",
       "    <tr>\n",
       "      <th>10</th>\n",
       "      <td>I have been looking for a perfect Thai food re...</td>\n",
       "      <td>5</td>\n",
       "      <td>5.0</td>\n",
       "    </tr>\n",
       "    <tr>\n",
       "      <th>11</th>\n",
       "      <td>This restaurant has a nice classic American de...</td>\n",
       "      <td>4</td>\n",
       "      <td>5.0</td>\n",
       "    </tr>\n",
       "    <tr>\n",
       "      <th>12</th>\n",
       "      <td>DH was getting pizza at #1 Brothers so I origi...</td>\n",
       "      <td>4</td>\n",
       "      <td>4.0</td>\n",
       "    </tr>\n",
       "    <tr>\n",
       "      <th>13</th>\n",
       "      <td>A EVITER !\\n\\nNous avons attendu 2h45 pour avo...</td>\n",
       "      <td>1</td>\n",
       "      <td>1.0</td>\n",
       "    </tr>\n",
       "    <tr>\n",
       "      <th>14</th>\n",
       "      <td>DO NOT ORDER FROM VITACOST!!!\\n\\nI have never ...</td>\n",
       "      <td>1</td>\n",
       "      <td>1.0</td>\n",
       "    </tr>\n",
       "    <tr>\n",
       "      <th>15</th>\n",
       "      <td>Went here today to get some sushi grade salmon...</td>\n",
       "      <td>4</td>\n",
       "      <td>5.0</td>\n",
       "    </tr>\n",
       "    <tr>\n",
       "      <th>16</th>\n",
       "      <td>Lots of hands on stuff to do and explore. My f...</td>\n",
       "      <td>4</td>\n",
       "      <td>5.0</td>\n",
       "    </tr>\n",
       "    <tr>\n",
       "      <th>17</th>\n",
       "      <td>I just started working at a corporate office i...</td>\n",
       "      <td>2</td>\n",
       "      <td>4.0</td>\n",
       "    </tr>\n",
       "    <tr>\n",
       "      <th>18</th>\n",
       "      <td>Went to this place and it is the bomb. I had s...</td>\n",
       "      <td>5</td>\n",
       "      <td>2.0</td>\n",
       "    </tr>\n",
       "    <tr>\n",
       "      <th>19</th>\n",
       "      <td>I was never really a fan of Hamburgers so my r...</td>\n",
       "      <td>4</td>\n",
       "      <td>4.0</td>\n",
       "    </tr>\n",
       "    <tr>\n",
       "      <th>20</th>\n",
       "      <td>Just opened and boy is the pizza great.  A awe...</td>\n",
       "      <td>4</td>\n",
       "      <td>4.0</td>\n",
       "    </tr>\n",
       "    <tr>\n",
       "      <th>21</th>\n",
       "      <td>They do not have their own bathroom. I came he...</td>\n",
       "      <td>2</td>\n",
       "      <td>1.0</td>\n",
       "    </tr>\n",
       "    <tr>\n",
       "      <th>22</th>\n",
       "      <td>so far, this is the most deceptive yelp rating...</td>\n",
       "      <td>2</td>\n",
       "      <td>1.0</td>\n",
       "    </tr>\n",
       "    <tr>\n",
       "      <th>23</th>\n",
       "      <td>Pretty okay pizza.  Standard so-so Pittsburgh ...</td>\n",
       "      <td>2</td>\n",
       "      <td>1.0</td>\n",
       "    </tr>\n",
       "    <tr>\n",
       "      <th>24</th>\n",
       "      <td>Amazing atmosphere, great service, fantastic d...</td>\n",
       "      <td>5</td>\n",
       "      <td>4.0</td>\n",
       "    </tr>\n",
       "    <tr>\n",
       "      <th>25</th>\n",
       "      <td>Tried Envy based on the ratings that people le...</td>\n",
       "      <td>2</td>\n",
       "      <td>4.0</td>\n",
       "    </tr>\n",
       "    <tr>\n",
       "      <th>26</th>\n",
       "      <td>Just got back from a stay at the Phoenician.  ...</td>\n",
       "      <td>2</td>\n",
       "      <td>3.0</td>\n",
       "    </tr>\n",
       "    <tr>\n",
       "      <th>27</th>\n",
       "      <td>I heard mixed reviews about Lure. We decided t...</td>\n",
       "      <td>5</td>\n",
       "      <td>5.0</td>\n",
       "    </tr>\n",
       "    <tr>\n",
       "      <th>28</th>\n",
       "      <td>Great sandwiches! the bread was superb. I had ...</td>\n",
       "      <td>4</td>\n",
       "      <td>5.0</td>\n",
       "    </tr>\n",
       "    <tr>\n",
       "      <th>29</th>\n",
       "      <td>I was very disappointed with my meal here. It ...</td>\n",
       "      <td>2</td>\n",
       "      <td>1.0</td>\n",
       "    </tr>\n",
       "  </tbody>\n",
       "</table>\n",
       "</div>"
      ],
      "text/plain": [
       "                                                input  reference  prediction\n",
       "0   Stayed at the Wm Penn down the street for a we...          5         5.0\n",
       "1   We tried out the lunch specials and found them...          4         5.0\n",
       "2   Should have known better than to eat in a plac...          1         1.0\n",
       "3   This place has sure changed...and not for the ...          2         1.0\n",
       "4   I've been bringing my son to the owner Michael...          5         5.0\n",
       "5   The trip to the location takes two busses and ...          1         2.0\n",
       "6   This restaurant was suggested to me by a frien...          4         1.0\n",
       "7   This place is unique because you are sitting o...          3         4.0\n",
       "8   Whew, $10 for a whiskey ginger ale and $18 for...          3         3.0\n",
       "9   Loove me some Pei Wei! Boyfriend isn't a fan, ...          4         1.0\n",
       "10  I have been looking for a perfect Thai food re...          5         5.0\n",
       "11  This restaurant has a nice classic American de...          4         5.0\n",
       "12  DH was getting pizza at #1 Brothers so I origi...          4         4.0\n",
       "13  A EVITER !\\n\\nNous avons attendu 2h45 pour avo...          1         1.0\n",
       "14  DO NOT ORDER FROM VITACOST!!!\\n\\nI have never ...          1         1.0\n",
       "15  Went here today to get some sushi grade salmon...          4         5.0\n",
       "16  Lots of hands on stuff to do and explore. My f...          4         5.0\n",
       "17  I just started working at a corporate office i...          2         4.0\n",
       "18  Went to this place and it is the bomb. I had s...          5         2.0\n",
       "19  I was never really a fan of Hamburgers so my r...          4         4.0\n",
       "20  Just opened and boy is the pizza great.  A awe...          4         4.0\n",
       "21  They do not have their own bathroom. I came he...          2         1.0\n",
       "22  so far, this is the most deceptive yelp rating...          2         1.0\n",
       "23  Pretty okay pizza.  Standard so-so Pittsburgh ...          2         1.0\n",
       "24  Amazing atmosphere, great service, fantastic d...          5         4.0\n",
       "25  Tried Envy based on the ratings that people le...          2         4.0\n",
       "26  Just got back from a stay at the Phoenician.  ...          2         3.0\n",
       "27  I heard mixed reviews about Lure. We decided t...          5         5.0\n",
       "28  Great sandwiches! the bread was superb. I had ...          4         5.0\n",
       "29  I was very disappointed with my meal here. It ...          2         1.0"
      ]
     },
     "execution_count": 5,
     "metadata": {},
     "output_type": "execute_result"
    }
   ],
   "source": [
    "clear_output(wait=True)\n",
    "\n",
    "eval1 = fastrepl.Evaluator(\n",
    "    pipeline=[\n",
    "        fastrepl.LLMGradingHead(\n",
    "            model=\"gpt-3.5-turbo\",\n",
    "            context=\"You will get a input text from Yelp review. Grade user's satisfaction from 1 to 5.\",\n",
    "            number_from=1,\n",
    "            number_to=5,\n",
    "            position_debias_strategy=\"shuffle\",\n",
    "        )\n",
    "    ]\n",
    ")\n",
    "\n",
    "result1 = fastrepl.LocalRunner(evaluator=eval1, dataset=dataset).run()\n",
    "result1 = result1.map(to_number)\n",
    "\n",
    "print_metric(\"accuracy\", result1[\"prediction\"], result1[\"reference\"])\n",
    "print_metric(\"mse\", result1[\"prediction\"], result1[\"reference\"])\n",
    "print_metric(\"mae\", result1[\"prediction\"], result1[\"reference\"])\n",
    "\n",
    "result1.to_pandas()"
   ]
  },
  {
   "cell_type": "code",
   "execution_count": 6,
   "metadata": {},
   "outputs": [
    {
     "data": {
      "application/vnd.jupyter.widget-view+json": {
       "model_id": "4dfcce8c0371417bb03793830028c430",
       "version_major": 2,
       "version_minor": 0
      },
      "text/plain": [
       "Output()"
      ]
     },
     "metadata": {},
     "output_type": "display_data"
    },
    {
     "data": {
      "text/html": [
       "<pre style=\"white-space:pre;overflow-x:auto;line-height:normal;font-family:Menlo,'DejaVu Sans Mono',consolas,'Courier New',monospace\">/Users/yujonglee/dev/fastrepl/fastrepl/fastrepl/warnings.py:24: CompletionTruncatedWarning: 4 | \n",
       "https://docs.fastrepl.com/miscellaneous/warnings_and_errors#completiontruncated\n",
       "</pre>\n"
      ],
      "text/plain": [
       "/Users/yujonglee/dev/fastrepl/fastrepl/fastrepl/warnings.py:24: CompletionTruncatedWarning: 4 | \n",
       "https://docs.fastrepl.com/miscellaneous/warnings_and_errors#completiontruncated\n"
      ]
     },
     "metadata": {},
     "output_type": "display_data"
    },
    {
     "data": {
      "text/html": [
       "<pre style=\"white-space:pre;overflow-x:auto;line-height:normal;font-family:Menlo,'DejaVu Sans Mono',consolas,'Courier New',monospace\">/Users/yujonglee/dev/fastrepl/fastrepl/fastrepl/warnings.py:24: CompletionTruncatedWarning: 3 | \n",
       "https://docs.fastrepl.com/miscellaneous/warnings_and_errors#completiontruncated\n",
       "</pre>\n"
      ],
      "text/plain": [
       "/Users/yujonglee/dev/fastrepl/fastrepl/fastrepl/warnings.py:24: CompletionTruncatedWarning: 3 | \n",
       "https://docs.fastrepl.com/miscellaneous/warnings_and_errors#completiontruncated\n"
      ]
     },
     "metadata": {},
     "output_type": "display_data"
    },
    {
     "data": {
      "text/html": [
       "<pre style=\"white-space:pre;overflow-x:auto;line-height:normal;font-family:Menlo,'DejaVu Sans Mono',consolas,'Courier New',monospace\">/Users/yujonglee/dev/fastrepl/fastrepl/fastrepl/warnings.py:24: CompletionTruncatedWarning: 2 | \n",
       "https://docs.fastrepl.com/miscellaneous/warnings_and_errors#completiontruncated\n",
       "</pre>\n"
      ],
      "text/plain": [
       "/Users/yujonglee/dev/fastrepl/fastrepl/fastrepl/warnings.py:24: CompletionTruncatedWarning: 2 | \n",
       "https://docs.fastrepl.com/miscellaneous/warnings_and_errors#completiontruncated\n"
      ]
     },
     "metadata": {},
     "output_type": "display_data"
    },
    {
     "data": {
      "text/html": [
       "<pre style=\"white-space:pre;overflow-x:auto;line-height:normal;font-family:Menlo,'DejaVu Sans Mono',consolas,'Courier New',monospace\">/Users/yujonglee/dev/fastrepl/fastrepl/fastrepl/warnings.py:24: CompletionTruncatedWarning: 5 | \n",
       "https://docs.fastrepl.com/miscellaneous/warnings_and_errors#completiontruncated\n",
       "</pre>\n"
      ],
      "text/plain": [
       "/Users/yujonglee/dev/fastrepl/fastrepl/fastrepl/warnings.py:24: CompletionTruncatedWarning: 5 | \n",
       "https://docs.fastrepl.com/miscellaneous/warnings_and_errors#completiontruncated\n"
      ]
     },
     "metadata": {},
     "output_type": "display_data"
    },
    {
     "data": {
      "text/html": [
       "<pre style=\"white-space:pre;overflow-x:auto;line-height:normal;font-family:Menlo,'DejaVu Sans Mono',consolas,'Courier New',monospace\">/Users/yujonglee/dev/fastrepl/fastrepl/fastrepl/warnings.py:24: CompletionTruncatedWarning: 1 | \n",
       "https://docs.fastrepl.com/miscellaneous/warnings_and_errors#completiontruncated\n",
       "</pre>\n"
      ],
      "text/plain": [
       "/Users/yujonglee/dev/fastrepl/fastrepl/fastrepl/warnings.py:24: CompletionTruncatedWarning: 1 | \n",
       "https://docs.fastrepl.com/miscellaneous/warnings_and_errors#completiontruncated\n"
      ]
     },
     "metadata": {},
     "output_type": "display_data"
    },
    {
     "data": {
      "text/html": [
       "<pre style=\"white-space:pre;overflow-x:auto;line-height:normal;font-family:Menlo,'DejaVu Sans Mono',consolas,'Courier New',monospace\"></pre>\n"
      ],
      "text/plain": []
     },
     "metadata": {},
     "output_type": "display_data"
    },
    {
     "data": {
      "text/html": [
       "<pre style=\"white-space:pre;overflow-x:auto;line-height:normal;font-family:Menlo,'DejaVu Sans Mono',consolas,'Courier New',monospace\">\n",
       "</pre>\n"
      ],
      "text/plain": [
       "\n"
      ]
     },
     "metadata": {},
     "output_type": "display_data"
    },
    {
     "data": {
      "application/vnd.jupyter.widget-view+json": {
       "model_id": "9a7491de0d80424083f3c4a1fa8da26d",
       "version_major": 2,
       "version_minor": 0
      },
      "text/plain": [
       "Map:   0%|          | 0/30 [00:00<?, ? examples/s]"
      ]
     },
     "metadata": {},
     "output_type": "display_data"
    },
    {
     "name": "stdout",
     "output_type": "stream",
     "text": [
      "accuracy: 0.6333333333333333\n",
      "mse: 0.36666666666666664\n",
      "mae: 0.36666666666666664\n"
     ]
    },
    {
     "data": {
      "text/html": [
       "<div>\n",
       "<style scoped>\n",
       "    .dataframe tbody tr th:only-of-type {\n",
       "        vertical-align: middle;\n",
       "    }\n",
       "\n",
       "    .dataframe tbody tr th {\n",
       "        vertical-align: top;\n",
       "    }\n",
       "\n",
       "    .dataframe thead th {\n",
       "        text-align: right;\n",
       "    }\n",
       "</style>\n",
       "<table border=\"1\" class=\"dataframe\">\n",
       "  <thead>\n",
       "    <tr style=\"text-align: right;\">\n",
       "      <th></th>\n",
       "      <th>input</th>\n",
       "      <th>reference</th>\n",
       "      <th>prediction</th>\n",
       "    </tr>\n",
       "  </thead>\n",
       "  <tbody>\n",
       "    <tr>\n",
       "      <th>0</th>\n",
       "      <td>Stayed at the Wm Penn down the street for a we...</td>\n",
       "      <td>5</td>\n",
       "      <td>4.0</td>\n",
       "    </tr>\n",
       "    <tr>\n",
       "      <th>1</th>\n",
       "      <td>We tried out the lunch specials and found them...</td>\n",
       "      <td>4</td>\n",
       "      <td>4.0</td>\n",
       "    </tr>\n",
       "    <tr>\n",
       "      <th>2</th>\n",
       "      <td>Should have known better than to eat in a plac...</td>\n",
       "      <td>1</td>\n",
       "      <td>2.0</td>\n",
       "    </tr>\n",
       "    <tr>\n",
       "      <th>3</th>\n",
       "      <td>This place has sure changed...and not for the ...</td>\n",
       "      <td>2</td>\n",
       "      <td>2.0</td>\n",
       "    </tr>\n",
       "    <tr>\n",
       "      <th>4</th>\n",
       "      <td>I've been bringing my son to the owner Michael...</td>\n",
       "      <td>5</td>\n",
       "      <td>5.0</td>\n",
       "    </tr>\n",
       "    <tr>\n",
       "      <th>5</th>\n",
       "      <td>The trip to the location takes two busses and ...</td>\n",
       "      <td>1</td>\n",
       "      <td>1.0</td>\n",
       "    </tr>\n",
       "    <tr>\n",
       "      <th>6</th>\n",
       "      <td>This restaurant was suggested to me by a frien...</td>\n",
       "      <td>4</td>\n",
       "      <td>4.0</td>\n",
       "    </tr>\n",
       "    <tr>\n",
       "      <th>7</th>\n",
       "      <td>This place is unique because you are sitting o...</td>\n",
       "      <td>3</td>\n",
       "      <td>3.0</td>\n",
       "    </tr>\n",
       "    <tr>\n",
       "      <th>8</th>\n",
       "      <td>Whew, $10 for a whiskey ginger ale and $18 for...</td>\n",
       "      <td>3</td>\n",
       "      <td>3.0</td>\n",
       "    </tr>\n",
       "    <tr>\n",
       "      <th>9</th>\n",
       "      <td>Loove me some Pei Wei! Boyfriend isn't a fan, ...</td>\n",
       "      <td>4</td>\n",
       "      <td>4.0</td>\n",
       "    </tr>\n",
       "    <tr>\n",
       "      <th>10</th>\n",
       "      <td>I have been looking for a perfect Thai food re...</td>\n",
       "      <td>5</td>\n",
       "      <td>5.0</td>\n",
       "    </tr>\n",
       "    <tr>\n",
       "      <th>11</th>\n",
       "      <td>This restaurant has a nice classic American de...</td>\n",
       "      <td>4</td>\n",
       "      <td>4.0</td>\n",
       "    </tr>\n",
       "    <tr>\n",
       "      <th>12</th>\n",
       "      <td>DH was getting pizza at #1 Brothers so I origi...</td>\n",
       "      <td>4</td>\n",
       "      <td>5.0</td>\n",
       "    </tr>\n",
       "    <tr>\n",
       "      <th>13</th>\n",
       "      <td>A EVITER !\\n\\nNous avons attendu 2h45 pour avo...</td>\n",
       "      <td>1</td>\n",
       "      <td>1.0</td>\n",
       "    </tr>\n",
       "    <tr>\n",
       "      <th>14</th>\n",
       "      <td>DO NOT ORDER FROM VITACOST!!!\\n\\nI have never ...</td>\n",
       "      <td>1</td>\n",
       "      <td>2.0</td>\n",
       "    </tr>\n",
       "    <tr>\n",
       "      <th>15</th>\n",
       "      <td>Went here today to get some sushi grade salmon...</td>\n",
       "      <td>4</td>\n",
       "      <td>5.0</td>\n",
       "    </tr>\n",
       "    <tr>\n",
       "      <th>16</th>\n",
       "      <td>Lots of hands on stuff to do and explore. My f...</td>\n",
       "      <td>4</td>\n",
       "      <td>4.0</td>\n",
       "    </tr>\n",
       "    <tr>\n",
       "      <th>17</th>\n",
       "      <td>I just started working at a corporate office i...</td>\n",
       "      <td>2</td>\n",
       "      <td>2.0</td>\n",
       "    </tr>\n",
       "    <tr>\n",
       "      <th>18</th>\n",
       "      <td>Went to this place and it is the bomb. I had s...</td>\n",
       "      <td>5</td>\n",
       "      <td>5.0</td>\n",
       "    </tr>\n",
       "    <tr>\n",
       "      <th>19</th>\n",
       "      <td>I was never really a fan of Hamburgers so my r...</td>\n",
       "      <td>4</td>\n",
       "      <td>4.0</td>\n",
       "    </tr>\n",
       "    <tr>\n",
       "      <th>20</th>\n",
       "      <td>Just opened and boy is the pizza great.  A awe...</td>\n",
       "      <td>4</td>\n",
       "      <td>5.0</td>\n",
       "    </tr>\n",
       "    <tr>\n",
       "      <th>21</th>\n",
       "      <td>They do not have their own bathroom. I came he...</td>\n",
       "      <td>2</td>\n",
       "      <td>2.0</td>\n",
       "    </tr>\n",
       "    <tr>\n",
       "      <th>22</th>\n",
       "      <td>so far, this is the most deceptive yelp rating...</td>\n",
       "      <td>2</td>\n",
       "      <td>3.0</td>\n",
       "    </tr>\n",
       "    <tr>\n",
       "      <th>23</th>\n",
       "      <td>Pretty okay pizza.  Standard so-so Pittsburgh ...</td>\n",
       "      <td>2</td>\n",
       "      <td>3.0</td>\n",
       "    </tr>\n",
       "    <tr>\n",
       "      <th>24</th>\n",
       "      <td>Amazing atmosphere, great service, fantastic d...</td>\n",
       "      <td>5</td>\n",
       "      <td>4.0</td>\n",
       "    </tr>\n",
       "    <tr>\n",
       "      <th>25</th>\n",
       "      <td>Tried Envy based on the ratings that people le...</td>\n",
       "      <td>2</td>\n",
       "      <td>3.0</td>\n",
       "    </tr>\n",
       "    <tr>\n",
       "      <th>26</th>\n",
       "      <td>Just got back from a stay at the Phoenician.  ...</td>\n",
       "      <td>2</td>\n",
       "      <td>3.0</td>\n",
       "    </tr>\n",
       "    <tr>\n",
       "      <th>27</th>\n",
       "      <td>I heard mixed reviews about Lure. We decided t...</td>\n",
       "      <td>5</td>\n",
       "      <td>5.0</td>\n",
       "    </tr>\n",
       "    <tr>\n",
       "      <th>28</th>\n",
       "      <td>Great sandwiches! the bread was superb. I had ...</td>\n",
       "      <td>4</td>\n",
       "      <td>4.0</td>\n",
       "    </tr>\n",
       "    <tr>\n",
       "      <th>29</th>\n",
       "      <td>I was very disappointed with my meal here. It ...</td>\n",
       "      <td>2</td>\n",
       "      <td>2.0</td>\n",
       "    </tr>\n",
       "  </tbody>\n",
       "</table>\n",
       "</div>"
      ],
      "text/plain": [
       "                                                input  reference  prediction\n",
       "0   Stayed at the Wm Penn down the street for a we...          5         4.0\n",
       "1   We tried out the lunch specials and found them...          4         4.0\n",
       "2   Should have known better than to eat in a plac...          1         2.0\n",
       "3   This place has sure changed...and not for the ...          2         2.0\n",
       "4   I've been bringing my son to the owner Michael...          5         5.0\n",
       "5   The trip to the location takes two busses and ...          1         1.0\n",
       "6   This restaurant was suggested to me by a frien...          4         4.0\n",
       "7   This place is unique because you are sitting o...          3         3.0\n",
       "8   Whew, $10 for a whiskey ginger ale and $18 for...          3         3.0\n",
       "9   Loove me some Pei Wei! Boyfriend isn't a fan, ...          4         4.0\n",
       "10  I have been looking for a perfect Thai food re...          5         5.0\n",
       "11  This restaurant has a nice classic American de...          4         4.0\n",
       "12  DH was getting pizza at #1 Brothers so I origi...          4         5.0\n",
       "13  A EVITER !\\n\\nNous avons attendu 2h45 pour avo...          1         1.0\n",
       "14  DO NOT ORDER FROM VITACOST!!!\\n\\nI have never ...          1         2.0\n",
       "15  Went here today to get some sushi grade salmon...          4         5.0\n",
       "16  Lots of hands on stuff to do and explore. My f...          4         4.0\n",
       "17  I just started working at a corporate office i...          2         2.0\n",
       "18  Went to this place and it is the bomb. I had s...          5         5.0\n",
       "19  I was never really a fan of Hamburgers so my r...          4         4.0\n",
       "20  Just opened and boy is the pizza great.  A awe...          4         5.0\n",
       "21  They do not have their own bathroom. I came he...          2         2.0\n",
       "22  so far, this is the most deceptive yelp rating...          2         3.0\n",
       "23  Pretty okay pizza.  Standard so-so Pittsburgh ...          2         3.0\n",
       "24  Amazing atmosphere, great service, fantastic d...          5         4.0\n",
       "25  Tried Envy based on the ratings that people le...          2         3.0\n",
       "26  Just got back from a stay at the Phoenician.  ...          2         3.0\n",
       "27  I heard mixed reviews about Lure. We decided t...          5         5.0\n",
       "28  Great sandwiches! the bread was superb. I had ...          4         4.0\n",
       "29  I was very disappointed with my meal here. It ...          2         2.0"
      ]
     },
     "execution_count": 6,
     "metadata": {},
     "output_type": "execute_result"
    }
   ],
   "source": [
    "clear_output(wait=True)\n",
    "\n",
    "# simple references + COT\n",
    "eval2 = fastrepl.Evaluator(\n",
    "    pipeline=[\n",
    "        fastrepl.LLMGradingHead(\n",
    "            model=\"gpt-3.5-turbo\",\n",
    "            context=\"You will get a input text from Yelp review. Grade user's satisfaction from 1 to 5.\",\n",
    "            number_from=1,\n",
    "            number_to=5,\n",
    "            position_debias_strategy=\"shuffle\",\n",
    "            references=[(\"this is the best!\", \"5\"), (\"this is the worst!\", \"1\")],\n",
    "        )\n",
    "    ]\n",
    ")\n",
    "\n",
    "result2 = fastrepl.LocalRunner(evaluator=eval2, dataset=dataset).run()\n",
    "result2 = result2.map(to_number)\n",
    "\n",
    "print_metric(\"accuracy\", result2[\"prediction\"], result2[\"reference\"])\n",
    "print_metric(\"mse\", result2[\"prediction\"], result2[\"reference\"])\n",
    "print_metric(\"mae\", result2[\"prediction\"], result2[\"reference\"])\n",
    "\n",
    "result2.to_pandas()"
   ]
  },
  {
   "cell_type": "code",
   "execution_count": 7,
   "metadata": {},
   "outputs": [
    {
     "data": {
      "application/vnd.jupyter.widget-view+json": {
       "model_id": "8b72ef33f0324043bae9216f43bebfc3",
       "version_major": 2,
       "version_minor": 0
      },
      "text/plain": [
       "Output()"
      ]
     },
     "metadata": {},
     "output_type": "display_data"
    },
    {
     "data": {
      "text/html": [
       "<pre style=\"white-space:pre;overflow-x:auto;line-height:normal;font-family:Menlo,'DejaVu Sans Mono',consolas,'Courier New',monospace\">/Users/yujonglee/dev/fastrepl/fastrepl/fastrepl/warnings.py:24: InvalidPredictionWarning: '1. 1' not in ['1', '2', \n",
       "'3', '4', '5']. full: ### Thoughts\n",
       "1. The customer seems to be very dissatisfied with their experience with Vitacost.\n",
       "2. They had issues with their order not being shipped on time, and the customer service representative lied about \n",
       "it.\n",
       "3. The customer received an email with grammatical errors and had to complain about it.\n",
       "4. The order was missing four items and contained one wrong item, leading to the customer being even angrier.\n",
       "5. Despite some attempts at resolution, the customer feels that Vitacost is unprofessional and careless, and they \n",
       "have wasted their time and now have to go to the store anyway.\n",
       "\n",
       "### Result\n",
       "1. 1 | https://docs.fastrepl.com/miscellaneous/warnings_and_errors#invalidprediction\n",
       "</pre>\n"
      ],
      "text/plain": [
       "/Users/yujonglee/dev/fastrepl/fastrepl/fastrepl/warnings.py:24: InvalidPredictionWarning: '1. 1' not in ['1', '2', \n",
       "'3', '4', '5']. full: ### Thoughts\n",
       "1. The customer seems to be very dissatisfied with their experience with Vitacost.\n",
       "2. They had issues with their order not being shipped on time, and the customer service representative lied about \n",
       "it.\n",
       "3. The customer received an email with grammatical errors and had to complain about it.\n",
       "4. The order was missing four items and contained one wrong item, leading to the customer being even angrier.\n",
       "5. Despite some attempts at resolution, the customer feels that Vitacost is unprofessional and careless, and they \n",
       "have wasted their time and now have to go to the store anyway.\n",
       "\n",
       "### Result\n",
       "1. 1 | https://docs.fastrepl.com/miscellaneous/warnings_and_errors#invalidprediction\n"
      ]
     },
     "metadata": {},
     "output_type": "display_data"
    },
    {
     "data": {
      "text/html": [
       "<pre style=\"white-space:pre;overflow-x:auto;line-height:normal;font-family:Menlo,'DejaVu Sans Mono',consolas,'Courier New',monospace\">/Users/yujonglee/dev/fastrepl/fastrepl/fastrepl/warnings.py:24: InvalidPredictionWarning: '1.5' not in ['1', '2', \n",
       "'3', '4', '5']. full: ### Thoughts\n",
       "The customer starts by expressing their disappointment with their meal at this restaurant, mentioning that it is \n",
       "overpriced. They specifically mention the Black Pepper chicken dish, stating that it was bland and flavorless, and \n",
       "they had to add chili sauce to enhance the flavor. They also mention that the mushroom sauce in the mushroom &amp; poor\n",
       "noodle dish was mediocre, and the fried eggplant was limp and soaked in oil. The customer highlights the high \n",
       "prices of the iced teas and steamed rice, stating that the final bill was $80 and they weren't even full. They \n",
       "compare the restaurant unfavorably to Panda Express and advise others to keep moving and explore other options in \n",
       "Vegas.\n",
       "\n",
       "### Result\n",
       "1.5 | https://docs.fastrepl.com/miscellaneous/warnings_and_errors#invalidprediction\n",
       "</pre>\n"
      ],
      "text/plain": [
       "/Users/yujonglee/dev/fastrepl/fastrepl/fastrepl/warnings.py:24: InvalidPredictionWarning: '1.5' not in ['1', '2', \n",
       "'3', '4', '5']. full: ### Thoughts\n",
       "The customer starts by expressing their disappointment with their meal at this restaurant, mentioning that it is \n",
       "overpriced. They specifically mention the Black Pepper chicken dish, stating that it was bland and flavorless, and \n",
       "they had to add chili sauce to enhance the flavor. They also mention that the mushroom sauce in the mushroom & poor\n",
       "noodle dish was mediocre, and the fried eggplant was limp and soaked in oil. The customer highlights the high \n",
       "prices of the iced teas and steamed rice, stating that the final bill was $80 and they weren't even full. They \n",
       "compare the restaurant unfavorably to Panda Express and advise others to keep moving and explore other options in \n",
       "Vegas.\n",
       "\n",
       "### Result\n",
       "1.5 | https://docs.fastrepl.com/miscellaneous/warnings_and_errors#invalidprediction\n"
      ]
     },
     "metadata": {},
     "output_type": "display_data"
    },
    {
     "name": "stderr",
     "output_type": "stream",
     "text": [
      "2023-09-04 11:12:05,987 - 11417366528 - _common.py-_common:105 - INFO: Backing off completion(...) for 1.5s (fastrepl.llm.RetryConstantException)\n"
     ]
    },
    {
     "name": "stderr",
     "output_type": "stream",
     "text": [
      "2023-09-04 11:12:14,681 - 11299581952 - _common.py-_common:105 - INFO: Backing off completion(...) for 2.0s (fastrepl.llm.RetryConstantException)\n"
     ]
    },
    {
     "data": {
      "text/html": [
       "<pre style=\"white-space:pre;overflow-x:auto;line-height:normal;font-family:Menlo,'DejaVu Sans Mono',consolas,'Courier New',monospace\"></pre>\n"
      ],
      "text/plain": []
     },
     "metadata": {},
     "output_type": "display_data"
    },
    {
     "data": {
      "text/html": [
       "<pre style=\"white-space:pre;overflow-x:auto;line-height:normal;font-family:Menlo,'DejaVu Sans Mono',consolas,'Courier New',monospace\">\n",
       "</pre>\n"
      ],
      "text/plain": [
       "\n"
      ]
     },
     "metadata": {},
     "output_type": "display_data"
    },
    {
     "data": {
      "application/vnd.jupyter.widget-view+json": {
       "model_id": "da5013a3f7b24e8cbe547cb791de140b",
       "version_major": 2,
       "version_minor": 0
      },
      "text/plain": [
       "Map:   0%|          | 0/30 [00:00<?, ? examples/s]"
      ]
     },
     "metadata": {},
     "output_type": "display_data"
    },
    {
     "name": "stdout",
     "output_type": "stream",
     "text": [
      "None detected, setting to 0\n",
      "None detected, setting to 0\n",
      "accuracy: 0.6\n",
      "mse: 0.5\n",
      "mae: 0.43333333333333335\n"
     ]
    },
    {
     "data": {
      "text/html": [
       "<div>\n",
       "<style scoped>\n",
       "    .dataframe tbody tr th:only-of-type {\n",
       "        vertical-align: middle;\n",
       "    }\n",
       "\n",
       "    .dataframe tbody tr th {\n",
       "        vertical-align: top;\n",
       "    }\n",
       "\n",
       "    .dataframe thead th {\n",
       "        text-align: right;\n",
       "    }\n",
       "</style>\n",
       "<table border=\"1\" class=\"dataframe\">\n",
       "  <thead>\n",
       "    <tr style=\"text-align: right;\">\n",
       "      <th></th>\n",
       "      <th>input</th>\n",
       "      <th>reference</th>\n",
       "      <th>prediction</th>\n",
       "    </tr>\n",
       "  </thead>\n",
       "  <tbody>\n",
       "    <tr>\n",
       "      <th>0</th>\n",
       "      <td>Stayed at the Wm Penn down the street for a we...</td>\n",
       "      <td>5</td>\n",
       "      <td>4.0</td>\n",
       "    </tr>\n",
       "    <tr>\n",
       "      <th>1</th>\n",
       "      <td>We tried out the lunch specials and found them...</td>\n",
       "      <td>4</td>\n",
       "      <td>4.0</td>\n",
       "    </tr>\n",
       "    <tr>\n",
       "      <th>2</th>\n",
       "      <td>Should have known better than to eat in a plac...</td>\n",
       "      <td>1</td>\n",
       "      <td>1.0</td>\n",
       "    </tr>\n",
       "    <tr>\n",
       "      <th>3</th>\n",
       "      <td>This place has sure changed...and not for the ...</td>\n",
       "      <td>2</td>\n",
       "      <td>2.0</td>\n",
       "    </tr>\n",
       "    <tr>\n",
       "      <th>4</th>\n",
       "      <td>I've been bringing my son to the owner Michael...</td>\n",
       "      <td>5</td>\n",
       "      <td>5.0</td>\n",
       "    </tr>\n",
       "    <tr>\n",
       "      <th>5</th>\n",
       "      <td>The trip to the location takes two busses and ...</td>\n",
       "      <td>1</td>\n",
       "      <td>1.0</td>\n",
       "    </tr>\n",
       "    <tr>\n",
       "      <th>6</th>\n",
       "      <td>This restaurant was suggested to me by a frien...</td>\n",
       "      <td>4</td>\n",
       "      <td>5.0</td>\n",
       "    </tr>\n",
       "    <tr>\n",
       "      <th>7</th>\n",
       "      <td>This place is unique because you are sitting o...</td>\n",
       "      <td>3</td>\n",
       "      <td>3.0</td>\n",
       "    </tr>\n",
       "    <tr>\n",
       "      <th>8</th>\n",
       "      <td>Whew, $10 for a whiskey ginger ale and $18 for...</td>\n",
       "      <td>3</td>\n",
       "      <td>3.0</td>\n",
       "    </tr>\n",
       "    <tr>\n",
       "      <th>9</th>\n",
       "      <td>Loove me some Pei Wei! Boyfriend isn't a fan, ...</td>\n",
       "      <td>4</td>\n",
       "      <td>5.0</td>\n",
       "    </tr>\n",
       "    <tr>\n",
       "      <th>10</th>\n",
       "      <td>I have been looking for a perfect Thai food re...</td>\n",
       "      <td>5</td>\n",
       "      <td>5.0</td>\n",
       "    </tr>\n",
       "    <tr>\n",
       "      <th>11</th>\n",
       "      <td>This restaurant has a nice classic American de...</td>\n",
       "      <td>4</td>\n",
       "      <td>5.0</td>\n",
       "    </tr>\n",
       "    <tr>\n",
       "      <th>12</th>\n",
       "      <td>DH was getting pizza at #1 Brothers so I origi...</td>\n",
       "      <td>4</td>\n",
       "      <td>4.0</td>\n",
       "    </tr>\n",
       "    <tr>\n",
       "      <th>13</th>\n",
       "      <td>A EVITER !\\n\\nNous avons attendu 2h45 pour avo...</td>\n",
       "      <td>1</td>\n",
       "      <td>1.0</td>\n",
       "    </tr>\n",
       "    <tr>\n",
       "      <th>14</th>\n",
       "      <td>DO NOT ORDER FROM VITACOST!!!\\n\\nI have never ...</td>\n",
       "      <td>1</td>\n",
       "      <td>0.0</td>\n",
       "    </tr>\n",
       "    <tr>\n",
       "      <th>15</th>\n",
       "      <td>Went here today to get some sushi grade salmon...</td>\n",
       "      <td>4</td>\n",
       "      <td>5.0</td>\n",
       "    </tr>\n",
       "    <tr>\n",
       "      <th>16</th>\n",
       "      <td>Lots of hands on stuff to do and explore. My f...</td>\n",
       "      <td>4</td>\n",
       "      <td>5.0</td>\n",
       "    </tr>\n",
       "    <tr>\n",
       "      <th>17</th>\n",
       "      <td>I just started working at a corporate office i...</td>\n",
       "      <td>2</td>\n",
       "      <td>2.0</td>\n",
       "    </tr>\n",
       "    <tr>\n",
       "      <th>18</th>\n",
       "      <td>Went to this place and it is the bomb. I had s...</td>\n",
       "      <td>5</td>\n",
       "      <td>5.0</td>\n",
       "    </tr>\n",
       "    <tr>\n",
       "      <th>19</th>\n",
       "      <td>I was never really a fan of Hamburgers so my r...</td>\n",
       "      <td>4</td>\n",
       "      <td>3.0</td>\n",
       "    </tr>\n",
       "    <tr>\n",
       "      <th>20</th>\n",
       "      <td>Just opened and boy is the pizza great.  A awe...</td>\n",
       "      <td>4</td>\n",
       "      <td>5.0</td>\n",
       "    </tr>\n",
       "    <tr>\n",
       "      <th>21</th>\n",
       "      <td>They do not have their own bathroom. I came he...</td>\n",
       "      <td>2</td>\n",
       "      <td>2.0</td>\n",
       "    </tr>\n",
       "    <tr>\n",
       "      <th>22</th>\n",
       "      <td>so far, this is the most deceptive yelp rating...</td>\n",
       "      <td>2</td>\n",
       "      <td>2.0</td>\n",
       "    </tr>\n",
       "    <tr>\n",
       "      <th>23</th>\n",
       "      <td>Pretty okay pizza.  Standard so-so Pittsburgh ...</td>\n",
       "      <td>2</td>\n",
       "      <td>3.0</td>\n",
       "    </tr>\n",
       "    <tr>\n",
       "      <th>24</th>\n",
       "      <td>Amazing atmosphere, great service, fantastic d...</td>\n",
       "      <td>5</td>\n",
       "      <td>5.0</td>\n",
       "    </tr>\n",
       "    <tr>\n",
       "      <th>25</th>\n",
       "      <td>Tried Envy based on the ratings that people le...</td>\n",
       "      <td>2</td>\n",
       "      <td>2.0</td>\n",
       "    </tr>\n",
       "    <tr>\n",
       "      <th>26</th>\n",
       "      <td>Just got back from a stay at the Phoenician.  ...</td>\n",
       "      <td>2</td>\n",
       "      <td>2.0</td>\n",
       "    </tr>\n",
       "    <tr>\n",
       "      <th>27</th>\n",
       "      <td>I heard mixed reviews about Lure. We decided t...</td>\n",
       "      <td>5</td>\n",
       "      <td>5.0</td>\n",
       "    </tr>\n",
       "    <tr>\n",
       "      <th>28</th>\n",
       "      <td>Great sandwiches! the bread was superb. I had ...</td>\n",
       "      <td>4</td>\n",
       "      <td>5.0</td>\n",
       "    </tr>\n",
       "    <tr>\n",
       "      <th>29</th>\n",
       "      <td>I was very disappointed with my meal here. It ...</td>\n",
       "      <td>2</td>\n",
       "      <td>0.0</td>\n",
       "    </tr>\n",
       "  </tbody>\n",
       "</table>\n",
       "</div>"
      ],
      "text/plain": [
       "                                                input  reference  prediction\n",
       "0   Stayed at the Wm Penn down the street for a we...          5         4.0\n",
       "1   We tried out the lunch specials and found them...          4         4.0\n",
       "2   Should have known better than to eat in a plac...          1         1.0\n",
       "3   This place has sure changed...and not for the ...          2         2.0\n",
       "4   I've been bringing my son to the owner Michael...          5         5.0\n",
       "5   The trip to the location takes two busses and ...          1         1.0\n",
       "6   This restaurant was suggested to me by a frien...          4         5.0\n",
       "7   This place is unique because you are sitting o...          3         3.0\n",
       "8   Whew, $10 for a whiskey ginger ale and $18 for...          3         3.0\n",
       "9   Loove me some Pei Wei! Boyfriend isn't a fan, ...          4         5.0\n",
       "10  I have been looking for a perfect Thai food re...          5         5.0\n",
       "11  This restaurant has a nice classic American de...          4         5.0\n",
       "12  DH was getting pizza at #1 Brothers so I origi...          4         4.0\n",
       "13  A EVITER !\\n\\nNous avons attendu 2h45 pour avo...          1         1.0\n",
       "14  DO NOT ORDER FROM VITACOST!!!\\n\\nI have never ...          1         0.0\n",
       "15  Went here today to get some sushi grade salmon...          4         5.0\n",
       "16  Lots of hands on stuff to do and explore. My f...          4         5.0\n",
       "17  I just started working at a corporate office i...          2         2.0\n",
       "18  Went to this place and it is the bomb. I had s...          5         5.0\n",
       "19  I was never really a fan of Hamburgers so my r...          4         3.0\n",
       "20  Just opened and boy is the pizza great.  A awe...          4         5.0\n",
       "21  They do not have their own bathroom. I came he...          2         2.0\n",
       "22  so far, this is the most deceptive yelp rating...          2         2.0\n",
       "23  Pretty okay pizza.  Standard so-so Pittsburgh ...          2         3.0\n",
       "24  Amazing atmosphere, great service, fantastic d...          5         5.0\n",
       "25  Tried Envy based on the ratings that people le...          2         2.0\n",
       "26  Just got back from a stay at the Phoenician.  ...          2         2.0\n",
       "27  I heard mixed reviews about Lure. We decided t...          5         5.0\n",
       "28  Great sandwiches! the bread was superb. I had ...          4         5.0\n",
       "29  I was very disappointed with my meal here. It ...          2         0.0"
      ]
     },
     "execution_count": 7,
     "metadata": {},
     "output_type": "execute_result"
    }
   ],
   "source": [
    "clear_output(wait=True)\n",
    "\n",
    "eval3 = fastrepl.Evaluator(\n",
    "    pipeline=[\n",
    "        fastrepl.LLMGradingHeadCOT(\n",
    "            model=\"gpt-3.5-turbo\",\n",
    "            context=\"You will get a input text from Yelp review. Grade user's satisfaction from 1 to 5.\",\n",
    "            number_from=1,\n",
    "            number_to=5,\n",
    "        )\n",
    "    ]\n",
    ")\n",
    "\n",
    "result3 = fastrepl.LocalRunner(evaluator=eval3, dataset=dataset).run()\n",
    "result3 = result3.map(to_number)\n",
    "\n",
    "print_metric(\"accuracy\", result3[\"prediction\"], result3[\"reference\"])\n",
    "print_metric(\"mse\", result3[\"prediction\"], result3[\"reference\"])\n",
    "print_metric(\"mae\", result3[\"prediction\"], result3[\"reference\"])\n",
    "\n",
    "result3.to_pandas()"
   ]
  }
 ],
 "metadata": {
  "kernelspec": {
   "display_name": ".venv",
   "language": "python",
   "name": "python3"
  },
  "language_info": {
   "codemirror_mode": {
    "name": "ipython",
    "version": 3
   },
   "file_extension": ".py",
   "mimetype": "text/x-python",
   "name": "python",
   "nbconvert_exporter": "python",
   "pygments_lexer": "ipython3",
   "version": "3.11.3"
  },
  "orig_nbformat": 4
 },
 "nbformat": 4,
 "nbformat_minor": 2
}
