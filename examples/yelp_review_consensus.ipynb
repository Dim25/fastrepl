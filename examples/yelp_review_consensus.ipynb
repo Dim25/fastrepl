{
 "cells": [
  {
   "cell_type": "code",
   "execution_count": 1,
   "metadata": {},
   "outputs": [],
   "source": [
    "import fastrepl.repl as fastrepl\n",
    "\n",
    "fastrepl.LLMCache.disable()\n",
    "fastrepl.DEBUG(0)"
   ]
  },
  {
   "cell_type": "code",
   "execution_count": 2,
   "metadata": {},
   "outputs": [],
   "source": [
    "from IPython.display import clear_output"
   ]
  },
  {
   "cell_type": "code",
   "execution_count": 3,
   "metadata": {},
   "outputs": [],
   "source": [
    "from datasets import load_dataset\n",
    "\n",
    "# We have dataset for meta-eval\n",
    "dataset = load_dataset(\"yelp_review_full\", split=\"test\")\n",
    "dataset = dataset.shuffle(seed=8)\n",
    "dataset = dataset.select(range(10))\n",
    "dataset = dataset.rename_column(\"text\", \"input\")\n",
    "dataset = dataset.map(\n",
    "    lambda row: {\"reference\": row[\"label\"] + 1, \"input\": row[\"input\"]},\n",
    "    remove_columns=[\"label\"],\n",
    ")"
   ]
  },
  {
   "cell_type": "code",
   "execution_count": 4,
   "metadata": {},
   "outputs": [],
   "source": [
    "labels = {\n",
    "    \"FIVE_STARS\": \"given review is likely to be 5 stars\",\n",
    "    \"FOUR_STARS\": \"given review is likely to be 4 stars\",\n",
    "    \"THREE_STARS\": \"given review is likely to be 3 stars\",\n",
    "    \"TWO_STARS\": \"given review is likely to be 2 stars\",\n",
    "    \"ONE_STAR\": \"given review is likely to be 1 star\",\n",
    "}\n",
    "\n",
    "human_eval = fastrepl.HumanClassifierRich(labels=labels)\n",
    "\n",
    "\n",
    "def label_to_score(example):\n",
    "    label = example[\"prediction\"]\n",
    "    if label is None:\n",
    "        label = human_eval.compute(example[\"input\"])\n",
    "\n",
    "    example[\"prediction\"] = {\n",
    "        \"FIVE_STARS\": 5,\n",
    "        \"FOUR_STARS\": 4,\n",
    "        \"THREE_STARS\": 3,\n",
    "        \"TWO_STARS\": 2,\n",
    "        \"ONE_STAR\": 1,\n",
    "    }[label]\n",
    "\n",
    "    return example"
   ]
  },
  {
   "cell_type": "code",
   "execution_count": 5,
   "metadata": {},
   "outputs": [],
   "source": [
    "def print_metric(metric_name, predictions, references):\n",
    "    metric = fastrepl.load_metric(metric_name)\n",
    "    result = metric.compute(predictions=predictions, references=references)\n",
    "    print(f\"{metric_name}: {result[metric_name]}\")"
   ]
  },
  {
   "cell_type": "code",
   "execution_count": 6,
   "metadata": {},
   "outputs": [
    {
     "data": {
      "application/vnd.jupyter.widget-view+json": {
       "model_id": "f408a860b2884dc8b66d892fd1ed2753",
       "version_major": 2,
       "version_minor": 0
      },
      "text/plain": [
       "Output()"
      ]
     },
     "metadata": {},
     "output_type": "display_data"
    },
    {
     "data": {
      "text/html": [
       "<pre style=\"white-space:pre;overflow-x:auto;line-height:normal;font-family:Menlo,'DejaVu Sans Mono',consolas,'Courier New',monospace\">/Users/yujonglee/dev/fastrepl/fastrepl/fastrepl/llm.py:133: UserWarning: {model} completion truncated due to length\n",
       "  warnings.warn(\"{model} completion truncated due to length\")\n",
       "</pre>\n"
      ],
      "text/plain": [
       "/Users/yujonglee/dev/fastrepl/fastrepl/fastrepl/llm.py:133: UserWarning: {model} completion truncated due to length\n",
       "  warnings.warn(\"{model} completion truncated due to length\")\n"
      ]
     },
     "metadata": {},
     "output_type": "display_data"
    },
    {
     "name": "stderr",
     "output_type": "stream",
     "text": [
      "2023-08-31 10:36:52,437 - 11375226880 - _common.py-_common:105 - INFO: Backing off completion(...) for 1.4s (fastrepl.llm.RetryConstantException)\n"
     ]
    },
    {
     "data": {
      "text/html": [
       "<pre style=\"white-space:pre;overflow-x:auto;line-height:normal;font-family:Menlo,'DejaVu Sans Mono',consolas,'Courier New',monospace\"></pre>\n"
      ],
      "text/plain": []
     },
     "metadata": {},
     "output_type": "display_data"
    },
    {
     "data": {
      "text/html": [
       "<pre style=\"white-space:pre;overflow-x:auto;line-height:normal;font-family:Menlo,'DejaVu Sans Mono',consolas,'Courier New',monospace\">\n",
       "</pre>\n"
      ],
      "text/plain": [
       "\n"
      ]
     },
     "metadata": {},
     "output_type": "display_data"
    },
    {
     "data": {
      "application/vnd.jupyter.widget-view+json": {
       "model_id": "1e7204b71d2649dcb81f220176e1bcac",
       "version_major": 2,
       "version_minor": 0
      },
      "text/plain": [
       "Map:   0%|          | 0/10 [00:00<?, ? examples/s]"
      ]
     },
     "metadata": {},
     "output_type": "display_data"
    },
    {
     "data": {
      "text/html": [
       "<pre style=\"white-space:pre;overflow-x:auto;line-height:normal;font-family:Menlo,'DejaVu Sans Mono',consolas,'Courier New',monospace\"><span style=\"color: #ff00ff; text-decoration-color: #ff00ff\">Classify the following sample:</span>\n",
       "\n",
       "We tried out the lunch specials and found them to be pretty good.  For about $6 we both got healthy portions of \n",
       "spicy food along with fairly good service.  Take a chance and go for the hotter dishes.  :-)\n",
       "\n",
       " <span style=\"color: #800080; text-decoration-color: #800080; font-weight: bold\">[FIVE_STARS/ONE_STAR/THREE_STARS/FOUR_STARS/TWO_STARS]</span>: </pre>\n"
      ],
      "text/plain": [
       "\u001b[95mClassify the following sample:\u001b[0m\n",
       "\n",
       "We tried out the lunch specials and found them to be pretty good.  For about $6 we both got healthy portions of \n",
       "spicy food along with fairly good service.  Take a chance and go for the hotter dishes.  :-)\n",
       "\n",
       " \u001b[1;35m[FIVE_STARS/ONE_STAR/THREE_STARS/FOUR_STARS/TWO_STARS]\u001b[0m: "
      ]
     },
     "metadata": {},
     "output_type": "display_data"
    },
    {
     "data": {
      "text/html": [
       "<pre style=\"white-space:pre;overflow-x:auto;line-height:normal;font-family:Menlo,'DejaVu Sans Mono',consolas,'Courier New',monospace\"><span style=\"color: #ff00ff; text-decoration-color: #ff00ff\">Classify the following sample:</span>\n",
       "\n",
       "Whew, $10 for a whiskey ginger ale and $18 for a martini.  We must be in Las Vegas. \\n\\nOh wait, yes we are.  Red \n",
       "Square is worth it for the ambiance, if you ask me.  I'd like to have seen more of what they had to offer.  The \n",
       "\\\"ice bar\\\" that gets a lot of hype isn't as impressive as it sounds.\\n\\nThe staff were pretty slow - I think 3 of \n",
       "them behind the bar, and we waited 10 minutes before being served and once our orders were taken they were in no \n",
       "rush to serve either.  Tipped minimally, but otherwise they weren't jerks or anything.  It's not like they were \n",
       "busy, either - it was a Tuesday night in February.  \\n\\nI'm being kind of hard on them, but we did have fun and \n",
       "it's a neat theme.  We did not go back in the vodka room, though.  Maybe next time.\n",
       "\n",
       " <span style=\"color: #800080; text-decoration-color: #800080; font-weight: bold\">[FOUR_STARS/ONE_STAR/THREE_STARS/FIVE_STARS/TWO_STARS]</span>: </pre>\n"
      ],
      "text/plain": [
       "\u001b[95mClassify the following sample:\u001b[0m\n",
       "\n",
       "Whew, $10 for a whiskey ginger ale and $18 for a martini.  We must be in Las Vegas. \\n\\nOh wait, yes we are.  Red \n",
       "Square is worth it for the ambiance, if you ask me.  I'd like to have seen more of what they had to offer.  The \n",
       "\\\"ice bar\\\" that gets a lot of hype isn't as impressive as it sounds.\\n\\nThe staff were pretty slow - I think 3 of \n",
       "them behind the bar, and we waited 10 minutes before being served and once our orders were taken they were in no \n",
       "rush to serve either.  Tipped minimally, but otherwise they weren't jerks or anything.  It's not like they were \n",
       "busy, either - it was a Tuesday night in February.  \\n\\nI'm being kind of hard on them, but we did have fun and \n",
       "it's a neat theme.  We did not go back in the vodka room, though.  Maybe next time.\n",
       "\n",
       " \u001b[1;35m[FOUR_STARS/ONE_STAR/THREE_STARS/FIVE_STARS/TWO_STARS]\u001b[0m: "
      ]
     },
     "metadata": {},
     "output_type": "display_data"
    },
    {
     "name": "stdout",
     "output_type": "stream",
     "text": [
      "accuracy: 0.8\n",
      "mse: 0.2\n",
      "mae: 0.2\n"
     ]
    },
    {
     "data": {
      "text/html": [
       "<div>\n",
       "<style scoped>\n",
       "    .dataframe tbody tr th:only-of-type {\n",
       "        vertical-align: middle;\n",
       "    }\n",
       "\n",
       "    .dataframe tbody tr th {\n",
       "        vertical-align: top;\n",
       "    }\n",
       "\n",
       "    .dataframe thead th {\n",
       "        text-align: right;\n",
       "    }\n",
       "</style>\n",
       "<table border=\"1\" class=\"dataframe\">\n",
       "  <thead>\n",
       "    <tr style=\"text-align: right;\">\n",
       "      <th></th>\n",
       "      <th>input</th>\n",
       "      <th>reference</th>\n",
       "      <th>prediction</th>\n",
       "    </tr>\n",
       "  </thead>\n",
       "  <tbody>\n",
       "    <tr>\n",
       "      <th>0</th>\n",
       "      <td>Stayed at the Wm Penn down the street for a we...</td>\n",
       "      <td>5</td>\n",
       "      <td>5</td>\n",
       "    </tr>\n",
       "    <tr>\n",
       "      <th>1</th>\n",
       "      <td>We tried out the lunch specials and found them...</td>\n",
       "      <td>4</td>\n",
       "      <td>5</td>\n",
       "    </tr>\n",
       "    <tr>\n",
       "      <th>2</th>\n",
       "      <td>Should have known better than to eat in a plac...</td>\n",
       "      <td>1</td>\n",
       "      <td>1</td>\n",
       "    </tr>\n",
       "    <tr>\n",
       "      <th>3</th>\n",
       "      <td>This place has sure changed...and not for the ...</td>\n",
       "      <td>2</td>\n",
       "      <td>2</td>\n",
       "    </tr>\n",
       "    <tr>\n",
       "      <th>4</th>\n",
       "      <td>I've been bringing my son to the owner Michael...</td>\n",
       "      <td>5</td>\n",
       "      <td>5</td>\n",
       "    </tr>\n",
       "    <tr>\n",
       "      <th>5</th>\n",
       "      <td>The trip to the location takes two busses and ...</td>\n",
       "      <td>1</td>\n",
       "      <td>1</td>\n",
       "    </tr>\n",
       "    <tr>\n",
       "      <th>6</th>\n",
       "      <td>This restaurant was suggested to me by a frien...</td>\n",
       "      <td>4</td>\n",
       "      <td>4</td>\n",
       "    </tr>\n",
       "    <tr>\n",
       "      <th>7</th>\n",
       "      <td>This place is unique because you are sitting o...</td>\n",
       "      <td>3</td>\n",
       "      <td>3</td>\n",
       "    </tr>\n",
       "    <tr>\n",
       "      <th>8</th>\n",
       "      <td>Whew, $10 for a whiskey ginger ale and $18 for...</td>\n",
       "      <td>3</td>\n",
       "      <td>3</td>\n",
       "    </tr>\n",
       "    <tr>\n",
       "      <th>9</th>\n",
       "      <td>Loove me some Pei Wei! Boyfriend isn't a fan, ...</td>\n",
       "      <td>4</td>\n",
       "      <td>5</td>\n",
       "    </tr>\n",
       "  </tbody>\n",
       "</table>\n",
       "</div>"
      ],
      "text/plain": [
       "                                               input  reference  prediction\n",
       "0  Stayed at the Wm Penn down the street for a we...          5           5\n",
       "1  We tried out the lunch specials and found them...          4           5\n",
       "2  Should have known better than to eat in a plac...          1           1\n",
       "3  This place has sure changed...and not for the ...          2           2\n",
       "4  I've been bringing my son to the owner Michael...          5           5\n",
       "5  The trip to the location takes two busses and ...          1           1\n",
       "6  This restaurant was suggested to me by a frien...          4           4\n",
       "7  This place is unique because you are sitting o...          3           3\n",
       "8  Whew, $10 for a whiskey ginger ale and $18 for...          3           3\n",
       "9  Loove me some Pei Wei! Boyfriend isn't a fan, ...          4           5"
      ]
     },
     "execution_count": 6,
     "metadata": {},
     "output_type": "execute_result"
    }
   ],
   "source": [
    "clear_output(wait=True)\n",
    "\n",
    "eval = fastrepl.Evaluator(\n",
    "    pipeline=[\n",
    "        fastrepl.LLMChainOfThought(\n",
    "            model=\"gpt-3.5-turbo\",\n",
    "            labels=labels,\n",
    "            context=\"You will get a input text from Yelp review. Please rate it from 1 to 5 stars.\",\n",
    "        ),\n",
    "        fastrepl.LLMClassifier(\n",
    "            model=\"gpt-3.5-turbo\",\n",
    "            labels=labels,\n",
    "            position_debias_strategy=\"consensus\",\n",
    "        ),\n",
    "    ]\n",
    ")\n",
    "\n",
    "result2 = fastrepl.LocalRunner(evaluator=eval, dataset=dataset).run()\n",
    "result2 = result2.map(label_to_score)\n",
    "\n",
    "print_metric(\"accuracy\", result2[\"prediction\"], result2[\"reference\"])\n",
    "print_metric(\"mse\", result2[\"prediction\"], result2[\"reference\"])\n",
    "print_metric(\"mae\", result2[\"prediction\"], result2[\"reference\"])\n",
    "\n",
    "result2.to_pandas()"
   ]
  }
 ],
 "metadata": {
  "kernelspec": {
   "display_name": ".venv",
   "language": "python",
   "name": "python3"
  },
  "language_info": {
   "codemirror_mode": {
    "name": "ipython",
    "version": 3
   },
   "file_extension": ".py",
   "mimetype": "text/x-python",
   "name": "python",
   "nbconvert_exporter": "python",
   "pygments_lexer": "ipython3",
   "version": "3.11.3"
  },
  "orig_nbformat": 4
 },
 "nbformat": 4,
 "nbformat_minor": 2
}
