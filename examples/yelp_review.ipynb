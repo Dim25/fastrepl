{
 "cells": [
  {
   "cell_type": "code",
   "execution_count": 10,
   "metadata": {},
   "outputs": [
    {
     "name": "stdout",
     "output_type": "stream",
     "text": [
      "Note: you may need to restart the kernel to use updated packages.\n"
     ]
    }
   ],
   "source": [
    "%pip install -qq \"rich[jupyter]\""
   ]
  },
  {
   "cell_type": "code",
   "execution_count": 11,
   "metadata": {},
   "outputs": [],
   "source": [
    "from IPython.display import clear_output"
   ]
  },
  {
   "cell_type": "code",
   "execution_count": 12,
   "metadata": {},
   "outputs": [
    {
     "data": {
      "application/vnd.jupyter.widget-view+json": {
       "model_id": "a50209f73c1d491586f0927af958667b",
       "version_major": 2,
       "version_minor": 0
      },
      "text/plain": [
       "Map:   0%|          | 0/100 [00:00<?, ? examples/s]"
      ]
     },
     "metadata": {},
     "output_type": "display_data"
    }
   ],
   "source": [
    "from datasets import load_dataset\n",
    "\n",
    "# We have dataset for meta-eval\n",
    "dataset = load_dataset(\"yelp_review_full\", split=\"test\")\n",
    "dataset = dataset.shuffle(seed=8)\n",
    "dataset = dataset.select(range(100))\n",
    "dataset = dataset.rename_column(\"text\", \"input\")  # fastrepl need input column\n",
    "dataset = dataset.map(\n",
    "    lambda row: {\"reference\": row[\"label\"] + 1, \"input\": row[\"input\"]},\n",
    "    remove_columns=[\"label\"],\n",
    ")"
   ]
  },
  {
   "cell_type": "code",
   "execution_count": 13,
   "metadata": {},
   "outputs": [],
   "source": [
    "labels = {\n",
    "    \"FIVE_STARS\": \"given review is likely to be 5 stars\",\n",
    "    \"FOUR_STARS\": \"given review is likely to be 4 stars\",\n",
    "    \"THREE_STARS\": \"given review is likely to be 3 stars\",\n",
    "    \"TWO_STARS\": \"given review is likely to be 2 stars\",\n",
    "    \"ONE_STAR\": \"given review is likely to be 1 star\",\n",
    "}"
   ]
  },
  {
   "cell_type": "code",
   "execution_count": 14,
   "metadata": {},
   "outputs": [],
   "source": [
    "import fastrepl\n",
    "from fastrepl.run.cache import SQLiteCache\n",
    "\n",
    "# fastrepl.cache = None\n",
    "fastrepl.cache = SQLiteCache()"
   ]
  },
  {
   "cell_type": "code",
   "execution_count": 15,
   "metadata": {},
   "outputs": [
    {
     "data": {
      "application/vnd.jupyter.widget-view+json": {
       "model_id": "4cd5c7369bde4e229bed6195f95409ae",
       "version_major": 2,
       "version_minor": 0
      },
      "text/plain": [
       "Output()"
      ]
     },
     "metadata": {},
     "output_type": "display_data"
    },
    {
     "data": {
      "text/html": [
       "<pre style=\"white-space:pre;overflow-x:auto;line-height:normal;font-family:Menlo,'DejaVu Sans Mono',consolas,'Courier New',monospace\"><span style=\"color: #800000; text-decoration-color: #800000\">Timeout</span>\n",
       "</pre>\n"
      ],
      "text/plain": [
       "\u001b[31mTimeout\u001b[0m\n"
      ]
     },
     "metadata": {},
     "output_type": "display_data"
    },
    {
     "data": {
      "text/html": [
       "<pre style=\"white-space:pre;overflow-x:auto;line-height:normal;font-family:Menlo,'DejaVu Sans Mono',consolas,'Courier New',monospace\"></pre>\n"
      ],
      "text/plain": []
     },
     "metadata": {},
     "output_type": "display_data"
    },
    {
     "data": {
      "text/html": [
       "<pre style=\"white-space:pre;overflow-x:auto;line-height:normal;font-family:Menlo,'DejaVu Sans Mono',consolas,'Courier New',monospace\">\n",
       "</pre>\n"
      ],
      "text/plain": [
       "\n"
      ]
     },
     "metadata": {},
     "output_type": "display_data"
    },
    {
     "data": {
      "text/plain": [
       "Dataset({\n",
       "    features: ['input', 'reference', 'output'],\n",
       "    num_rows: 100\n",
       "})"
      ]
     },
     "execution_count": 15,
     "metadata": {},
     "output_type": "execute_result"
    }
   ],
   "source": [
    "clear_output(wait=True)\n",
    "\n",
    "from fastrepl.eval.model import LLMChainOfThoughtClassifier\n",
    "from fastrepl.loop import Evaluator\n",
    "\n",
    "# Let's define our first eval\n",
    "result_1 = Evaluator(\n",
    "    dataset=dataset,\n",
    "    pipeline=[\n",
    "        LLMChainOfThoughtClassifier(\n",
    "            model=\"gpt-3.5-turbo\",\n",
    "            context=\"You will get a input text from Yelp review. Please rate it from 1 to 5 stars.\",\n",
    "            labels=labels,\n",
    "        )\n",
    "    ],\n",
    "    prediction_feature=\"output\",\n",
    ").run()\n",
    "\n",
    "result_1"
   ]
  },
  {
   "cell_type": "code",
   "execution_count": 16,
   "metadata": {},
   "outputs": [
    {
     "data": {
      "application/vnd.jupyter.widget-view+json": {
       "model_id": "6a9121061ae34659a51684051029b4ad",
       "version_major": 2,
       "version_minor": 0
      },
      "text/plain": [
       "Output()"
      ]
     },
     "metadata": {},
     "output_type": "display_data"
    },
    {
     "data": {
      "text/html": [
       "<pre style=\"white-space:pre;overflow-x:auto;line-height:normal;font-family:Menlo,'DejaVu Sans Mono',consolas,'Courier New',monospace\"></pre>\n"
      ],
      "text/plain": []
     },
     "metadata": {},
     "output_type": "display_data"
    },
    {
     "data": {
      "text/html": [
       "<pre style=\"white-space:pre;overflow-x:auto;line-height:normal;font-family:Menlo,'DejaVu Sans Mono',consolas,'Courier New',monospace\">\n",
       "</pre>\n"
      ],
      "text/plain": [
       "\n"
      ]
     },
     "metadata": {},
     "output_type": "display_data"
    },
    {
     "data": {
      "text/plain": [
       "Dataset({\n",
       "    features: ['input', 'reference', 'output'],\n",
       "    num_rows: 100\n",
       "})"
      ]
     },
     "execution_count": 16,
     "metadata": {},
     "output_type": "execute_result"
    }
   ],
   "source": [
    "clear_output(wait=True)\n",
    "\n",
    "# Let's see if we can get more reliable results\n",
    "from fastrepl.eval.model import LLMChainOfThought, LLMClassifier\n",
    "\n",
    "result_2 = Evaluator(\n",
    "    dataset=dataset,\n",
    "    pipeline=[\n",
    "        LLMChainOfThought(\n",
    "            model=\"gpt-3.5-turbo\",\n",
    "            labels=labels,\n",
    "            context=\"You will get a input text from Yelp review. Please rate it from 1 to 5 stars.\",\n",
    "        ),\n",
    "        LLMClassifier(\n",
    "            model=\"gpt-3.5-turbo\",\n",
    "            labels=labels,\n",
    "        ),\n",
    "    ],\n",
    "    prediction_feature=\"output\",\n",
    ").run()\n",
    "\n",
    "result_2"
   ]
  },
  {
   "cell_type": "code",
   "execution_count": 17,
   "metadata": {},
   "outputs": [
    {
     "data": {
      "application/vnd.jupyter.widget-view+json": {
       "model_id": "b7d795a26d7141049490e07f09f05e93",
       "version_major": 2,
       "version_minor": 0
      },
      "text/plain": [
       "Map:   0%|          | 0/100 [00:00<?, ? examples/s]"
      ]
     },
     "metadata": {},
     "output_type": "display_data"
    },
    {
     "data": {
      "application/vnd.jupyter.widget-view+json": {
       "model_id": "0409a0814efe42d8b8be5eaeb9d55212",
       "version_major": 2,
       "version_minor": 0
      },
      "text/plain": [
       "Map:   0%|          | 0/100 [00:00<?, ? examples/s]"
      ]
     },
     "metadata": {},
     "output_type": "display_data"
    },
    {
     "data": {
      "text/plain": [
       "(Dataset({\n",
       "     features: ['input', 'reference', 'output', 'prediction'],\n",
       "     num_rows: 100\n",
       " }),\n",
       " Dataset({\n",
       "     features: ['input', 'reference', 'output', 'prediction'],\n",
       "     num_rows: 100\n",
       " }))"
      ]
     },
     "execution_count": 17,
     "metadata": {},
     "output_type": "execute_result"
    }
   ],
   "source": [
    "def mapper(row):\n",
    "    label_value_mapping = {\n",
    "        \"FIVE_STARS\": 5,\n",
    "        \"FOUR_STARS\": 4,\n",
    "        \"THREE_STARS\": 3,\n",
    "        \"TWO_STARS\": 2,\n",
    "        \"ONE_STAR\": 1,\n",
    "        \"UNKNOWN\": 0,\n",
    "    }\n",
    "\n",
    "    row[\"prediction\"] = label_value_mapping[row[\"output\"]]\n",
    "    return row\n",
    "\n",
    "\n",
    "result_1 = result_1.map(mapper)\n",
    "result_2 = result_2.map(mapper)\n",
    "\n",
    "result_1, result_2"
   ]
  },
  {
   "cell_type": "code",
   "execution_count": 18,
   "metadata": {},
   "outputs": [
    {
     "name": "stdout",
     "output_type": "stream",
     "text": [
      "First experiment's metric compared to ground truth:\n",
      "accuracy: 0.33\n",
      "mse: 5.55\n",
      "mae: 1.69\n",
      "\n",
      "Second experiment's metric compared to ground truth:\n",
      "accuracy: 0.39\n",
      "mse: 0.91\n",
      "mae: 0.71\n"
     ]
    }
   ],
   "source": [
    "from fastrepl.eval.metric import load_metric\n",
    "\n",
    "\n",
    "def print_metric(ds, metric_name):\n",
    "    metric = load_metric(metric_name)\n",
    "    result = metric.compute(\n",
    "        predictions=ds[\"prediction\"], references=dataset[\"reference\"]\n",
    "    )\n",
    "    print(f\"{metric_name}: {result[metric_name]}\")\n",
    "\n",
    "\n",
    "print(\"First experiment's metric compared to ground truth:\")\n",
    "print_metric(result_1, \"accuracy\")\n",
    "print_metric(result_1, \"mse\")\n",
    "print_metric(result_1, \"mae\")\n",
    "\n",
    "print(\"\\nSecond experiment's metric compared to ground truth:\")\n",
    "print_metric(result_2, \"accuracy\")\n",
    "print_metric(result_2, \"mse\")\n",
    "print_metric(result_2, \"mae\")"
   ]
  }
 ],
 "metadata": {
  "kernelspec": {
   "display_name": ".venv",
   "language": "python",
   "name": "python3"
  },
  "language_info": {
   "codemirror_mode": {
    "name": "ipython",
    "version": 3
   },
   "file_extension": ".py",
   "mimetype": "text/x-python",
   "name": "python",
   "nbconvert_exporter": "python",
   "pygments_lexer": "ipython3",
   "version": "3.11.3"
  },
  "orig_nbformat": 4
 },
 "nbformat": 4,
 "nbformat_minor": 2
}
