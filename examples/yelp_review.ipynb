{
 "cells": [
  {
   "cell_type": "code",
   "execution_count": 1,
   "metadata": {},
   "outputs": [
    {
     "name": "stdout",
     "output_type": "stream",
     "text": [
      "Note: you may need to restart the kernel to use updated packages.\n"
     ]
    }
   ],
   "source": [
    "%pip install -qq \"rich[jupyter]\""
   ]
  },
  {
   "cell_type": "code",
   "execution_count": 2,
   "metadata": {},
   "outputs": [],
   "source": [
    "import fastrepl\n",
    "from fastrepl.run.cache import SQLiteCache\n",
    "\n",
    "fastrepl.cache = None\n",
    "# fastrepl.cache = SQLiteCache()"
   ]
  },
  {
   "cell_type": "code",
   "execution_count": 3,
   "metadata": {},
   "outputs": [],
   "source": [
    "from IPython.display import clear_output"
   ]
  },
  {
   "cell_type": "code",
   "execution_count": 4,
   "metadata": {},
   "outputs": [],
   "source": [
    "from datasets import load_dataset\n",
    "\n",
    "# We have dataset for meta-eval\n",
    "dataset = load_dataset(\"yelp_review_full\", split=\"test\")\n",
    "dataset = dataset.shuffle(seed=8)\n",
    "dataset = dataset.select(range(30))\n",
    "dataset = dataset.rename_column(\"text\", \"input\")\n",
    "dataset = dataset.map(\n",
    "    lambda row: {\"reference\": row[\"label\"] + 1, \"input\": row[\"input\"]},\n",
    "    remove_columns=[\"label\"],\n",
    ")"
   ]
  },
  {
   "cell_type": "code",
   "execution_count": 5,
   "metadata": {},
   "outputs": [],
   "source": [
    "labels = {\n",
    "    \"FIVE_STARS\": \"given review is likely to be 5 stars\",\n",
    "    \"FOUR_STARS\": \"given review is likely to be 4 stars\",\n",
    "    \"THREE_STARS\": \"given review is likely to be 3 stars\",\n",
    "    \"TWO_STARS\": \"given review is likely to be 2 stars\",\n",
    "    \"ONE_STAR\": \"given review is likely to be 1 star\",\n",
    "}\n",
    "\n",
    "\n",
    "def label_to_score(label):\n",
    "    mapping = {\n",
    "        \"FIVE_STARS\": 5,\n",
    "        \"FOUR_STARS\": 4,\n",
    "        \"THREE_STARS\": 3,\n",
    "        \"TWO_STARS\": 2,\n",
    "        \"ONE_STAR\": 1,\n",
    "        \"UNKNOWN\": 0,\n",
    "    }\n",
    "    return mapping[label]"
   ]
  },
  {
   "cell_type": "code",
   "execution_count": 6,
   "metadata": {},
   "outputs": [],
   "source": [
    "from fastrepl.eval.metric import load_metric\n",
    "\n",
    "\n",
    "def print_metric(metric_name, predictions, references):\n",
    "    metric = load_metric(metric_name)\n",
    "    result = metric.compute(predictions=predictions, references=references)\n",
    "    print(f\"{metric_name}: {result[metric_name]}\")"
   ]
  },
  {
   "cell_type": "code",
   "execution_count": 7,
   "metadata": {},
   "outputs": [
    {
     "data": {
      "application/vnd.jupyter.widget-view+json": {
       "model_id": "f0a71d68e85348d4aa00f1be8fa5fd42",
       "version_major": 2,
       "version_minor": 0
      },
      "text/plain": [
       "Output()"
      ]
     },
     "metadata": {},
     "output_type": "display_data"
    },
    {
     "data": {
      "text/html": [
       "<pre style=\"white-space:pre;overflow-x:auto;line-height:normal;font-family:Menlo,'DejaVu Sans Mono',consolas,'Courier New',monospace\"></pre>\n"
      ],
      "text/plain": []
     },
     "metadata": {},
     "output_type": "display_data"
    },
    {
     "data": {
      "text/html": [
       "<pre style=\"white-space:pre;overflow-x:auto;line-height:normal;font-family:Menlo,'DejaVu Sans Mono',consolas,'Courier New',monospace\">\n",
       "</pre>\n"
      ],
      "text/plain": [
       "\n"
      ]
     },
     "metadata": {},
     "output_type": "display_data"
    },
    {
     "name": "stdout",
     "output_type": "stream",
     "text": [
      "accuracy: 0.3333333333333333\n",
      "mse: 5.633333333333334\n",
      "mae: 1.7\n"
     ]
    }
   ],
   "source": [
    "clear_output(wait=True)\n",
    "\n",
    "from fastrepl.eval.model import LLMChainOfThoughtClassifier\n",
    "from fastrepl.eval import Evaluator\n",
    "from fastrepl.loop import REPL\n",
    "\n",
    "# Let's define our first eval\n",
    "eval = Evaluator(\n",
    "    pipeline=[\n",
    "        LLMChainOfThoughtClassifier(\n",
    "            model=\"gpt-3.5-turbo\",\n",
    "            context=\"You will get a input text from Yelp review. Please rate it from 1 to 5 stars.\",\n",
    "            labels=labels,\n",
    "        )\n",
    "    ]\n",
    ")\n",
    "\n",
    "with REPL() as repl:\n",
    "    repl.set_evaluator(eval)\n",
    "\n",
    "    _predictions = repl.eval(dataset[\"input\"])\n",
    "    predictions = [label_to_score(label) for label in _predictions]\n",
    "\n",
    "    print_metric(\"accuracy\", predictions, dataset[\"reference\"])\n",
    "    print_metric(\"mse\", predictions, dataset[\"reference\"])\n",
    "    print_metric(\"mae\", predictions, dataset[\"reference\"])"
   ]
  },
  {
   "cell_type": "code",
   "execution_count": 8,
   "metadata": {},
   "outputs": [
    {
     "data": {
      "application/vnd.jupyter.widget-view+json": {
       "model_id": "1cdccdbdc7e745b5ae3caacca75de823",
       "version_major": 2,
       "version_minor": 0
      },
      "text/plain": [
       "Output()"
      ]
     },
     "metadata": {},
     "output_type": "display_data"
    },
    {
     "data": {
      "text/html": [
       "<pre style=\"white-space:pre;overflow-x:auto;line-height:normal;font-family:Menlo,'DejaVu Sans Mono',consolas,'Courier New',monospace\"></pre>\n"
      ],
      "text/plain": []
     },
     "metadata": {},
     "output_type": "display_data"
    },
    {
     "data": {
      "text/html": [
       "<pre style=\"white-space:pre;overflow-x:auto;line-height:normal;font-family:Menlo,'DejaVu Sans Mono',consolas,'Courier New',monospace\">\n",
       "</pre>\n"
      ],
      "text/plain": [
       "\n"
      ]
     },
     "metadata": {},
     "output_type": "display_data"
    },
    {
     "name": "stdout",
     "output_type": "stream",
     "text": [
      "accuracy: 0.5666666666666667\n",
      "mse: 1.4\n",
      "mae: 0.7333333333333333\n"
     ]
    }
   ],
   "source": [
    "clear_output(wait=True)\n",
    "\n",
    "# Let's see if we can get more reliable results\n",
    "from fastrepl.eval.model import LLMChainOfThought, LLMClassifier\n",
    "\n",
    "eval = Evaluator(\n",
    "    pipeline=[\n",
    "        LLMChainOfThought(\n",
    "            model=\"gpt-3.5-turbo\",\n",
    "            labels=labels,\n",
    "            context=\"You will get a input text from Yelp review. Please rate it from 1 to 5 stars.\",\n",
    "        ),\n",
    "        LLMClassifier(\n",
    "            model=\"gpt-3.5-turbo\",\n",
    "            labels=labels,\n",
    "        ),\n",
    "    ]\n",
    ")\n",
    "\n",
    "with REPL() as repl:\n",
    "    repl.set_evaluator(eval)\n",
    "\n",
    "    _predictions = repl.eval(dataset[\"input\"])\n",
    "    predictions = [label_to_score(label) for label in _predictions]\n",
    "\n",
    "    print_metric(\"accuracy\", predictions, dataset[\"reference\"])\n",
    "    print_metric(\"mse\", predictions, dataset[\"reference\"])\n",
    "    print_metric(\"mae\", predictions, dataset[\"reference\"])"
   ]
  }
 ],
 "metadata": {
  "kernelspec": {
   "display_name": ".venv",
   "language": "python",
   "name": "python3"
  },
  "language_info": {
   "codemirror_mode": {
    "name": "ipython",
    "version": 3
   },
   "file_extension": ".py",
   "mimetype": "text/x-python",
   "name": "python",
   "nbconvert_exporter": "python",
   "pygments_lexer": "ipython3",
   "version": "3.11.3"
  },
  "orig_nbformat": 4
 },
 "nbformat": 4,
 "nbformat_minor": 2
}
