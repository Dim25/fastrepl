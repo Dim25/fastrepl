{
 "cells": [
  {
   "cell_type": "code",
   "execution_count": 1,
   "metadata": {},
   "outputs": [
    {
     "name": "stdout",
     "output_type": "stream",
     "text": [
      "5: Stayed at the Wm Penn down the street for a wedding and needed a last minute haircut. Friendly, helpful, all around good cut!\n",
      "4: We tried out the lunch specials and found them to be pretty good.  For about $6 we both got healthy portions of spicy food along with fairly good service.  Take a chance and go for the hotter dishes.  :-)\n",
      "1: Should have known better than to eat in a place so dark that you can't see the food on your plate. Underwhelming and overpriced.\n",
      "2: This place has sure changed...and not for the better. they totally re-did the menu and got rid of many yummy things they used to serve.\\nThere are still the desserts but the little sliders are off the menu and those were my favorite!\\nSo I bring my little guy here for a little dinner & chocolate treat. Our server tells me she is also a mom and whatnot. Ok lady..lets get this this started...I am with a 2 year old. I might be crazy but when the server says she is a parent I expect them to understand & TRY to be quick with things.\\nThis girl was not quick..she was very very slow.\\nFinally when the food arrived his grilled mac & cheese was cold. Thankfully he did not care. She offered to take it back and warm it up but there was no way he was going to go for that. He was hungry.\\nWe finally order the chocolate pizza for dessert after waiting way to long for her to come back and check on us.\\nThe pizza of course takes forever & I am trying to keep my kid from climbing the walls. Once it gets there tho my kiddo is in heaven. He tore into that pizza. He was in heaven. He was dancing in his chair...singing Yum Yum in my belly. It was awesome. And for that they should get 5 stars. But when I factor everything in they are down to 2 stars. Sorry Max..Prob wont be coming back again.\n",
      "5: I've been bringing my son to the owner Michael Joyner and everytime we come in we are greeted and never have to wait long no matter what day we come in. Even if he is busy he always makes time to fit us in especially with my crazy schedule. Great location, customer service and professionalism. I always refer 5 Star to anyone looking for an excellent barber!!!!!! Thanks Mike\n",
      "1: The trip to the location takes two busses and the wait was do long we cancelled our reservation and took a taxi ... Don't waste your time and effort on this dump!\n",
      "4: This restaurant was suggested to me by a friend.  \\n\\nWe were seated half way between the outdoor patio and the interior.  The restaurant is sexy and dark....hard to read your menu dark, but that's ok.  The vibe is lounge, with an extraordinary wine list.\\n\\nEverything on the menu looks amazing.  It was hard to choose, but we finally settled on the sausage flatbread, pesto cream pasta and the hamachi.  All were incredible, flavorful and fresh.  I was surprised how spicy and perfect the flatbread was, only because pizza crust can be tricky at a restaurant that isn't really a pizza place.\\n\\nWe skipped dessert, so I can't comment on that.\\n\\nService started great.  As the night went on, the server became more absent and we finally had to stop a random waiter to get the check.\\n\\nI plan on coming back.  For drinks or dinner, it's a great place to go with a group or a date.\n",
      "3: This place is unique because you are sitting outside in a garden that is covered when it is raining, the food was alright but it was over priced and there are very limited options for vegetarians, and almost none for vegans.\\n\\nI know this isn't the right town for a vegetarian or a vegan but they could add a few more options for us. I am giving them 3 stars for the atmosphere and excellent service.\n",
      "3: Whew, $10 for a whiskey ginger ale and $18 for a martini.  We must be in Las Vegas. \\n\\nOh wait, yes we are.  Red Square is worth it for the ambiance, if you ask me.  I'd like to have seen more of what they had to offer.  The \\\"ice bar\\\" that gets a lot of hype isn't as impressive as it sounds.\\n\\nThe staff were pretty slow - I think 3 of them behind the bar, and we waited 10 minutes before being served and once our orders were taken they were in no rush to serve either.  Tipped minimally, but otherwise they weren't jerks or anything.  It's not like they were busy, either - it was a Tuesday night in February.  \\n\\nI'm being kind of hard on them, but we did have fun and it's a neat theme.  We did not go back in the vodka room, though.  Maybe next time.\n",
      "4: Loove me some Pei Wei! Boyfriend isn't a fan, so whenever I end up eating alone, this is my go-to. \\n\\nI have a bad habit of ordering the same thing over and over once I find something I like, so I can only say that the Dan-Dan Noodles are amazing! The eggrolls are also delicious. Taste can vary with regard to spiciness, but it's generally pretty consistent. \\n\\nTheir online ordering system is my favorite and my food is ready and waiting on time, every time. The staff is super friendly. \\n\\nGreat stop for some quick, tasty Asian food (I believe they cover at least 5 different Asian cuisines).\n"
     ]
    }
   ],
   "source": [
    "from datasets import load_dataset\n",
    "\n",
    "# We have dataset for meta-eval\n",
    "dataset = load_dataset(\"yelp_review_full\", split=\"test\")\n",
    "dataset = dataset.shuffle(seed=8)\n",
    "dataset = dataset.select(range(10))\n",
    "dataset = dataset.rename_column(\"text\", \"input\")  # fastrepl need input column\n",
    "dataset = dataset.map(\n",
    "    lambda row: {\"reference\": row[\"label\"] + 1, \"input\": row[\"input\"]},\n",
    "    remove_columns=[\"label\"],\n",
    ")\n",
    "\n",
    "for row in dataset:\n",
    "    print(f\"{row['reference']}: {row['input']}\")"
   ]
  },
  {
   "cell_type": "code",
   "execution_count": 2,
   "metadata": {},
   "outputs": [],
   "source": [
    "labels = {\n",
    "    \"FIVE_STARS\": \"given review is likely to be 5 stars\",\n",
    "    \"FOUR_STARS\": \"given review is likely to be 4 stars\",\n",
    "    \"THREE_STARS\": \"given review is likely to be 3 stars\",\n",
    "    \"TWO_STARS\": \"given review is likely to be 2 stars\",\n",
    "    \"ONE_STAR\": \"given review is likely to be 1 star\",\n",
    "}\n",
    "\n",
    "\n",
    "def mapper(row):\n",
    "    label_value_mapping = {\n",
    "        \"FIVE_STARS\": 5,\n",
    "        \"FOUR_STARS\": 4,\n",
    "        \"THREE_STARS\": 3,\n",
    "        \"TWO_STARS\": 2,\n",
    "        \"ONE_STAR\": 1,\n",
    "        \"UNKNOWN\": 0,\n",
    "    }\n",
    "\n",
    "    row[\"prediction\"] = label_value_mapping[row[\"output\"]]\n",
    "    return row"
   ]
  },
  {
   "cell_type": "code",
   "execution_count": 3,
   "metadata": {},
   "outputs": [
    {
     "data": {
      "application/vnd.jupyter.widget-view+json": {
       "model_id": "327f11bdfeb649b689355f2f3365a24c",
       "version_major": 2,
       "version_minor": 0
      },
      "text/plain": [
       "Output()"
      ]
     },
     "metadata": {},
     "output_type": "display_data"
    },
    {
     "data": {
      "text/html": [
       "<pre style=\"white-space:pre;overflow-x:auto;line-height:normal;font-family:Menlo,'DejaVu Sans Mono',consolas,'Courier New',monospace\"></pre>\n"
      ],
      "text/plain": []
     },
     "metadata": {},
     "output_type": "display_data"
    },
    {
     "data": {
      "text/html": [
       "<pre style=\"white-space:pre;overflow-x:auto;line-height:normal;font-family:Menlo,'DejaVu Sans Mono',consolas,'Courier New',monospace\">\n",
       "</pre>\n"
      ],
      "text/plain": [
       "\n"
      ]
     },
     "metadata": {},
     "output_type": "display_data"
    },
    {
     "data": {
      "application/vnd.jupyter.widget-view+json": {
       "model_id": "2148b1b52fd04e6e806bd6b93a557b71",
       "version_major": 2,
       "version_minor": 0
      },
      "text/plain": [
       "Map:   0%|          | 0/10 [00:00<?, ? examples/s]"
      ]
     },
     "metadata": {},
     "output_type": "display_data"
    },
    {
     "name": "stdout",
     "output_type": "stream",
     "text": [
      "Dataset({\n",
      "    features: ['input', 'reference', 'output', 'prediction'],\n",
      "    num_rows: 10\n",
      "}) \n",
      "\n",
      "5: Stayed at the Wm Penn down the street for a wedding and needed a last minute haircut. Friendly, helpful, all around good cut!\n",
      "0: We tried out the lunch specials and found them to be pretty good.  For about $6 we both got healthy portions of spicy food along with fairly good service.  Take a chance and go for the hotter dishes.  :-)\n",
      "0: Should have known better than to eat in a place so dark that you can't see the food on your plate. Underwhelming and overpriced.\n",
      "0: This place has sure changed...and not for the better. they totally re-did the menu and got rid of many yummy things they used to serve.\\nThere are still the desserts but the little sliders are off the menu and those were my favorite!\\nSo I bring my little guy here for a little dinner & chocolate treat. Our server tells me she is also a mom and whatnot. Ok lady..lets get this this started...I am with a 2 year old. I might be crazy but when the server says she is a parent I expect them to understand & TRY to be quick with things.\\nThis girl was not quick..she was very very slow.\\nFinally when the food arrived his grilled mac & cheese was cold. Thankfully he did not care. She offered to take it back and warm it up but there was no way he was going to go for that. He was hungry.\\nWe finally order the chocolate pizza for dessert after waiting way to long for her to come back and check on us.\\nThe pizza of course takes forever & I am trying to keep my kid from climbing the walls. Once it gets there tho my kiddo is in heaven. He tore into that pizza. He was in heaven. He was dancing in his chair...singing Yum Yum in my belly. It was awesome. And for that they should get 5 stars. But when I factor everything in they are down to 2 stars. Sorry Max..Prob wont be coming back again.\n",
      "5: I've been bringing my son to the owner Michael Joyner and everytime we come in we are greeted and never have to wait long no matter what day we come in. Even if he is busy he always makes time to fit us in especially with my crazy schedule. Great location, customer service and professionalism. I always refer 5 Star to anyone looking for an excellent barber!!!!!! Thanks Mike\n",
      "1: The trip to the location takes two busses and the wait was do long we cancelled our reservation and took a taxi ... Don't waste your time and effort on this dump!\n",
      "0: This restaurant was suggested to me by a friend.  \\n\\nWe were seated half way between the outdoor patio and the interior.  The restaurant is sexy and dark....hard to read your menu dark, but that's ok.  The vibe is lounge, with an extraordinary wine list.\\n\\nEverything on the menu looks amazing.  It was hard to choose, but we finally settled on the sausage flatbread, pesto cream pasta and the hamachi.  All were incredible, flavorful and fresh.  I was surprised how spicy and perfect the flatbread was, only because pizza crust can be tricky at a restaurant that isn't really a pizza place.\\n\\nWe skipped dessert, so I can't comment on that.\\n\\nService started great.  As the night went on, the server became more absent and we finally had to stop a random waiter to get the check.\\n\\nI plan on coming back.  For drinks or dinner, it's a great place to go with a group or a date.\n",
      "0: This place is unique because you are sitting outside in a garden that is covered when it is raining, the food was alright but it was over priced and there are very limited options for vegetarians, and almost none for vegans.\\n\\nI know this isn't the right town for a vegetarian or a vegan but they could add a few more options for us. I am giving them 3 stars for the atmosphere and excellent service.\n",
      "3: Whew, $10 for a whiskey ginger ale and $18 for a martini.  We must be in Las Vegas. \\n\\nOh wait, yes we are.  Red Square is worth it for the ambiance, if you ask me.  I'd like to have seen more of what they had to offer.  The \\\"ice bar\\\" that gets a lot of hype isn't as impressive as it sounds.\\n\\nThe staff were pretty slow - I think 3 of them behind the bar, and we waited 10 minutes before being served and once our orders were taken they were in no rush to serve either.  Tipped minimally, but otherwise they weren't jerks or anything.  It's not like they were busy, either - it was a Tuesday night in February.  \\n\\nI'm being kind of hard on them, but we did have fun and it's a neat theme.  We did not go back in the vodka room, though.  Maybe next time.\n",
      "5: Loove me some Pei Wei! Boyfriend isn't a fan, so whenever I end up eating alone, this is my go-to. \\n\\nI have a bad habit of ordering the same thing over and over once I find something I like, so I can only say that the Dan-Dan Noodles are amazing! The eggrolls are also delicious. Taste can vary with regard to spiciness, but it's generally pretty consistent. \\n\\nTheir online ordering system is my favorite and my food is ready and waiting on time, every time. The staff is super friendly. \\n\\nGreat stop for some quick, tasty Asian food (I believe they cover at least 5 different Asian cuisines).\n"
     ]
    }
   ],
   "source": [
    "from fastrepl.eval.model import LLMChainOfThoughtClassifier\n",
    "from fastrepl.loop import Evaluator\n",
    "\n",
    "# Let's define our first eval\n",
    "result_1 = Evaluator(\n",
    "    dataset=dataset,\n",
    "    evals=[\n",
    "        LLMChainOfThoughtClassifier(\n",
    "            model=\"gpt-3.5-turbo\",\n",
    "            context=\"You will get a input text from Yelp review. Please rate it from 1 to 5 stars.\",\n",
    "            labels=labels,\n",
    "        )\n",
    "    ],\n",
    "    prediction_feature=\"output\",\n",
    ").run()\n",
    "\n",
    "result_1 = result_1.map(mapper)\n",
    "print(result_1, \"\\n\")\n",
    "\n",
    "for row in result_1:\n",
    "    print(f\"{row['prediction']}: {row['input']}\")"
   ]
  },
  {
   "cell_type": "code",
   "execution_count": 4,
   "metadata": {},
   "outputs": [
    {
     "data": {
      "application/vnd.jupyter.widget-view+json": {
       "model_id": "e2c3e93b8ffa47db9f2f97d000e82b3d",
       "version_major": 2,
       "version_minor": 0
      },
      "text/plain": [
       "Output()"
      ]
     },
     "metadata": {},
     "output_type": "display_data"
    },
    {
     "data": {
      "text/html": [
       "<pre style=\"white-space:pre;overflow-x:auto;line-height:normal;font-family:Menlo,'DejaVu Sans Mono',consolas,'Courier New',monospace\"></pre>\n"
      ],
      "text/plain": []
     },
     "metadata": {},
     "output_type": "display_data"
    },
    {
     "data": {
      "text/html": [
       "<pre style=\"white-space:pre;overflow-x:auto;line-height:normal;font-family:Menlo,'DejaVu Sans Mono',consolas,'Courier New',monospace\">\n",
       "</pre>\n"
      ],
      "text/plain": [
       "\n"
      ]
     },
     "metadata": {},
     "output_type": "display_data"
    },
    {
     "data": {
      "application/vnd.jupyter.widget-view+json": {
       "model_id": "06a25bf4d6564e60bd089aac23e1c066",
       "version_major": 2,
       "version_minor": 0
      },
      "text/plain": [
       "Map:   0%|          | 0/10 [00:00<?, ? examples/s]"
      ]
     },
     "metadata": {},
     "output_type": "display_data"
    },
    {
     "name": "stdout",
     "output_type": "stream",
     "text": [
      "Dataset({\n",
      "    features: ['input', 'reference', 'output', 'prediction'],\n",
      "    num_rows: 10\n",
      "}) \n",
      "\n",
      "5: Stayed at the Wm Penn down the street for a wedding and needed a last minute haircut. Friendly, helpful, all around good cut!\n",
      "0: We tried out the lunch specials and found them to be pretty good.  For about $6 we both got healthy portions of spicy food along with fairly good service.  Take a chance and go for the hotter dishes.  :-)\n",
      "0: Should have known better than to eat in a place so dark that you can't see the food on your plate. Underwhelming and overpriced.\n",
      "0: This place has sure changed...and not for the better. they totally re-did the menu and got rid of many yummy things they used to serve.\\nThere are still the desserts but the little sliders are off the menu and those were my favorite!\\nSo I bring my little guy here for a little dinner & chocolate treat. Our server tells me she is also a mom and whatnot. Ok lady..lets get this this started...I am with a 2 year old. I might be crazy but when the server says she is a parent I expect them to understand & TRY to be quick with things.\\nThis girl was not quick..she was very very slow.\\nFinally when the food arrived his grilled mac & cheese was cold. Thankfully he did not care. She offered to take it back and warm it up but there was no way he was going to go for that. He was hungry.\\nWe finally order the chocolate pizza for dessert after waiting way to long for her to come back and check on us.\\nThe pizza of course takes forever & I am trying to keep my kid from climbing the walls. Once it gets there tho my kiddo is in heaven. He tore into that pizza. He was in heaven. He was dancing in his chair...singing Yum Yum in my belly. It was awesome. And for that they should get 5 stars. But when I factor everything in they are down to 2 stars. Sorry Max..Prob wont be coming back again.\n",
      "5: I've been bringing my son to the owner Michael Joyner and everytime we come in we are greeted and never have to wait long no matter what day we come in. Even if he is busy he always makes time to fit us in especially with my crazy schedule. Great location, customer service and professionalism. I always refer 5 Star to anyone looking for an excellent barber!!!!!! Thanks Mike\n",
      "1: The trip to the location takes two busses and the wait was do long we cancelled our reservation and took a taxi ... Don't waste your time and effort on this dump!\n",
      "0: This restaurant was suggested to me by a friend.  \\n\\nWe were seated half way between the outdoor patio and the interior.  The restaurant is sexy and dark....hard to read your menu dark, but that's ok.  The vibe is lounge, with an extraordinary wine list.\\n\\nEverything on the menu looks amazing.  It was hard to choose, but we finally settled on the sausage flatbread, pesto cream pasta and the hamachi.  All were incredible, flavorful and fresh.  I was surprised how spicy and perfect the flatbread was, only because pizza crust can be tricky at a restaurant that isn't really a pizza place.\\n\\nWe skipped dessert, so I can't comment on that.\\n\\nService started great.  As the night went on, the server became more absent and we finally had to stop a random waiter to get the check.\\n\\nI plan on coming back.  For drinks or dinner, it's a great place to go with a group or a date.\n",
      "0: This place is unique because you are sitting outside in a garden that is covered when it is raining, the food was alright but it was over priced and there are very limited options for vegetarians, and almost none for vegans.\\n\\nI know this isn't the right town for a vegetarian or a vegan but they could add a few more options for us. I am giving them 3 stars for the atmosphere and excellent service.\n",
      "3: Whew, $10 for a whiskey ginger ale and $18 for a martini.  We must be in Las Vegas. \\n\\nOh wait, yes we are.  Red Square is worth it for the ambiance, if you ask me.  I'd like to have seen more of what they had to offer.  The \\\"ice bar\\\" that gets a lot of hype isn't as impressive as it sounds.\\n\\nThe staff were pretty slow - I think 3 of them behind the bar, and we waited 10 minutes before being served and once our orders were taken they were in no rush to serve either.  Tipped minimally, but otherwise they weren't jerks or anything.  It's not like they were busy, either - it was a Tuesday night in February.  \\n\\nI'm being kind of hard on them, but we did have fun and it's a neat theme.  We did not go back in the vodka room, though.  Maybe next time.\n",
      "5: Loove me some Pei Wei! Boyfriend isn't a fan, so whenever I end up eating alone, this is my go-to. \\n\\nI have a bad habit of ordering the same thing over and over once I find something I like, so I can only say that the Dan-Dan Noodles are amazing! The eggrolls are also delicious. Taste can vary with regard to spiciness, but it's generally pretty consistent. \\n\\nTheir online ordering system is my favorite and my food is ready and waiting on time, every time. The staff is super friendly. \\n\\nGreat stop for some quick, tasty Asian food (I believe they cover at least 5 different Asian cuisines).\n"
     ]
    }
   ],
   "source": [
    "# Let's see if we can get more reliable results\n",
    "from fastrepl.eval.model import LLMChainOfThought, LLMClassifier\n",
    "\n",
    "result_2 = Evaluator(\n",
    "    dataset=dataset,\n",
    "    evals=[\n",
    "        LLMChainOfThought(\n",
    "            model=\"gpt-3.5-turbo\",\n",
    "            labels=labels,\n",
    "            context=\"You will get a input text from Yelp review. Please rate it from 1 to 5 stars.\",\n",
    "        ),\n",
    "        LLMClassifier(\n",
    "            model=\"gpt-3.5-turbo\",\n",
    "            labels=labels,\n",
    "        ),\n",
    "    ],\n",
    "    prediction_feature=\"output\",\n",
    ").run()\n",
    "\n",
    "\n",
    "result_2 = result_2.map(mapper)\n",
    "print(result_2, \"\\n\")\n",
    "\n",
    "for row in result_1:\n",
    "    print(f\"{row['prediction']}: {row['input']}\")"
   ]
  },
  {
   "cell_type": "code",
   "execution_count": 5,
   "metadata": {},
   "outputs": [
    {
     "name": "stdout",
     "output_type": "stream",
     "text": [
      "First experiment's accuracy compared to ground truth: 0.4\n",
      "Second experiment's accuracy compared to ground truth: 0.6\n"
     ]
    }
   ],
   "source": [
    "from fastrepl.eval.metric import load_metric\n",
    "\n",
    "accuracy = load_metric(\"accuracy\")\n",
    "\n",
    "print(\n",
    "    \"First experiment's accuracy compared to ground truth:\",\n",
    "    accuracy.compute(\n",
    "        predictions=result_1[\"prediction\"],\n",
    "        references=dataset[\"reference\"],\n",
    "    )[\"accuracy\"],\n",
    ")\n",
    "print(\n",
    "    \"Second experiment's accuracy compared to ground truth:\",\n",
    "    accuracy.compute(\n",
    "        predictions=result_2[\"prediction\"],\n",
    "        references=dataset[\"reference\"],\n",
    "    )[\"accuracy\"],\n",
    ")"
   ]
  }
 ],
 "metadata": {
  "kernelspec": {
   "display_name": ".venv",
   "language": "python",
   "name": "python3"
  },
  "language_info": {
   "codemirror_mode": {
    "name": "ipython",
    "version": 3
   },
   "file_extension": ".py",
   "mimetype": "text/x-python",
   "name": "python",
   "nbconvert_exporter": "python",
   "pygments_lexer": "ipython3",
   "version": "3.11.3"
  },
  "orig_nbformat": 4
 },
 "nbformat": 4,
 "nbformat_minor": 2
}
