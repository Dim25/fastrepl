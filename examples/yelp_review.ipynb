{
 "cells": [
  {
   "cell_type": "code",
   "execution_count": 1,
   "metadata": {},
   "outputs": [
    {
     "name": "stdout",
     "output_type": "stream",
     "text": [
      "[5 stars]: Stayed at the Wm Penn down the street for a wedding and needed a last minute haircut. Friendly, helpful, all around good cut!\n",
      "[4 stars]: We tried out the lunch specials and found them to be pretty good.  For about $6 we both got healthy portions of spicy food along with fairly good service.  Take a chance and go for the hotter dishes.  :-)\n",
      "[1 stars]: Should have known better than to eat in a place so dark that you can't see the food on your plate. Underwhelming and overpriced.\n",
      "[2 stars]: This place has sure changed...and not for the better. they totally re-did the menu and got rid of many yummy things they used to serve.\\nThere are still the desserts but the little sliders are off the menu and those were my favorite!\\nSo I bring my little guy here for a little dinner & chocolate treat. Our server tells me she is also a mom and whatnot. Ok lady..lets get this this started...I am with a 2 year old. I might be crazy but when the server says she is a parent I expect them to understand & TRY to be quick with things.\\nThis girl was not quick..she was very very slow.\\nFinally when the food arrived his grilled mac & cheese was cold. Thankfully he did not care. She offered to take it back and warm it up but there was no way he was going to go for that. He was hungry.\\nWe finally order the chocolate pizza for dessert after waiting way to long for her to come back and check on us.\\nThe pizza of course takes forever & I am trying to keep my kid from climbing the walls. Once it gets there tho my kiddo is in heaven. He tore into that pizza. He was in heaven. He was dancing in his chair...singing Yum Yum in my belly. It was awesome. And for that they should get 5 stars. But when I factor everything in they are down to 2 stars. Sorry Max..Prob wont be coming back again.\n",
      "[5 stars]: I've been bringing my son to the owner Michael Joyner and everytime we come in we are greeted and never have to wait long no matter what day we come in. Even if he is busy he always makes time to fit us in especially with my crazy schedule. Great location, customer service and professionalism. I always refer 5 Star to anyone looking for an excellent barber!!!!!! Thanks Mike\n",
      "[1 stars]: The trip to the location takes two busses and the wait was do long we cancelled our reservation and took a taxi ... Don't waste your time and effort on this dump!\n",
      "[4 stars]: This restaurant was suggested to me by a friend.  \\n\\nWe were seated half way between the outdoor patio and the interior.  The restaurant is sexy and dark....hard to read your menu dark, but that's ok.  The vibe is lounge, with an extraordinary wine list.\\n\\nEverything on the menu looks amazing.  It was hard to choose, but we finally settled on the sausage flatbread, pesto cream pasta and the hamachi.  All were incredible, flavorful and fresh.  I was surprised how spicy and perfect the flatbread was, only because pizza crust can be tricky at a restaurant that isn't really a pizza place.\\n\\nWe skipped dessert, so I can't comment on that.\\n\\nService started great.  As the night went on, the server became more absent and we finally had to stop a random waiter to get the check.\\n\\nI plan on coming back.  For drinks or dinner, it's a great place to go with a group or a date.\n",
      "[3 stars]: This place is unique because you are sitting outside in a garden that is covered when it is raining, the food was alright but it was over priced and there are very limited options for vegetarians, and almost none for vegans.\\n\\nI know this isn't the right town for a vegetarian or a vegan but they could add a few more options for us. I am giving them 3 stars for the atmosphere and excellent service.\n",
      "[3 stars]: Whew, $10 for a whiskey ginger ale and $18 for a martini.  We must be in Las Vegas. \\n\\nOh wait, yes we are.  Red Square is worth it for the ambiance, if you ask me.  I'd like to have seen more of what they had to offer.  The \\\"ice bar\\\" that gets a lot of hype isn't as impressive as it sounds.\\n\\nThe staff were pretty slow - I think 3 of them behind the bar, and we waited 10 minutes before being served and once our orders were taken they were in no rush to serve either.  Tipped minimally, but otherwise they weren't jerks or anything.  It's not like they were busy, either - it was a Tuesday night in February.  \\n\\nI'm being kind of hard on them, but we did have fun and it's a neat theme.  We did not go back in the vodka room, though.  Maybe next time.\n",
      "[4 stars]: Loove me some Pei Wei! Boyfriend isn't a fan, so whenever I end up eating alone, this is my go-to. \\n\\nI have a bad habit of ordering the same thing over and over once I find something I like, so I can only say that the Dan-Dan Noodles are amazing! The eggrolls are also delicious. Taste can vary with regard to spiciness, but it's generally pretty consistent. \\n\\nTheir online ordering system is my favorite and my food is ready and waiting on time, every time. The staff is super friendly. \\n\\nGreat stop for some quick, tasty Asian food (I believe they cover at least 5 different Asian cuisines).\n",
      "[5 stars]: I have been looking for a perfect Thai food restaurant for years and I have finally found it at Yupah's. I have tried countless Thai restaurants from Thai Rama to Latitude Eight to Thai basil and none of them compare to the food and atmosphere of Yupah's. \\n\\nThe prices are standard to Thai but the food is out of this world! You can really taste every single flavor. I tried the tom Kai gai coconut soup and it is by far my favorite. The lemon grass and spices are amazing. Every flavor is present served amazingly. The service is incredible as well. Everyone is extremely friendly. The red curry is without a doubt the best food on the menu. I absolutely love it. \\n\\nDefinitely go here. No other place compares! I love Yupah's!\n",
      "[4 stars]: This restaurant has a nice classic American decor; kind of American farmer, Route 66ish decor..very quaint. The food was very good and the service was really good too. Family owned, you can tell that they really care about their customers.  We will definitely be coming back.\n",
      "[4 stars]: DH was getting pizza at #1 Brothers so I originally tried to order from the Japanese restaurant in the same plaza, but they failed to answer the phone after we called FOUR times!  Thank goodness.  Went to Ari and got the usual excellent service and good sushi.  What made me feel good---I was explaining to the girl who answered the phone that I had ordered the spicy tuna handroll before and had been disappointed in its consistency and our server had suggested a order it more coarsely chopped.  The young lady on the phone said: \\\"Oh, yes, that was me---I was your server and I remember.  I know exactly what you want!\\\"  And she did.  My spicy tuna handroll was exactly what I wanted and I felt good that she had remembered such a trivial incident when she deals with hundreds of customers.  Also, when I explained to her what my favorite specialty roll had been back at my old sushi joint, she was able to suggest a roll that very nearly the same and very good.  Actually, wait.  This was a Four star rather than a three star experience---let me go change my rating.  I feel like I have found my forever sushi place!  Thank you, Ari, for making me feel like a valued customer and not a faceless diner.\n",
      "[1 stars]: A EVITER !\\n\\nNous avons attendu 2h45 pour avoir un plat de nachos... et le patron est venu m'insulter parce que je demandais un geste commercial pour cette attente interminable !! On parlait juste de chips avec de la sauce tomate... et ils n'\\u00e9taient m\\u00eame pas bons !!!\\n\\nNous n'y remettrons jamais les pieds. Nous trouverons une autre place pour voir les matchs des Canadiens \\n\\nUne \\u00e9toile,  pour les serveuses qui supportent un tel patron !\n",
      "[1 stars]: DO NOT ORDER FROM VITACOST!!!\\n\\nI have never wanted to give a place a negative star rating more than I do this company.\\n\\nI placed an order last Monday. After it had not been shipped by Friday afternoon, I sent an email inquiring about the expected ship date. I then got onto their live chat with a customer service representative who told me that the order had been invoiced and shipped, it just wasn't posted yet. Later, I found out that she had lied to me and that the order shipped that night, after I had inquired about it. I received an email citing the wrong order number that also included gross grammatical errors (i.e., subject-verb agreement, thanking me for my \\\"patients\\\").\\n\\nI responded to complain that the live-chat representative had lied to me and also wanted to confirm that the correct order had been shipped because the representative who emailed me had cited a different order number. I also cited the unprofessionalism of the email. I received a response apologizing for the unprofessional grammatical errors in the \\\"precious\\\" email. I received no apology for the lies, however, nor an incentive to try their services again.\\n\\nI received my order yesterday. It was missing four items and contained one wrong item. I sent a pretty angry and detailed email and posted a message on their Facebook page.\\n\\nI was contacted via phone today. I detailed the problem with the shipping, lying and now the missing/wrong items again. She said that the problem with shipping and being lied to had been taken care of internally. She was then ready to go. I had to ASK about the missing and wrong items. She asked what they were (which had already been detailed in my last email). She told me I would get a reimbursement to my account in 48-72 hours. Fine.\\n\\nA little while later, I get an email from a representative and a comment on my Facebook post, both saying that management had left me a message with their direct number to call and resolve the issue. WHAT?????? I just SPOKE with the representative and resolved the issue. They clearly have no clue what is happening in their own company!\\n\\nThe unprofessionalism and carelessness at Vitacost is unbelievable. I ordered from them to not just save on cost but also on time. The time I have had to put into this is greater than the time I would have spent just going to the store to get everything myself, which I now have to do anyway!\n",
      "[4 stars]: Went here today to get some sushi grade salmon and tuna! This is my go-to place whenever I'm in the mood of making sushi. Fish is always fresh on all the times I've came. \\n\\nI also picked some beef and pork meat- both were good prices, cheaper than most places and are fresh.\\n\\nGot my vegetables from onions to eggplants. \\n\\nAlso passed by the bakery section and bought strawberry and taro cake @ $2.50/pc, haven't tried them, hope it's good!\\n\\nAlso passed by deli and bought some chickens feet @ $2.25/4 pcs -- I used to eat them back when I was little in the Philippines and haven't tried them since, I'd say it's pretty good from what I remember. \\n\\nOverall a great place to shop for asian food and delicacies, too bad it's about 40 minutes away from me.\n",
      "[4 stars]: Lots of hands on stuff to do and explore. My faves - the robots - they never miss shooting baskets and will kick your ass at air hockey. Fun and informative way to kill an afternoon.\n",
      "[2 stars]: I just started working at a corporate office in Scottsdale Quarter and tried out C3 on my second week. \\n\\nI have to say I was not impressed on any level.\\n\\nWell, that's not entirely true. The one level that was SUPER impressed about was this. There is a guy who takes orders and he was amazing. I waited in line for about 5 minutes and watched as he helped everyone in front of me with all kind of questions, issues, and orders. and He was hilarious when it was my time to order since it was my first time in the restaurant. I wish I would have caught his name to give him more kudos. \\n\\nOther than that though, I could give this place a C-. \\n\\nWe ordered a salad and a sandwich. My co workers salad arrived probably 20 + minutes after we ordered and my sandwich was nowhere in sight. After ten more minutes I went in to ask and was told \\\"its coming its coming hold on.\\\" five minutes later it showed up, soggy and extremely disappointing. I ate three bites, and decided to call it quits. My co workers salad looked delicious but I have no idea if it was or not. \\n\\nOverall, eh.\n",
      "[5 stars]: Went to this place and it is the bomb. I had shrimp and it was delicious . I would definitely recommend this place for everyone.\n",
      "[4 stars]: I was never really a fan of Hamburgers so my review won't be just on the food. \\n\\nThe Bad about this place. \\nVery crowded. Huge lines. No place to sit because of the crowds. Had to sit outside in 100degree Vegas heat. I think thats all I can think of...\\n\\nThe Good\\nVery quick service for these kind of lines. \\nThe burgers and fries tasted just like the ones we have at home in Los Angeles. Maybe alittle better even on the burger or maybe I was just hungry. Extra bathrooms in their second building for merchandise.\n"
     ]
    }
   ],
   "source": [
    "from datasets import load_dataset\n",
    "\n",
    "# We have dataset for meta-eval\n",
    "dataset = load_dataset(\"yelp_review_full\", split=\"test\")\n",
    "dataset = dataset.shuffle(seed=8)\n",
    "dataset = dataset.select(range(20))\n",
    "dataset = dataset.rename_column(\"text\", \"input\")  # fastrepl need input column\n",
    "dataset = dataset.map(\n",
    "    lambda row: {\"stars\": row[\"label\"] + 1, \"input\": row[\"input\"]},\n",
    "    remove_columns=[\"label\"],\n",
    ")\n",
    "\n",
    "\n",
    "def render_row(row, label_key: str, text_key: str):\n",
    "    stars, text = row[label_key], row[text_key]\n",
    "    return f\"[{stars} stars]: {text}\"\n",
    "\n",
    "\n",
    "for row in dataset:\n",
    "    print(render_row(row, label_key=\"stars\", text_key=\"input\"))"
   ]
  },
  {
   "cell_type": "code",
   "execution_count": 2,
   "metadata": {},
   "outputs": [
    {
     "data": {
      "application/vnd.jupyter.widget-view+json": {
       "model_id": "fda8acec8b7544ffb58f52f3d59b3e28",
       "version_major": 2,
       "version_minor": 0
      },
      "text/plain": [
       "Output()"
      ]
     },
     "metadata": {},
     "output_type": "display_data"
    },
    {
     "data": {
      "text/html": [
       "<pre style=\"white-space:pre;overflow-x:auto;line-height:normal;font-family:Menlo,'DejaVu Sans Mono',consolas,'Courier New',monospace\"></pre>\n"
      ],
      "text/plain": []
     },
     "metadata": {},
     "output_type": "display_data"
    },
    {
     "data": {
      "text/html": [
       "<pre style=\"white-space:pre;overflow-x:auto;line-height:normal;font-family:Menlo,'DejaVu Sans Mono',consolas,'Courier New',monospace\">\n",
       "</pre>\n"
      ],
      "text/plain": [
       "\n"
      ]
     },
     "metadata": {},
     "output_type": "display_data"
    },
    {
     "name": "stdout",
     "output_type": "stream",
     "text": [
      "Dataset({\n",
      "    features: ['input', 'stars', 'output'],\n",
      "    num_rows: 20\n",
      "}) \n",
      "\n"
     ]
    },
    {
     "data": {
      "application/vnd.jupyter.widget-view+json": {
       "model_id": "5bdc5c38273748328b4cdbee912c71dd",
       "version_major": 2,
       "version_minor": 0
      },
      "text/plain": [
       "Map:   0%|          | 0/20 [00:00<?, ? examples/s]"
      ]
     },
     "metadata": {},
     "output_type": "display_data"
    },
    {
     "name": "stdout",
     "output_type": "stream",
     "text": [
      "[5 stars]: Stayed at the Wm Penn down the street for a wedding and needed a last minute haircut. Friendly, helpful, all around good cut!\n",
      "[0 stars]: We tried out the lunch specials and found them to be pretty good.  For about $6 we both got healthy portions of spicy food along with fairly good service.  Take a chance and go for the hotter dishes.  :-)\n",
      "[0 stars]: Should have known better than to eat in a place so dark that you can't see the food on your plate. Underwhelming and overpriced.\n",
      "[0 stars]: This place has sure changed...and not for the better. they totally re-did the menu and got rid of many yummy things they used to serve.\\nThere are still the desserts but the little sliders are off the menu and those were my favorite!\\nSo I bring my little guy here for a little dinner & chocolate treat. Our server tells me she is also a mom and whatnot. Ok lady..lets get this this started...I am with a 2 year old. I might be crazy but when the server says she is a parent I expect them to understand & TRY to be quick with things.\\nThis girl was not quick..she was very very slow.\\nFinally when the food arrived his grilled mac & cheese was cold. Thankfully he did not care. She offered to take it back and warm it up but there was no way he was going to go for that. He was hungry.\\nWe finally order the chocolate pizza for dessert after waiting way to long for her to come back and check on us.\\nThe pizza of course takes forever & I am trying to keep my kid from climbing the walls. Once it gets there tho my kiddo is in heaven. He tore into that pizza. He was in heaven. He was dancing in his chair...singing Yum Yum in my belly. It was awesome. And for that they should get 5 stars. But when I factor everything in they are down to 2 stars. Sorry Max..Prob wont be coming back again.\n",
      "[5 stars]: I've been bringing my son to the owner Michael Joyner and everytime we come in we are greeted and never have to wait long no matter what day we come in. Even if he is busy he always makes time to fit us in especially with my crazy schedule. Great location, customer service and professionalism. I always refer 5 Star to anyone looking for an excellent barber!!!!!! Thanks Mike\n",
      "[1 stars]: The trip to the location takes two busses and the wait was do long we cancelled our reservation and took a taxi ... Don't waste your time and effort on this dump!\n",
      "[0 stars]: This restaurant was suggested to me by a friend.  \\n\\nWe were seated half way between the outdoor patio and the interior.  The restaurant is sexy and dark....hard to read your menu dark, but that's ok.  The vibe is lounge, with an extraordinary wine list.\\n\\nEverything on the menu looks amazing.  It was hard to choose, but we finally settled on the sausage flatbread, pesto cream pasta and the hamachi.  All were incredible, flavorful and fresh.  I was surprised how spicy and perfect the flatbread was, only because pizza crust can be tricky at a restaurant that isn't really a pizza place.\\n\\nWe skipped dessert, so I can't comment on that.\\n\\nService started great.  As the night went on, the server became more absent and we finally had to stop a random waiter to get the check.\\n\\nI plan on coming back.  For drinks or dinner, it's a great place to go with a group or a date.\n",
      "[0 stars]: This place is unique because you are sitting outside in a garden that is covered when it is raining, the food was alright but it was over priced and there are very limited options for vegetarians, and almost none for vegans.\\n\\nI know this isn't the right town for a vegetarian or a vegan but they could add a few more options for us. I am giving them 3 stars for the atmosphere and excellent service.\n",
      "[3 stars]: Whew, $10 for a whiskey ginger ale and $18 for a martini.  We must be in Las Vegas. \\n\\nOh wait, yes we are.  Red Square is worth it for the ambiance, if you ask me.  I'd like to have seen more of what they had to offer.  The \\\"ice bar\\\" that gets a lot of hype isn't as impressive as it sounds.\\n\\nThe staff were pretty slow - I think 3 of them behind the bar, and we waited 10 minutes before being served and once our orders were taken they were in no rush to serve either.  Tipped minimally, but otherwise they weren't jerks or anything.  It's not like they were busy, either - it was a Tuesday night in February.  \\n\\nI'm being kind of hard on them, but we did have fun and it's a neat theme.  We did not go back in the vodka room, though.  Maybe next time.\n",
      "[0 stars]: Loove me some Pei Wei! Boyfriend isn't a fan, so whenever I end up eating alone, this is my go-to. \\n\\nI have a bad habit of ordering the same thing over and over once I find something I like, so I can only say that the Dan-Dan Noodles are amazing! The eggrolls are also delicious. Taste can vary with regard to spiciness, but it's generally pretty consistent. \\n\\nTheir online ordering system is my favorite and my food is ready and waiting on time, every time. The staff is super friendly. \\n\\nGreat stop for some quick, tasty Asian food (I believe they cover at least 5 different Asian cuisines).\n",
      "[0 stars]: I have been looking for a perfect Thai food restaurant for years and I have finally found it at Yupah's. I have tried countless Thai restaurants from Thai Rama to Latitude Eight to Thai basil and none of them compare to the food and atmosphere of Yupah's. \\n\\nThe prices are standard to Thai but the food is out of this world! You can really taste every single flavor. I tried the tom Kai gai coconut soup and it is by far my favorite. The lemon grass and spices are amazing. Every flavor is present served amazingly. The service is incredible as well. Everyone is extremely friendly. The red curry is without a doubt the best food on the menu. I absolutely love it. \\n\\nDefinitely go here. No other place compares! I love Yupah's!\n",
      "[5 stars]: This restaurant has a nice classic American decor; kind of American farmer, Route 66ish decor..very quaint. The food was very good and the service was really good too. Family owned, you can tell that they really care about their customers.  We will definitely be coming back.\n",
      "[4 stars]: DH was getting pizza at #1 Brothers so I originally tried to order from the Japanese restaurant in the same plaza, but they failed to answer the phone after we called FOUR times!  Thank goodness.  Went to Ari and got the usual excellent service and good sushi.  What made me feel good---I was explaining to the girl who answered the phone that I had ordered the spicy tuna handroll before and had been disappointed in its consistency and our server had suggested a order it more coarsely chopped.  The young lady on the phone said: \\\"Oh, yes, that was me---I was your server and I remember.  I know exactly what you want!\\\"  And she did.  My spicy tuna handroll was exactly what I wanted and I felt good that she had remembered such a trivial incident when she deals with hundreds of customers.  Also, when I explained to her what my favorite specialty roll had been back at my old sushi joint, she was able to suggest a roll that very nearly the same and very good.  Actually, wait.  This was a Four star rather than a three star experience---let me go change my rating.  I feel like I have found my forever sushi place!  Thank you, Ari, for making me feel like a valued customer and not a faceless diner.\n",
      "[1 stars]: A EVITER !\\n\\nNous avons attendu 2h45 pour avoir un plat de nachos... et le patron est venu m'insulter parce que je demandais un geste commercial pour cette attente interminable !! On parlait juste de chips avec de la sauce tomate... et ils n'\\u00e9taient m\\u00eame pas bons !!!\\n\\nNous n'y remettrons jamais les pieds. Nous trouverons une autre place pour voir les matchs des Canadiens \\n\\nUne \\u00e9toile,  pour les serveuses qui supportent un tel patron !\n",
      "[0 stars]: DO NOT ORDER FROM VITACOST!!!\\n\\nI have never wanted to give a place a negative star rating more than I do this company.\\n\\nI placed an order last Monday. After it had not been shipped by Friday afternoon, I sent an email inquiring about the expected ship date. I then got onto their live chat with a customer service representative who told me that the order had been invoiced and shipped, it just wasn't posted yet. Later, I found out that she had lied to me and that the order shipped that night, after I had inquired about it. I received an email citing the wrong order number that also included gross grammatical errors (i.e., subject-verb agreement, thanking me for my \\\"patients\\\").\\n\\nI responded to complain that the live-chat representative had lied to me and also wanted to confirm that the correct order had been shipped because the representative who emailed me had cited a different order number. I also cited the unprofessionalism of the email. I received a response apologizing for the unprofessional grammatical errors in the \\\"precious\\\" email. I received no apology for the lies, however, nor an incentive to try their services again.\\n\\nI received my order yesterday. It was missing four items and contained one wrong item. I sent a pretty angry and detailed email and posted a message on their Facebook page.\\n\\nI was contacted via phone today. I detailed the problem with the shipping, lying and now the missing/wrong items again. She said that the problem with shipping and being lied to had been taken care of internally. She was then ready to go. I had to ASK about the missing and wrong items. She asked what they were (which had already been detailed in my last email). She told me I would get a reimbursement to my account in 48-72 hours. Fine.\\n\\nA little while later, I get an email from a representative and a comment on my Facebook post, both saying that management had left me a message with their direct number to call and resolve the issue. WHAT?????? I just SPOKE with the representative and resolved the issue. They clearly have no clue what is happening in their own company!\\n\\nThe unprofessionalism and carelessness at Vitacost is unbelievable. I ordered from them to not just save on cost but also on time. The time I have had to put into this is greater than the time I would have spent just going to the store to get everything myself, which I now have to do anyway!\n",
      "[5 stars]: Went here today to get some sushi grade salmon and tuna! This is my go-to place whenever I'm in the mood of making sushi. Fish is always fresh on all the times I've came. \\n\\nI also picked some beef and pork meat- both were good prices, cheaper than most places and are fresh.\\n\\nGot my vegetables from onions to eggplants. \\n\\nAlso passed by the bakery section and bought strawberry and taro cake @ $2.50/pc, haven't tried them, hope it's good!\\n\\nAlso passed by deli and bought some chickens feet @ $2.25/4 pcs -- I used to eat them back when I was little in the Philippines and haven't tried them since, I'd say it's pretty good from what I remember. \\n\\nOverall a great place to shop for asian food and delicacies, too bad it's about 40 minutes away from me.\n",
      "[0 stars]: Lots of hands on stuff to do and explore. My faves - the robots - they never miss shooting baskets and will kick your ass at air hockey. Fun and informative way to kill an afternoon.\n",
      "[0 stars]: I just started working at a corporate office in Scottsdale Quarter and tried out C3 on my second week. \\n\\nI have to say I was not impressed on any level.\\n\\nWell, that's not entirely true. The one level that was SUPER impressed about was this. There is a guy who takes orders and he was amazing. I waited in line for about 5 minutes and watched as he helped everyone in front of me with all kind of questions, issues, and orders. and He was hilarious when it was my time to order since it was my first time in the restaurant. I wish I would have caught his name to give him more kudos. \\n\\nOther than that though, I could give this place a C-. \\n\\nWe ordered a salad and a sandwich. My co workers salad arrived probably 20 + minutes after we ordered and my sandwich was nowhere in sight. After ten more minutes I went in to ask and was told \\\"its coming its coming hold on.\\\" five minutes later it showed up, soggy and extremely disappointing. I ate three bites, and decided to call it quits. My co workers salad looked delicious but I have no idea if it was or not. \\n\\nOverall, eh.\n",
      "[5 stars]: Went to this place and it is the bomb. I had shrimp and it was delicious . I would definitely recommend this place for everyone.\n",
      "[0 stars]: I was never really a fan of Hamburgers so my review won't be just on the food. \\n\\nThe Bad about this place. \\nVery crowded. Huge lines. No place to sit because of the crowds. Had to sit outside in 100degree Vegas heat. I think thats all I can think of...\\n\\nThe Good\\nVery quick service for these kind of lines. \\nThe burgers and fries tasted just like the ones we have at home in Los Angeles. Maybe alittle better even on the burger or maybe I was just hungry. Extra bathrooms in their second building for merchandise.\n"
     ]
    }
   ],
   "source": [
    "from fastrepl.eval.model import LLMChainOfThoughtClassifier\n",
    "from fastrepl.loop import Evaluator\n",
    "\n",
    "# Let's define our first eval\n",
    "result_1 = Evaluator(\n",
    "    dataset=dataset,\n",
    "    evals=[\n",
    "        LLMChainOfThoughtClassifier(\n",
    "            model=\"gpt-3.5-turbo\",\n",
    "            context=\"You will get a input text from Yelp review. Please rate it from 1 to 5 stars.\",\n",
    "            labels={\n",
    "                \"FIVE_STARS\": \"5 stars\",\n",
    "                \"FOUR_STARS\": \"4 stars\",\n",
    "                \"THREE_STARS\": \"3 stars\",\n",
    "                \"TWO_STARS\": \"2 stars\",\n",
    "                \"ONE_STAR\": \"1 star\",\n",
    "            },\n",
    "        )\n",
    "    ],\n",
    ").run()\n",
    "\n",
    "print(result_1, \"\\n\")\n",
    "\n",
    "\n",
    "def mapper(row):\n",
    "    return {\n",
    "        \"input\": row[\"input\"],\n",
    "        \"output\": {\n",
    "            \"FIVE_STARS\": 5,\n",
    "            \"FOUR_STARS\": 4,\n",
    "            \"THREE_STARS\": 3,\n",
    "            \"TWO_STARS\": 2,\n",
    "            \"ONE_STAR\": 1,\n",
    "            \"UNKNOWN\": 0,\n",
    "        }[row[\"output\"]],\n",
    "        \"stars\": row[\"stars\"],\n",
    "    }\n",
    "\n",
    "\n",
    "result_1 = result_1.map(mapper)\n",
    "\n",
    "\n",
    "for row in result_1:\n",
    "    print(render_row(row, label_key=\"output\", text_key=\"input\"))"
   ]
  },
  {
   "cell_type": "code",
   "execution_count": 3,
   "metadata": {},
   "outputs": [
    {
     "data": {
      "application/vnd.jupyter.widget-view+json": {
       "model_id": "3365d9e68e4a40aa90209c20bde41400",
       "version_major": 2,
       "version_minor": 0
      },
      "text/plain": [
       "Output()"
      ]
     },
     "metadata": {},
     "output_type": "display_data"
    },
    {
     "data": {
      "text/html": [
       "<pre style=\"white-space:pre;overflow-x:auto;line-height:normal;font-family:Menlo,'DejaVu Sans Mono',consolas,'Courier New',monospace\"></pre>\n"
      ],
      "text/plain": []
     },
     "metadata": {},
     "output_type": "display_data"
    },
    {
     "data": {
      "text/html": [
       "<pre style=\"white-space:pre;overflow-x:auto;line-height:normal;font-family:Menlo,'DejaVu Sans Mono',consolas,'Courier New',monospace\">\n",
       "</pre>\n"
      ],
      "text/plain": [
       "\n"
      ]
     },
     "metadata": {},
     "output_type": "display_data"
    },
    {
     "name": "stdout",
     "output_type": "stream",
     "text": [
      "Dataset({\n",
      "    features: ['input', 'stars', 'output'],\n",
      "    num_rows: 20\n",
      "}) \n",
      "\n"
     ]
    },
    {
     "data": {
      "application/vnd.jupyter.widget-view+json": {
       "model_id": "08201301e9ab41e79b6d295282acbbe3",
       "version_major": 2,
       "version_minor": 0
      },
      "text/plain": [
       "Map:   0%|          | 0/20 [00:00<?, ? examples/s]"
      ]
     },
     "metadata": {},
     "output_type": "display_data"
    },
    {
     "name": "stdout",
     "output_type": "stream",
     "text": [
      "[5 stars]: Stayed at the Wm Penn down the street for a wedding and needed a last minute haircut. Friendly, helpful, all around good cut!\n",
      "[4 stars]: We tried out the lunch specials and found them to be pretty good.  For about $6 we both got healthy portions of spicy food along with fairly good service.  Take a chance and go for the hotter dishes.  :-)\n",
      "[2 stars]: Should have known better than to eat in a place so dark that you can't see the food on your plate. Underwhelming and overpriced.\n",
      "[2 stars]: This place has sure changed...and not for the better. they totally re-did the menu and got rid of many yummy things they used to serve.\\nThere are still the desserts but the little sliders are off the menu and those were my favorite!\\nSo I bring my little guy here for a little dinner & chocolate treat. Our server tells me she is also a mom and whatnot. Ok lady..lets get this this started...I am with a 2 year old. I might be crazy but when the server says she is a parent I expect them to understand & TRY to be quick with things.\\nThis girl was not quick..she was very very slow.\\nFinally when the food arrived his grilled mac & cheese was cold. Thankfully he did not care. She offered to take it back and warm it up but there was no way he was going to go for that. He was hungry.\\nWe finally order the chocolate pizza for dessert after waiting way to long for her to come back and check on us.\\nThe pizza of course takes forever & I am trying to keep my kid from climbing the walls. Once it gets there tho my kiddo is in heaven. He tore into that pizza. He was in heaven. He was dancing in his chair...singing Yum Yum in my belly. It was awesome. And for that they should get 5 stars. But when I factor everything in they are down to 2 stars. Sorry Max..Prob wont be coming back again.\n",
      "[5 stars]: I've been bringing my son to the owner Michael Joyner and everytime we come in we are greeted and never have to wait long no matter what day we come in. Even if he is busy he always makes time to fit us in especially with my crazy schedule. Great location, customer service and professionalism. I always refer 5 Star to anyone looking for an excellent barber!!!!!! Thanks Mike\n",
      "[1 stars]: The trip to the location takes two busses and the wait was do long we cancelled our reservation and took a taxi ... Don't waste your time and effort on this dump!\n",
      "[4 stars]: This restaurant was suggested to me by a friend.  \\n\\nWe were seated half way between the outdoor patio and the interior.  The restaurant is sexy and dark....hard to read your menu dark, but that's ok.  The vibe is lounge, with an extraordinary wine list.\\n\\nEverything on the menu looks amazing.  It was hard to choose, but we finally settled on the sausage flatbread, pesto cream pasta and the hamachi.  All were incredible, flavorful and fresh.  I was surprised how spicy and perfect the flatbread was, only because pizza crust can be tricky at a restaurant that isn't really a pizza place.\\n\\nWe skipped dessert, so I can't comment on that.\\n\\nService started great.  As the night went on, the server became more absent and we finally had to stop a random waiter to get the check.\\n\\nI plan on coming back.  For drinks or dinner, it's a great place to go with a group or a date.\n",
      "[3 stars]: This place is unique because you are sitting outside in a garden that is covered when it is raining, the food was alright but it was over priced and there are very limited options for vegetarians, and almost none for vegans.\\n\\nI know this isn't the right town for a vegetarian or a vegan but they could add a few more options for us. I am giving them 3 stars for the atmosphere and excellent service.\n",
      "[4 stars]: Whew, $10 for a whiskey ginger ale and $18 for a martini.  We must be in Las Vegas. \\n\\nOh wait, yes we are.  Red Square is worth it for the ambiance, if you ask me.  I'd like to have seen more of what they had to offer.  The \\\"ice bar\\\" that gets a lot of hype isn't as impressive as it sounds.\\n\\nThe staff were pretty slow - I think 3 of them behind the bar, and we waited 10 minutes before being served and once our orders were taken they were in no rush to serve either.  Tipped minimally, but otherwise they weren't jerks or anything.  It's not like they were busy, either - it was a Tuesday night in February.  \\n\\nI'm being kind of hard on them, but we did have fun and it's a neat theme.  We did not go back in the vodka room, though.  Maybe next time.\n",
      "[4 stars]: Loove me some Pei Wei! Boyfriend isn't a fan, so whenever I end up eating alone, this is my go-to. \\n\\nI have a bad habit of ordering the same thing over and over once I find something I like, so I can only say that the Dan-Dan Noodles are amazing! The eggrolls are also delicious. Taste can vary with regard to spiciness, but it's generally pretty consistent. \\n\\nTheir online ordering system is my favorite and my food is ready and waiting on time, every time. The staff is super friendly. \\n\\nGreat stop for some quick, tasty Asian food (I believe they cover at least 5 different Asian cuisines).\n",
      "[5 stars]: I have been looking for a perfect Thai food restaurant for years and I have finally found it at Yupah's. I have tried countless Thai restaurants from Thai Rama to Latitude Eight to Thai basil and none of them compare to the food and atmosphere of Yupah's. \\n\\nThe prices are standard to Thai but the food is out of this world! You can really taste every single flavor. I tried the tom Kai gai coconut soup and it is by far my favorite. The lemon grass and spices are amazing. Every flavor is present served amazingly. The service is incredible as well. Everyone is extremely friendly. The red curry is without a doubt the best food on the menu. I absolutely love it. \\n\\nDefinitely go here. No other place compares! I love Yupah's!\n",
      "[5 stars]: This restaurant has a nice classic American decor; kind of American farmer, Route 66ish decor..very quaint. The food was very good and the service was really good too. Family owned, you can tell that they really care about their customers.  We will definitely be coming back.\n",
      "[4 stars]: DH was getting pizza at #1 Brothers so I originally tried to order from the Japanese restaurant in the same plaza, but they failed to answer the phone after we called FOUR times!  Thank goodness.  Went to Ari and got the usual excellent service and good sushi.  What made me feel good---I was explaining to the girl who answered the phone that I had ordered the spicy tuna handroll before and had been disappointed in its consistency and our server had suggested a order it more coarsely chopped.  The young lady on the phone said: \\\"Oh, yes, that was me---I was your server and I remember.  I know exactly what you want!\\\"  And she did.  My spicy tuna handroll was exactly what I wanted and I felt good that she had remembered such a trivial incident when she deals with hundreds of customers.  Also, when I explained to her what my favorite specialty roll had been back at my old sushi joint, she was able to suggest a roll that very nearly the same and very good.  Actually, wait.  This was a Four star rather than a three star experience---let me go change my rating.  I feel like I have found my forever sushi place!  Thank you, Ari, for making me feel like a valued customer and not a faceless diner.\n",
      "[1 stars]: A EVITER !\\n\\nNous avons attendu 2h45 pour avoir un plat de nachos... et le patron est venu m'insulter parce que je demandais un geste commercial pour cette attente interminable !! On parlait juste de chips avec de la sauce tomate... et ils n'\\u00e9taient m\\u00eame pas bons !!!\\n\\nNous n'y remettrons jamais les pieds. Nous trouverons une autre place pour voir les matchs des Canadiens \\n\\nUne \\u00e9toile,  pour les serveuses qui supportent un tel patron !\n",
      "[1 stars]: DO NOT ORDER FROM VITACOST!!!\\n\\nI have never wanted to give a place a negative star rating more than I do this company.\\n\\nI placed an order last Monday. After it had not been shipped by Friday afternoon, I sent an email inquiring about the expected ship date. I then got onto their live chat with a customer service representative who told me that the order had been invoiced and shipped, it just wasn't posted yet. Later, I found out that she had lied to me and that the order shipped that night, after I had inquired about it. I received an email citing the wrong order number that also included gross grammatical errors (i.e., subject-verb agreement, thanking me for my \\\"patients\\\").\\n\\nI responded to complain that the live-chat representative had lied to me and also wanted to confirm that the correct order had been shipped because the representative who emailed me had cited a different order number. I also cited the unprofessionalism of the email. I received a response apologizing for the unprofessional grammatical errors in the \\\"precious\\\" email. I received no apology for the lies, however, nor an incentive to try their services again.\\n\\nI received my order yesterday. It was missing four items and contained one wrong item. I sent a pretty angry and detailed email and posted a message on their Facebook page.\\n\\nI was contacted via phone today. I detailed the problem with the shipping, lying and now the missing/wrong items again. She said that the problem with shipping and being lied to had been taken care of internally. She was then ready to go. I had to ASK about the missing and wrong items. She asked what they were (which had already been detailed in my last email). She told me I would get a reimbursement to my account in 48-72 hours. Fine.\\n\\nA little while later, I get an email from a representative and a comment on my Facebook post, both saying that management had left me a message with their direct number to call and resolve the issue. WHAT?????? I just SPOKE with the representative and resolved the issue. They clearly have no clue what is happening in their own company!\\n\\nThe unprofessionalism and carelessness at Vitacost is unbelievable. I ordered from them to not just save on cost but also on time. The time I have had to put into this is greater than the time I would have spent just going to the store to get everything myself, which I now have to do anyway!\n",
      "[5 stars]: Went here today to get some sushi grade salmon and tuna! This is my go-to place whenever I'm in the mood of making sushi. Fish is always fresh on all the times I've came. \\n\\nI also picked some beef and pork meat- both were good prices, cheaper than most places and are fresh.\\n\\nGot my vegetables from onions to eggplants. \\n\\nAlso passed by the bakery section and bought strawberry and taro cake @ $2.50/pc, haven't tried them, hope it's good!\\n\\nAlso passed by deli and bought some chickens feet @ $2.25/4 pcs -- I used to eat them back when I was little in the Philippines and haven't tried them since, I'd say it's pretty good from what I remember. \\n\\nOverall a great place to shop for asian food and delicacies, too bad it's about 40 minutes away from me.\n",
      "[5 stars]: Lots of hands on stuff to do and explore. My faves - the robots - they never miss shooting baskets and will kick your ass at air hockey. Fun and informative way to kill an afternoon.\n",
      "[4 stars]: I just started working at a corporate office in Scottsdale Quarter and tried out C3 on my second week. \\n\\nI have to say I was not impressed on any level.\\n\\nWell, that's not entirely true. The one level that was SUPER impressed about was this. There is a guy who takes orders and he was amazing. I waited in line for about 5 minutes and watched as he helped everyone in front of me with all kind of questions, issues, and orders. and He was hilarious when it was my time to order since it was my first time in the restaurant. I wish I would have caught his name to give him more kudos. \\n\\nOther than that though, I could give this place a C-. \\n\\nWe ordered a salad and a sandwich. My co workers salad arrived probably 20 + minutes after we ordered and my sandwich was nowhere in sight. After ten more minutes I went in to ask and was told \\\"its coming its coming hold on.\\\" five minutes later it showed up, soggy and extremely disappointing. I ate three bites, and decided to call it quits. My co workers salad looked delicious but I have no idea if it was or not. \\n\\nOverall, eh.\n",
      "[5 stars]: Went to this place and it is the bomb. I had shrimp and it was delicious . I would definitely recommend this place for everyone.\n",
      "[4 stars]: I was never really a fan of Hamburgers so my review won't be just on the food. \\n\\nThe Bad about this place. \\nVery crowded. Huge lines. No place to sit because of the crowds. Had to sit outside in 100degree Vegas heat. I think thats all I can think of...\\n\\nThe Good\\nVery quick service for these kind of lines. \\nThe burgers and fries tasted just like the ones we have at home in Los Angeles. Maybe alittle better even on the burger or maybe I was just hungry. Extra bathrooms in their second building for merchandise.\n"
     ]
    }
   ],
   "source": [
    "# Let's see if we can get more reliable results\n",
    "from fastrepl.eval.model import LLMChainOfThought, LLMClassifier\n",
    "\n",
    "labels = {\n",
    "    \"FIVE_STARS\": \"5 stars\",\n",
    "    \"FOUR_STARS\": \"4 stars\",\n",
    "    \"THREE_STARS\": \"3 stars\",\n",
    "    \"TWO_STARS\": \"2 stars\",\n",
    "    \"ONE_STAR\": \"1 star\",\n",
    "}\n",
    "\n",
    "\n",
    "result_2 = Evaluator(\n",
    "    dataset=dataset,\n",
    "    evals=[\n",
    "        LLMChainOfThought(\n",
    "            model=\"gpt-3.5-turbo\",\n",
    "            labels=labels,\n",
    "            context=\"You will get a input text from Yelp review. Please rate it from 1 to 5 stars.\",\n",
    "        ),\n",
    "        LLMClassifier(\n",
    "            model=\"gpt-3.5-turbo\",\n",
    "            labels=labels,\n",
    "        ),\n",
    "    ],\n",
    ").run()\n",
    "\n",
    "\n",
    "print(result_2, \"\\n\")\n",
    "\n",
    "\n",
    "def mapper(row):\n",
    "    return {\n",
    "        \"input\": row[\"input\"],\n",
    "        \"output\": {\n",
    "            \"FIVE_STARS\": 5,\n",
    "            \"FOUR_STARS\": 4,\n",
    "            \"THREE_STARS\": 3,\n",
    "            \"TWO_STARS\": 2,\n",
    "            \"ONE_STAR\": 1,\n",
    "            \"UNKNOWN\": 0,\n",
    "        }[row[\"output\"]],\n",
    "        \"stars\": row[\"stars\"],\n",
    "    }\n",
    "\n",
    "\n",
    "result_2 = result_2.map(mapper)\n",
    "\n",
    "for row in result_2:\n",
    "    print(render_row(row, label_key=\"output\", text_key=\"input\"))"
   ]
  },
  {
   "cell_type": "code",
   "execution_count": 4,
   "metadata": {},
   "outputs": [],
   "source": [
    "eval1_predictions = result_1[\"output\"]\n",
    "eval2_predictions = result_2[\"output\"]"
   ]
  },
  {
   "cell_type": "code",
   "execution_count": 5,
   "metadata": {},
   "outputs": [
    {
     "data": {
      "text/plain": [
       "([5, 0, 0, 0, 5, 1, 0, 0, 3, 0, 0, 5, 4, 1, 0, 5, 0, 0, 5, 0],\n",
       " [5, 4, 2, 2, 5, 1, 4, 3, 4, 4, 5, 5, 4, 1, 1, 5, 5, 4, 5, 4])"
      ]
     },
     "execution_count": 5,
     "metadata": {},
     "output_type": "execute_result"
    }
   ],
   "source": [
    "eval1_predictions, eval2_predictions"
   ]
  },
  {
   "cell_type": "code",
   "execution_count": 6,
   "metadata": {},
   "outputs": [],
   "source": [
    "from fastrepl.eval.metric import load_metric\n",
    "\n",
    "accuracy = load_metric(\"accuracy\")"
   ]
  },
  {
   "cell_type": "code",
   "execution_count": 7,
   "metadata": {},
   "outputs": [
    {
     "name": "stdout",
     "output_type": "stream",
     "text": [
      "1 {'accuracy': 0.35}\n",
      "2 {'accuracy': 0.7}\n"
     ]
    }
   ],
   "source": [
    "references = dataset[\"stars\"]\n",
    "\n",
    "print(1, accuracy.compute(predictions=eval1_predictions, references=references))\n",
    "print(2, accuracy.compute(predictions=eval2_predictions, references=references))"
   ]
  }
 ],
 "metadata": {
  "kernelspec": {
   "display_name": ".venv",
   "language": "python",
   "name": "python3"
  },
  "language_info": {
   "codemirror_mode": {
    "name": "ipython",
    "version": 3
   },
   "file_extension": ".py",
   "mimetype": "text/x-python",
   "name": "python",
   "nbconvert_exporter": "python",
   "pygments_lexer": "ipython3",
   "version": "3.11.3"
  },
  "orig_nbformat": 4
 },
 "nbformat": 4,
 "nbformat_minor": 2
}
